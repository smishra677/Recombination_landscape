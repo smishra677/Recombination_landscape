{
 "cells": [
  {
   "cell_type": "code",
   "execution_count": 1,
   "id": "c2c11d1a",
   "metadata": {},
   "outputs": [],
   "source": [
    "import pandas as pd\n",
    "from collections import Counter"
   ]
  },
  {
   "cell_type": "code",
   "execution_count": 2,
   "id": "03c9e2fc",
   "metadata": {},
   "outputs": [],
   "source": [
    "import os\n",
    "import random\n",
    "import numpy as np\n",
    "import pickle\n",
    "import absl.logging\n",
    "absl.logging.set_verbosity(absl.logging.ERROR)\n",
    "import seaborn as sns\n",
    "import matplotlib.pyplot as plt"
   ]
  },
  {
   "cell_type": "code",
   "execution_count": 36,
   "id": "b8fbd54b",
   "metadata": {},
   "outputs": [],
   "source": [
    "def normalizeTargets(i,file):\n",
    "    ratefile =  os.path.join(file,file+\"_rate.npy\")\n",
    "    \n",
    "    nTargets_1 =np.load(ratefile)\n",
    "    \n",
    "    ratefile_train =  os.path.join('train','train'+\"_rate.npy\")\n",
    "    #ratefile_train =  os.path.join(file,file+\"_rate.npy\")\n",
    "    \n",
    "    nTa =np.load(ratefile_train)\n",
    "    \n",
    "\n",
    "    \n",
    "    mean = np.mean(nTa,axis=0)\n",
    "    std = np.std(nTa,axis=0)\n",
    "    \n",
    "    norm = 'zscore'\n",
    "\n",
    "    if(norm == 'zscore'):\n",
    "        nTargets =nTargets_1- mean\n",
    "        nTargets = np.divide(nTargets,std,out=np.zeros_like(nTargets),where=std!=0)\n",
    "        \n",
    "    else:\n",
    "        nTargets = -np.log(nTargets_1)\n",
    "\n",
    "    return nTargets[i]"
   ]
  },
  {
   "cell_type": "code",
   "execution_count": 37,
   "id": "07a503ed",
   "metadata": {},
   "outputs": [],
   "source": [
    "def de_normalizeTargets(error,file='train'):\n",
    "    ratefile =  os.path.join(file,file+\"_rate.npy\")\n",
    "\n",
    "    nTargets_1 =np.load(ratefile)\n",
    "\n",
    "    ratefile_train =  os.path.join('train','train'+\"_rate.npy\")\n",
    "    \n",
    "    #ratefile_train =  os.path.join(file,file+\"_rate.npy\")\n",
    "    \n",
    "    nTa =np.load(ratefile_train)\n",
    "    \n",
    "\n",
    "    \n",
    "    mean = np.mean(nTa,axis=0)\n",
    "    std = np.std(nTa,axis=0)\n",
    "\n",
    "\n",
    "    erro = np.dot(error,std)+mean\n",
    "\n",
    "    '''\n",
    "    erro = np.exp(-error)\n",
    "    '''\n",
    "    return erro"
   ]
  },
  {
   "cell_type": "code",
   "execution_count": 38,
   "id": "1ffeadc1",
   "metadata": {},
   "outputs": [],
   "source": [
    "def SNP_WINDOW(w,r,i,file):\n",
    " \n",
    "    respectiveNormalizedTargets = [normalizeTargets(i,file)]\n",
    "    targets = np.array(respectiveNormalizedTargets)\n",
    "    lis=[]\n",
    "\n",
    "    for i in w:\n",
    "        co = dict(Counter(i))\n",
    "        if len(co.keys())==2:\n",
    "            lis.append(co[min(co,key=co.get)]/len(i))\n",
    "    bins = np.linspace(0, 1, 20)\n",
    "\n",
    "    bin_means,bins = np.histogram(lis, bins, normed=True, density=True)\n",
    "    bins= bins[1:]\n",
    "    bin_means= bin_means/bin_means.sum()\n",
    "    \n",
    "\n",
    "    \n",
    "    \n",
    "\n",
    "    return np.array(bins),np.array(targets),bin_means"
   ]
  },
  {
   "cell_type": "code",
   "execution_count": 39,
   "id": "87c0e734",
   "metadata": {},
   "outputs": [],
   "source": [
    "def break_window(ha,po,ra,winsize):\n",
    "    print(len(ha))\n",
    "    bins = np.linspace(0, len(ha),winsize)\n",
    "\n",
    "    bin_means,bins = np.histogram(ha, bins)\n",
    "    print(bin_means)"
   ]
  },
  {
   "cell_type": "code",
   "execution_count": 40,
   "id": "633a7779",
   "metadata": {},
   "outputs": [],
   "source": [
    "def __data_generation1(batchTreeIndices,file):\n",
    "\n",
    "        haps = []\n",
    "        pos = []\n",
    "        rate =[]\n",
    "        for treeIndex in batchTreeIndices:\n",
    "            Hfilepath = os.path.join(file,str(treeIndex) + \"_haps.npy\")\n",
    "            Pfilepath = os.path.join(file, str(treeIndex) +\"_pos.npy\")\n",
    "            H = np.load(Hfilepath)\n",
    "            P = np.load(Pfilepath)\n",
    "\n",
    "            haps.append(H)\n",
    "            pos.append(P)\n",
    "\n",
    "        return haps,pos\n",
    "\n",
    "\n",
    "            \n",
    "def __getitem__1(idx,val):\n",
    "    X,x1= __data_generation1([idx],val)\n",
    "    return X,x1"
   ]
  },
  {
   "cell_type": "code",
   "execution_count": 77,
   "id": "64c7f10a",
   "metadata": {},
   "outputs": [
    {
     "name": "stderr",
     "output_type": "stream",
     "text": [
      "/tmp/ipykernel_25642/3638402278.py:13: DeprecationWarning: The normed argument is ignored when density is provided. In future passing both will result in an error.\n",
      "  bin_means,bins = np.histogram(lis, bins, normed=True, density=True)\n"
     ]
    }
   ],
   "source": [
    "lis_train=[]\n",
    "train_=[]\n",
    "for i in range(1000):\n",
    "    x,pos= __getitem__1(i,'train')\n",
    "    \n",
    "    if len(pos[0])>0:\n",
    "        vale2,targets,vale1 = SNP_WINDOW(x[0],pos[0],i,'train')\n",
    "\n",
    "        #lis_train.append(vale1)\n",
    "        lis_train.append(len(pos[0]))\n",
    "        train_.append(targets[0])\n",
    "\n"
   ]
  },
  {
   "cell_type": "code",
   "execution_count": null,
   "id": "d29ec675",
   "metadata": {},
   "outputs": [],
   "source": []
  },
  {
   "cell_type": "code",
   "execution_count": 79,
   "id": "fe5238e8",
   "metadata": {},
   "outputs": [
    {
     "name": "stderr",
     "output_type": "stream",
     "text": [
      "/tmp/ipykernel_25642/3638402278.py:13: DeprecationWarning: The normed argument is ignored when density is provided. In future passing both will result in an error.\n",
      "  bin_means,bins = np.histogram(lis, bins, normed=True, density=True)\n"
     ]
    }
   ],
   "source": [
    "lis_test=[]\n",
    "test_=[]\n",
    "for i in range(50):\n",
    "    x,pos= __getitem__1(i,'test')\n",
    "    if len(pos[0])>0:\n",
    "        vale2,targets,vale1 = SNP_WINDOW(x[0],pos[0],i,'test')\n",
    "        #lis_test.append(vale1)\n",
    "        lis_test.append(len(pos[0]))\n",
    "        test_.append(targets[0])\n",
    "    \n"
   ]
  },
  {
   "cell_type": "code",
   "execution_count": null,
   "id": "4a9081b3",
   "metadata": {},
   "outputs": [],
   "source": []
  },
  {
   "cell_type": "code",
   "execution_count": 80,
   "id": "1be925f1",
   "metadata": {},
   "outputs": [
    {
     "name": "stderr",
     "output_type": "stream",
     "text": [
      "/tmp/ipykernel_25642/3638402278.py:13: DeprecationWarning: The normed argument is ignored when density is provided. In future passing both will result in an error.\n",
      "  bin_means,bins = np.histogram(lis, bins, normed=True, density=True)\n"
     ]
    }
   ],
   "source": [
    "vali_x=[]\n",
    "vali_y=[]\n",
    "for i in range(500):\n",
    "    x,pos= __getitem__1(i,'validation')\n",
    "\n",
    "    if len(pos[0])>0:\n",
    "        vale2,targets,vale1 = SNP_WINDOW(x[0],pos[0],i,'validation')\n",
    "\n",
    "        #vali_x.append(vale1)\n",
    "        vali_x.append(len(pos[0]))\n",
    "        vali_y.append(targets[0])\n",
    "\n"
   ]
  },
  {
   "cell_type": "code",
   "execution_count": 81,
   "id": "1aa9be68",
   "metadata": {},
   "outputs": [],
   "source": [
    "Haps,Pos = __getitem__1(0,'train')"
   ]
  },
  {
   "cell_type": "code",
   "execution_count": null,
   "id": "b7de8066",
   "metadata": {},
   "outputs": [],
   "source": []
  },
  {
   "cell_type": "code",
   "execution_count": 83,
   "id": "33c72d3c",
   "metadata": {},
   "outputs": [
    {
     "data": {
      "text/plain": [
       "15"
      ]
     },
     "execution_count": 83,
     "metadata": {},
     "output_type": "execute_result"
    }
   ],
   "source": [
    "len(Pos[0])"
   ]
  },
  {
   "cell_type": "code",
   "execution_count": 84,
   "id": "ee832667",
   "metadata": {},
   "outputs": [
    {
     "data": {
      "text/plain": [
       "array([ 12.924748,  26.752815,  89.85222 , 127.48715 , 159.73659 ,\n",
       "       199.69556 , 216.37996 , 275.4575  , 556.3572  , 603.2406  ,\n",
       "       655.78546 , 710.2159  , 727.8772  , 783.283   , 900.2309  ],\n",
       "      dtype=float32)"
      ]
     },
     "execution_count": 84,
     "metadata": {},
     "output_type": "execute_result"
    }
   ],
   "source": [
    "Pos[0]"
   ]
  },
  {
   "cell_type": "code",
   "execution_count": 85,
   "id": "299168ef",
   "metadata": {},
   "outputs": [
    {
     "name": "stderr",
     "output_type": "stream",
     "text": [
      "/tmp/ipykernel_25642/3638402278.py:13: DeprecationWarning: The normed argument is ignored when density is provided. In future passing both will result in an error.\n",
      "  bin_means,bins = np.histogram(lis, bins, normed=True, density=True)\n"
     ]
    }
   ],
   "source": [
    "_,target,feature =SNP_WINDOW(Haps[0],Pos[0],0,'train')"
   ]
  },
  {
   "cell_type": "code",
   "execution_count": null,
   "id": "0e06a35a",
   "metadata": {},
   "outputs": [],
   "source": []
  },
  {
   "cell_type": "code",
   "execution_count": 86,
   "id": "e1fe067e",
   "metadata": {},
   "outputs": [
    {
     "data": {
      "text/plain": [
       "array([1.23260141])"
      ]
     },
     "execution_count": 86,
     "metadata": {},
     "output_type": "execute_result"
    }
   ],
   "source": [
    "target"
   ]
  },
  {
   "cell_type": "code",
   "execution_count": 271,
   "id": "63dac1f1",
   "metadata": {},
   "outputs": [],
   "source": [
    "import xgboost as xg\n",
    "from sklearn.metrics import mean_squared_error as MSE\n",
    "xgb_r = xg.XGBRegressor(\n",
    "    #objective = 'reg:linear',\n",
    "    \n",
    "    objective = 'reg:squarederror',\n",
    "    colsample_bytree = 0.5,\n",
    "    learning_rate = 0.05,\n",
    "    max_depth = 6,\n",
    "    min_child_weight = 1,\n",
    "    n_estimators = 1000,\n",
    "    subsample = 0.7\n",
    ")"
   ]
  },
  {
   "cell_type": "code",
   "execution_count": 272,
   "id": "f7088def",
   "metadata": {},
   "outputs": [],
   "source": [
    "#xgb_r = xg.XGBRegressor(objective ='reg:linear',n_estimators = 2500, seed = 123)"
   ]
  },
  {
   "cell_type": "code",
   "execution_count": 273,
   "id": "26571f27",
   "metadata": {},
   "outputs": [],
   "source": [
    "#fd= pd.DataFrame(np.stack(lis_train,axis=1)).T\n",
    "fd= pd.DataFrame(lis_train)"
   ]
  },
  {
   "cell_type": "code",
   "execution_count": 274,
   "id": "def7007f",
   "metadata": {},
   "outputs": [
    {
     "data": {
      "text/html": [
       "<div>\n",
       "<style scoped>\n",
       "    .dataframe tbody tr th:only-of-type {\n",
       "        vertical-align: middle;\n",
       "    }\n",
       "\n",
       "    .dataframe tbody tr th {\n",
       "        vertical-align: top;\n",
       "    }\n",
       "\n",
       "    .dataframe thead th {\n",
       "        text-align: right;\n",
       "    }\n",
       "</style>\n",
       "<table border=\"1\" class=\"dataframe\">\n",
       "  <thead>\n",
       "    <tr style=\"text-align: right;\">\n",
       "      <th></th>\n",
       "      <th>0</th>\n",
       "    </tr>\n",
       "  </thead>\n",
       "  <tbody>\n",
       "    <tr>\n",
       "      <th>0</th>\n",
       "      <td>15</td>\n",
       "    </tr>\n",
       "    <tr>\n",
       "      <th>1</th>\n",
       "      <td>11</td>\n",
       "    </tr>\n",
       "    <tr>\n",
       "      <th>2</th>\n",
       "      <td>11</td>\n",
       "    </tr>\n",
       "    <tr>\n",
       "      <th>3</th>\n",
       "      <td>10</td>\n",
       "    </tr>\n",
       "    <tr>\n",
       "      <th>4</th>\n",
       "      <td>10</td>\n",
       "    </tr>\n",
       "    <tr>\n",
       "      <th>...</th>\n",
       "      <td>...</td>\n",
       "    </tr>\n",
       "    <tr>\n",
       "      <th>995</th>\n",
       "      <td>13</td>\n",
       "    </tr>\n",
       "    <tr>\n",
       "      <th>996</th>\n",
       "      <td>10</td>\n",
       "    </tr>\n",
       "    <tr>\n",
       "      <th>997</th>\n",
       "      <td>6</td>\n",
       "    </tr>\n",
       "    <tr>\n",
       "      <th>998</th>\n",
       "      <td>6</td>\n",
       "    </tr>\n",
       "    <tr>\n",
       "      <th>999</th>\n",
       "      <td>8</td>\n",
       "    </tr>\n",
       "  </tbody>\n",
       "</table>\n",
       "<p>1000 rows × 1 columns</p>\n",
       "</div>"
      ],
      "text/plain": [
       "      0\n",
       "0    15\n",
       "1    11\n",
       "2    11\n",
       "3    10\n",
       "4    10\n",
       "..   ..\n",
       "995  13\n",
       "996  10\n",
       "997   6\n",
       "998   6\n",
       "999   8\n",
       "\n",
       "[1000 rows x 1 columns]"
      ]
     },
     "execution_count": 274,
     "metadata": {},
     "output_type": "execute_result"
    }
   ],
   "source": [
    "fd"
   ]
  },
  {
   "cell_type": "code",
   "execution_count": 275,
   "id": "e737cd9f",
   "metadata": {},
   "outputs": [],
   "source": [
    "target =pd.DataFrame(train_,columns=['target'])"
   ]
  },
  {
   "cell_type": "code",
   "execution_count": 276,
   "id": "0aee78dc",
   "metadata": {},
   "outputs": [
    {
     "data": {
      "text/html": [
       "<div>\n",
       "<style scoped>\n",
       "    .dataframe tbody tr th:only-of-type {\n",
       "        vertical-align: middle;\n",
       "    }\n",
       "\n",
       "    .dataframe tbody tr th {\n",
       "        vertical-align: top;\n",
       "    }\n",
       "\n",
       "    .dataframe thead th {\n",
       "        text-align: right;\n",
       "    }\n",
       "</style>\n",
       "<table border=\"1\" class=\"dataframe\">\n",
       "  <thead>\n",
       "    <tr style=\"text-align: right;\">\n",
       "      <th></th>\n",
       "      <th>target</th>\n",
       "    </tr>\n",
       "  </thead>\n",
       "  <tbody>\n",
       "    <tr>\n",
       "      <th>0</th>\n",
       "      <td>1.232601</td>\n",
       "    </tr>\n",
       "    <tr>\n",
       "      <th>1</th>\n",
       "      <td>-0.236719</td>\n",
       "    </tr>\n",
       "    <tr>\n",
       "      <th>2</th>\n",
       "      <td>-1.329088</td>\n",
       "    </tr>\n",
       "    <tr>\n",
       "      <th>3</th>\n",
       "      <td>-0.783953</td>\n",
       "    </tr>\n",
       "    <tr>\n",
       "      <th>4</th>\n",
       "      <td>-1.449027</td>\n",
       "    </tr>\n",
       "    <tr>\n",
       "      <th>...</th>\n",
       "      <td>...</td>\n",
       "    </tr>\n",
       "    <tr>\n",
       "      <th>995</th>\n",
       "      <td>1.654261</td>\n",
       "    </tr>\n",
       "    <tr>\n",
       "      <th>996</th>\n",
       "      <td>-0.745232</td>\n",
       "    </tr>\n",
       "    <tr>\n",
       "      <th>997</th>\n",
       "      <td>1.439610</td>\n",
       "    </tr>\n",
       "    <tr>\n",
       "      <th>998</th>\n",
       "      <td>1.747836</td>\n",
       "    </tr>\n",
       "    <tr>\n",
       "      <th>999</th>\n",
       "      <td>-0.667754</td>\n",
       "    </tr>\n",
       "  </tbody>\n",
       "</table>\n",
       "<p>1000 rows × 1 columns</p>\n",
       "</div>"
      ],
      "text/plain": [
       "       target\n",
       "0    1.232601\n",
       "1   -0.236719\n",
       "2   -1.329088\n",
       "3   -0.783953\n",
       "4   -1.449027\n",
       "..        ...\n",
       "995  1.654261\n",
       "996 -0.745232\n",
       "997  1.439610\n",
       "998  1.747836\n",
       "999 -0.667754\n",
       "\n",
       "[1000 rows x 1 columns]"
      ]
     },
     "execution_count": 276,
     "metadata": {},
     "output_type": "execute_result"
    }
   ],
   "source": [
    "target"
   ]
  },
  {
   "cell_type": "code",
   "execution_count": null,
   "id": "75cb9f2d",
   "metadata": {},
   "outputs": [],
   "source": []
  },
  {
   "cell_type": "code",
   "execution_count": null,
   "id": "dea3d50d",
   "metadata": {},
   "outputs": [],
   "source": []
  },
  {
   "cell_type": "code",
   "execution_count": 277,
   "id": "ed4dee17",
   "metadata": {},
   "outputs": [
    {
     "name": "stdout",
     "output_type": "stream",
     "text": [
      "[14:29:20] WARNING: ../src/objective/regression_obj.cu:203: reg:linear is now deprecated in favor of reg:squarederror.\n"
     ]
    },
    {
     "data": {
      "text/plain": [
       "XGBRegressor(base_score=0.5, booster='gbtree', callbacks=None,\n",
       "             colsample_bylevel=1, colsample_bynode=1, colsample_bytree=0.5,\n",
       "             early_stopping_rounds=None, enable_categorical=False,\n",
       "             eval_metric=None, gamma=0, gpu_id=-1, grow_policy='depthwise',\n",
       "             importance_type=None, interaction_constraints='',\n",
       "             learning_rate=0.05, max_bin=256, max_cat_to_onehot=4,\n",
       "             max_delta_step=0, max_depth=6, max_leaves=0, min_child_weight=1,\n",
       "             missing=nan, monotone_constraints='()', n_estimators=1000,\n",
       "             n_jobs=0, num_parallel_tree=1, objective='reg:linear',\n",
       "             predictor='auto', random_state=0, reg_alpha=0, ...)"
      ]
     },
     "execution_count": 277,
     "metadata": {},
     "output_type": "execute_result"
    }
   ],
   "source": [
    "xgb_r.fit(fd,target)\n",
    "#pred = xgb_r.predict(np.vstack(feature))\n",
    "\n"
   ]
  },
  {
   "cell_type": "code",
   "execution_count": 261,
   "id": "957d672e",
   "metadata": {},
   "outputs": [],
   "source": [
    "#pred = xgb_r.predict(pd.DataFrame(np.stack(lis_test,axis=1)).T)\n",
    "\n",
    "pred = xgb_r.predict(pd.DataFrame(vali_x))"
   ]
  },
  {
   "cell_type": "code",
   "execution_count": 262,
   "id": "8a8088dc",
   "metadata": {},
   "outputs": [
    {
     "data": {
      "text/plain": [
       "array([ 0.33088937, -0.6220189 ,  0.33088937,  0.5889075 ,  0.5889075 ,\n",
       "        1.304166  , -0.6220189 ,  0.27740994, -0.6220189 ,  0.0786663 ,\n",
       "       -0.7559814 ,  0.0786663 , -0.7559814 ,  0.93671423, -0.5522876 ,\n",
       "        0.5889075 , -0.6220189 , -0.5517564 ,  0.04849057, -0.5522876 ,\n",
       "        0.9866763 , -0.5517564 , -0.7559814 , -0.7559814 , -0.7559814 ,\n",
       "       -0.6220189 , -0.6220189 ,  0.5889075 ,  0.93671423,  1.304166  ,\n",
       "       -0.6220189 , -1.2639241 , -0.5522876 , -0.6220189 , -0.5517564 ,\n",
       "       -0.14509949,  0.93671423, -0.5517564 ,  0.5889075 ,  0.5889075 ,\n",
       "       -0.5522876 ,  0.59184265,  0.59184265,  0.0786663 ,  0.5889075 ,\n",
       "        0.27740994, -1.2639241 , -0.14509949, -0.5517564 , -0.5517564 ,\n",
       "       -0.6220189 ,  1.304166  ,  0.27740994, -1.2639241 ,  0.5889075 ,\n",
       "       -0.7559814 , -0.6220189 , -0.5517564 ,  0.59184265, -0.7559814 ,\n",
       "       -0.7559814 ,  0.5889075 , -1.2639241 ,  0.5889075 ,  0.93671423,\n",
       "        0.5889075 ,  0.93671423,  0.5889075 , -0.5517564 ,  0.59184265,\n",
       "        0.5889075 ,  0.33088937, -0.7559814 , -0.6220189 , -0.6220189 ,\n",
       "       -1.2639241 ,  0.04849057, -0.14509949, -0.7559814 ,  0.59184265,\n",
       "       -0.14509949, -0.04554909, -0.5517564 ,  0.9866763 ,  0.33088937,\n",
       "        0.93671423,  0.9866763 ,  0.93671423,  0.5889075 ,  1.304166  ,\n",
       "        0.33088937, -0.14509949,  1.304166  , -0.6220189 ,  0.33088937,\n",
       "       -0.14509949,  1.304166  ,  0.5889075 ,  1.304166  ,  0.0786663 ,\n",
       "       -1.2639241 , -0.5517564 ,  0.33088937, -0.5517564 , -1.6926349 ,\n",
       "        0.5889075 ,  0.59184265,  0.5889075 ,  0.59184265,  0.9866763 ,\n",
       "       -0.6220189 , -0.5517564 ,  0.59184265,  0.50901145,  0.27740994,\n",
       "        0.5889075 ,  0.93671423, -1.2639241 ,  0.59184265,  0.33088937,\n",
       "       -0.6220189 ,  1.304166  , -0.14509949,  0.59184265,  0.59184265,\n",
       "       -0.6220189 , -0.5517564 ,  0.59184265, -0.6220189 , -0.7559814 ,\n",
       "       -0.5517564 ,  0.93671423, -0.04554909, -1.2639241 ,  1.144819  ,\n",
       "       -0.6220189 ,  0.59184265,  0.93671423,  0.14306898, -0.14509949,\n",
       "        0.5889075 , -1.2639241 ,  0.5889075 ,  0.59184265,  0.27740994,\n",
       "       -0.7559814 , -0.5522876 ,  0.59184265,  0.5889075 , -0.7559814 ,\n",
       "        0.59184265, -0.6220189 , -0.5522876 ,  0.93671423, -0.5522876 ,\n",
       "        1.144819  ,  0.27740994, -0.6220189 ,  0.59184265, -0.5517564 ,\n",
       "       -0.6220189 , -0.14509949,  0.59184265, -0.5517564 , -0.5517564 ,\n",
       "       -0.14509949,  0.5889075 , -0.7559814 ,  1.304166  , -0.7559814 ,\n",
       "       -0.7559814 ,  0.27740994,  0.27740994,  0.5889075 ,  0.0786663 ,\n",
       "        0.5889075 ,  1.304166  ,  1.304166  ,  0.5889075 , -0.7559814 ,\n",
       "       -0.6220189 ,  0.5889075 ,  0.5889075 , -0.7559814 , -0.6220189 ,\n",
       "       -1.2639241 , -1.2639241 , -0.7559814 , -0.14509949, -0.7559814 ,\n",
       "        0.93671423,  0.59184265, -0.6220189 ,  0.93671423,  1.144819  ,\n",
       "        0.5889075 ,  0.59184265, -0.6220189 , -0.14509949, -0.5522876 ,\n",
       "       -0.6220189 ,  0.33088937, -0.6220189 ,  1.304166  , -0.5522876 ,\n",
       "       -0.6220189 ,  1.304166  ,  0.27740994, -0.14509949,  0.59184265,\n",
       "       -0.5517564 , -0.5522876 , -0.5522876 ,  0.5889075 , -0.5517564 ,\n",
       "        0.33088937,  0.27740994,  0.5889075 , -0.5522876 ,  0.04849057,\n",
       "        0.27740994,  0.59184265, -0.14509949, -0.7559814 , -0.7559814 ,\n",
       "        0.93671423,  0.93671423, -0.6220189 ,  1.304166  ,  0.33088937,\n",
       "       -0.7559814 , -0.7559814 ,  1.304166  , -0.7559814 , -0.6220189 ,\n",
       "        0.33088937,  0.59184265, -0.7559814 ,  0.0786663 , -0.7559814 ,\n",
       "       -0.6220189 , -0.7559814 , -0.14509949,  0.59184265, -0.6220189 ,\n",
       "        0.59184265,  1.304166  ,  0.59184265, -0.7559814 ,  0.5889075 ,\n",
       "        0.27740994,  1.304166  ,  0.5889075 , -0.5522876 ,  0.5889075 ,\n",
       "        0.93671423,  1.304166  , -0.5522876 ,  0.9866763 ,  1.304166  ,\n",
       "       -0.6220189 ,  0.59184265, -0.5522876 ,  1.304166  , -0.5522876 ,\n",
       "        0.59184265,  0.93671423, -1.2639241 ,  0.59184265,  1.304166  ,\n",
       "        0.5889075 , -0.14509949,  0.59184265, -0.6220189 , -0.5522876 ,\n",
       "        0.59184265,  1.304166  ,  0.5889075 ,  0.27740994, -1.2639241 ,\n",
       "       -0.6220189 , -0.14509949, -0.5517564 ,  0.59184265,  0.5889075 ,\n",
       "       -0.5517564 ,  0.5889075 , -0.7559814 , -0.14509949,  0.59184265,\n",
       "       -0.6220189 , -0.14509949,  0.93671423, -0.7559814 ,  0.5889075 ,\n",
       "        0.0786663 , -0.14509949,  0.5889075 ,  0.5889075 ,  0.5889075 ,\n",
       "        0.59184265,  1.304166  ,  0.27740994, -0.7559814 , -1.6926349 ,\n",
       "        0.0786663 , -0.6220189 , -0.6220189 , -0.5517564 ,  1.304166  ,\n",
       "        0.5889075 ,  0.5889075 ,  0.93671423, -0.7559814 , -1.2639241 ,\n",
       "        0.50901145,  0.59184265, -0.6220189 ,  0.27740994, -0.6220189 ,\n",
       "       -0.6220189 , -0.6220189 ,  1.144819  ,  0.50901145, -0.04554909,\n",
       "        0.33088937, -0.6220189 ,  0.27740994,  1.304166  ,  1.304166  ,\n",
       "        1.304166  , -0.5522876 ,  0.27740994,  0.0786663 , -0.14509949,\n",
       "        0.59184265,  0.5889075 , -0.5517564 , -0.14509949,  0.93671423,\n",
       "       -0.5517564 ,  1.304166  , -0.5522876 ,  1.304166  , -1.2639241 ,\n",
       "        0.59184265,  0.9866763 , -0.7559814 , -0.6220189 ,  0.59184265,\n",
       "       -0.7559814 ,  0.59184265, -0.5522876 ,  0.27740994, -0.5522876 ,\n",
       "        1.304166  ,  0.93671423, -0.5517564 ,  0.59184265,  0.59184265,\n",
       "       -0.6220189 ,  0.59184265, -0.6220189 , -0.6220189 ,  0.27740994,\n",
       "        0.33088937,  0.59184265, -0.5517564 , -0.04554909, -1.2639241 ,\n",
       "        0.59184265, -0.7559814 ,  0.33088937,  1.304166  ,  0.27740994,\n",
       "        0.93671423,  0.50901145,  0.59184265,  0.5889075 ,  1.304166  ,\n",
       "        0.59184265, -0.5517564 , -0.5517564 ,  0.5889075 , -0.7559814 ,\n",
       "        1.304166  ,  0.9866763 ,  0.27740994,  0.27740994, -0.6220189 ,\n",
       "       -0.04554909, -0.5517564 , -0.5522876 ,  0.5889075 , -0.5517564 ,\n",
       "        0.33088937,  0.33088937, -0.14509949, -0.6220189 ,  1.304166  ,\n",
       "        0.5889075 , -0.7559814 , -0.6220189 , -0.5522876 ,  0.59184265,\n",
       "        0.9866763 ,  0.0786663 ,  0.9866763 ,  1.304166  ,  0.27740994,\n",
       "        0.33088937, -0.04554909,  0.5889075 ,  1.304166  , -0.7559814 ,\n",
       "       -0.7559814 , -0.6220189 , -0.5522876 ,  1.304166  , -0.7559814 ,\n",
       "       -0.5517564 , -0.5517564 , -0.6220189 , -0.5522876 , -0.5517564 ,\n",
       "        0.33088937,  0.27740994, -0.7559814 , -0.5517564 , -0.5522876 ,\n",
       "        0.27740994,  0.27740994, -0.14509949, -0.7559814 ,  0.93671423,\n",
       "        0.59184265, -0.7559814 ,  1.304166  , -0.14509949,  0.33088937,\n",
       "        1.304166  , -0.6220189 , -0.7559814 ,  0.27740994, -0.14509949,\n",
       "       -0.5522876 , -0.7559814 , -1.2639241 , -0.7559814 , -0.6220189 ,\n",
       "        0.9866763 , -0.5517564 ,  0.14306898,  0.93671423,  0.27740994,\n",
       "       -0.5517564 ,  0.59184265, -0.6220189 ,  0.5889075 ,  0.59184265,\n",
       "        1.304166  ,  0.59184265,  0.0786663 , -1.2639241 , -0.5522876 ,\n",
       "        0.93671423, -0.14509949,  0.5889075 , -0.14509949,  0.04849057,\n",
       "       -0.6220189 , -0.6220189 ,  0.50901145, -0.6220189 ,  0.59184265,\n",
       "       -0.14509949, -0.14509949, -0.7559814 ,  0.93671423, -0.14509949,\n",
       "       -0.6220189 ,  0.27740994,  0.59184265, -0.6220189 ,  0.9866763 ,\n",
       "        0.59184265,  0.5889075 , -0.6220189 ,  1.144819  , -0.6220189 ,\n",
       "       -0.5517564 , -0.5517564 , -1.2639241 , -0.5522876 ,  0.59184265,\n",
       "       -0.7559814 ,  0.5889075 ,  0.14306898,  0.0786663 , -0.5517564 ],\n",
       "      dtype=float32)"
      ]
     },
     "execution_count": 262,
     "metadata": {},
     "output_type": "execute_result"
    }
   ],
   "source": [
    "pred"
   ]
  },
  {
   "cell_type": "code",
   "execution_count": 263,
   "id": "2a241d28",
   "metadata": {},
   "outputs": [],
   "source": [
    "pred_df =pd.DataFrame(de_normalizeTargets(pred,'validation'))"
   ]
  },
  {
   "cell_type": "code",
   "execution_count": 264,
   "id": "de949897",
   "metadata": {},
   "outputs": [
    {
     "data": {
      "text/html": [
       "<div>\n",
       "<style scoped>\n",
       "    .dataframe tbody tr th:only-of-type {\n",
       "        vertical-align: middle;\n",
       "    }\n",
       "\n",
       "    .dataframe tbody tr th {\n",
       "        vertical-align: top;\n",
       "    }\n",
       "\n",
       "    .dataframe thead th {\n",
       "        text-align: right;\n",
       "    }\n",
       "</style>\n",
       "<table border=\"1\" class=\"dataframe\">\n",
       "  <thead>\n",
       "    <tr style=\"text-align: right;\">\n",
       "      <th></th>\n",
       "      <th>0</th>\n",
       "    </tr>\n",
       "  </thead>\n",
       "  <tbody>\n",
       "    <tr>\n",
       "      <th>0</th>\n",
       "      <td>6.295511e-07</td>\n",
       "    </tr>\n",
       "    <tr>\n",
       "      <th>1</th>\n",
       "      <td>3.811223e-07</td>\n",
       "    </tr>\n",
       "    <tr>\n",
       "      <th>2</th>\n",
       "      <td>6.295511e-07</td>\n",
       "    </tr>\n",
       "    <tr>\n",
       "      <th>3</th>\n",
       "      <td>6.968180e-07</td>\n",
       "    </tr>\n",
       "    <tr>\n",
       "      <th>4</th>\n",
       "      <td>6.968180e-07</td>\n",
       "    </tr>\n",
       "    <tr>\n",
       "      <th>...</th>\n",
       "      <td>...</td>\n",
       "    </tr>\n",
       "    <tr>\n",
       "      <th>495</th>\n",
       "      <td>3.461974e-07</td>\n",
       "    </tr>\n",
       "    <tr>\n",
       "      <th>496</th>\n",
       "      <td>6.968180e-07</td>\n",
       "    </tr>\n",
       "    <tr>\n",
       "      <th>497</th>\n",
       "      <td>5.805852e-07</td>\n",
       "    </tr>\n",
       "    <tr>\n",
       "      <th>498</th>\n",
       "      <td>5.637951e-07</td>\n",
       "    </tr>\n",
       "    <tr>\n",
       "      <th>499</th>\n",
       "      <td>3.994401e-07</td>\n",
       "    </tr>\n",
       "  </tbody>\n",
       "</table>\n",
       "<p>500 rows × 1 columns</p>\n",
       "</div>"
      ],
      "text/plain": [
       "                0\n",
       "0    6.295511e-07\n",
       "1    3.811223e-07\n",
       "2    6.295511e-07\n",
       "3    6.968180e-07\n",
       "4    6.968180e-07\n",
       "..            ...\n",
       "495  3.461974e-07\n",
       "496  6.968180e-07\n",
       "497  5.805852e-07\n",
       "498  5.637951e-07\n",
       "499  3.994401e-07\n",
       "\n",
       "[500 rows x 1 columns]"
      ]
     },
     "execution_count": 264,
     "metadata": {},
     "output_type": "execute_result"
    }
   ],
   "source": [
    "pred_df"
   ]
  },
  {
   "cell_type": "code",
   "execution_count": 265,
   "id": "06688177",
   "metadata": {},
   "outputs": [],
   "source": [
    "true_df = pd.DataFrame(de_normalizeTargets(np.array(vali_y),'validation'))"
   ]
  },
  {
   "cell_type": "code",
   "execution_count": 266,
   "id": "026ae48c",
   "metadata": {},
   "outputs": [
    {
     "data": {
      "text/html": [
       "<div>\n",
       "<style scoped>\n",
       "    .dataframe tbody tr th:only-of-type {\n",
       "        vertical-align: middle;\n",
       "    }\n",
       "\n",
       "    .dataframe tbody tr th {\n",
       "        vertical-align: top;\n",
       "    }\n",
       "\n",
       "    .dataframe thead th {\n",
       "        text-align: right;\n",
       "    }\n",
       "</style>\n",
       "<table border=\"1\" class=\"dataframe\">\n",
       "  <thead>\n",
       "    <tr style=\"text-align: right;\">\n",
       "      <th></th>\n",
       "      <th>0</th>\n",
       "    </tr>\n",
       "  </thead>\n",
       "  <tbody>\n",
       "    <tr>\n",
       "      <th>0</th>\n",
       "      <td>7.142550e-07</td>\n",
       "    </tr>\n",
       "    <tr>\n",
       "      <th>1</th>\n",
       "      <td>2.370434e-07</td>\n",
       "    </tr>\n",
       "    <tr>\n",
       "      <th>2</th>\n",
       "      <td>4.270629e-07</td>\n",
       "    </tr>\n",
       "    <tr>\n",
       "      <th>3</th>\n",
       "      <td>6.883131e-07</td>\n",
       "    </tr>\n",
       "    <tr>\n",
       "      <th>4</th>\n",
       "      <td>6.706861e-07</td>\n",
       "    </tr>\n",
       "    <tr>\n",
       "      <th>...</th>\n",
       "      <td>...</td>\n",
       "    </tr>\n",
       "    <tr>\n",
       "      <th>495</th>\n",
       "      <td>6.255198e-07</td>\n",
       "    </tr>\n",
       "    <tr>\n",
       "      <th>496</th>\n",
       "      <td>7.606077e-07</td>\n",
       "    </tr>\n",
       "    <tr>\n",
       "      <th>497</th>\n",
       "      <td>5.798555e-07</td>\n",
       "    </tr>\n",
       "    <tr>\n",
       "      <th>498</th>\n",
       "      <td>5.826889e-07</td>\n",
       "    </tr>\n",
       "    <tr>\n",
       "      <th>499</th>\n",
       "      <td>9.647573e-07</td>\n",
       "    </tr>\n",
       "  </tbody>\n",
       "</table>\n",
       "<p>500 rows × 1 columns</p>\n",
       "</div>"
      ],
      "text/plain": [
       "                0\n",
       "0    7.142550e-07\n",
       "1    2.370434e-07\n",
       "2    4.270629e-07\n",
       "3    6.883131e-07\n",
       "4    6.706861e-07\n",
       "..            ...\n",
       "495  6.255198e-07\n",
       "496  7.606077e-07\n",
       "497  5.798555e-07\n",
       "498  5.826889e-07\n",
       "499  9.647573e-07\n",
       "\n",
       "[500 rows x 1 columns]"
      ]
     },
     "execution_count": 266,
     "metadata": {},
     "output_type": "execute_result"
    }
   ],
   "source": [
    "true_df"
   ]
  },
  {
   "cell_type": "code",
   "execution_count": 278,
   "id": "a9d493b9",
   "metadata": {},
   "outputs": [
    {
     "data": {
      "image/png": "[encoded data removed]",
      "text/plain": [
       "<Figure size 432x288 with 1 Axes>"
      ]
     },
     "metadata": {
      "needs_background": "light"
     },
     "output_type": "display_data"
    }
   ],
   "source": [
    "(pred_df-true_df)\n",
    "\n",
    "import seaborn as sns\n",
    "\n",
    "\n",
    "frames = [true_df, pred_df]\n",
    "\n",
    "\n",
    "result =pd.concat([true_df,pred_df.rename(columns={'b':'a'})], ignore_index=True,axis=1)\n",
    "sns.scatterplot(data=result,x=1,y=0)\n",
    " \n",
    "# Show the plot\n",
    "plt.show()"
   ]
  },
  {
   "cell_type": "code",
   "execution_count": 268,
   "id": "27b00c6b",
   "metadata": {},
   "outputs": [
    {
     "data": {
      "text/html": [
       "<div>\n",
       "<style scoped>\n",
       "    .dataframe tbody tr th:only-of-type {\n",
       "        vertical-align: middle;\n",
       "    }\n",
       "\n",
       "    .dataframe tbody tr th {\n",
       "        vertical-align: top;\n",
       "    }\n",
       "\n",
       "    .dataframe thead th {\n",
       "        text-align: right;\n",
       "    }\n",
       "</style>\n",
       "<table border=\"1\" class=\"dataframe\">\n",
       "  <thead>\n",
       "    <tr style=\"text-align: right;\">\n",
       "      <th></th>\n",
       "      <th>0</th>\n",
       "      <th>1</th>\n",
       "    </tr>\n",
       "  </thead>\n",
       "  <tbody>\n",
       "    <tr>\n",
       "      <th>0</th>\n",
       "      <td>7.142550e-07</td>\n",
       "      <td>6.295511e-07</td>\n",
       "    </tr>\n",
       "    <tr>\n",
       "      <th>1</th>\n",
       "      <td>2.370434e-07</td>\n",
       "      <td>3.811223e-07</td>\n",
       "    </tr>\n",
       "    <tr>\n",
       "      <th>2</th>\n",
       "      <td>4.270629e-07</td>\n",
       "      <td>6.295511e-07</td>\n",
       "    </tr>\n",
       "    <tr>\n",
       "      <th>3</th>\n",
       "      <td>6.883131e-07</td>\n",
       "      <td>6.968180e-07</td>\n",
       "    </tr>\n",
       "    <tr>\n",
       "      <th>4</th>\n",
       "      <td>6.706861e-07</td>\n",
       "      <td>6.968180e-07</td>\n",
       "    </tr>\n",
       "    <tr>\n",
       "      <th>...</th>\n",
       "      <td>...</td>\n",
       "      <td>...</td>\n",
       "    </tr>\n",
       "    <tr>\n",
       "      <th>495</th>\n",
       "      <td>6.255198e-07</td>\n",
       "      <td>3.461974e-07</td>\n",
       "    </tr>\n",
       "    <tr>\n",
       "      <th>496</th>\n",
       "      <td>7.606077e-07</td>\n",
       "      <td>6.968180e-07</td>\n",
       "    </tr>\n",
       "    <tr>\n",
       "      <th>497</th>\n",
       "      <td>5.798555e-07</td>\n",
       "      <td>5.805852e-07</td>\n",
       "    </tr>\n",
       "    <tr>\n",
       "      <th>498</th>\n",
       "      <td>5.826889e-07</td>\n",
       "      <td>5.637951e-07</td>\n",
       "    </tr>\n",
       "    <tr>\n",
       "      <th>499</th>\n",
       "      <td>9.647573e-07</td>\n",
       "      <td>3.994401e-07</td>\n",
       "    </tr>\n",
       "  </tbody>\n",
       "</table>\n",
       "<p>500 rows × 2 columns</p>\n",
       "</div>"
      ],
      "text/plain": [
       "                0             1\n",
       "0    7.142550e-07  6.295511e-07\n",
       "1    2.370434e-07  3.811223e-07\n",
       "2    4.270629e-07  6.295511e-07\n",
       "3    6.883131e-07  6.968180e-07\n",
       "4    6.706861e-07  6.968180e-07\n",
       "..            ...           ...\n",
       "495  6.255198e-07  3.461974e-07\n",
       "496  7.606077e-07  6.968180e-07\n",
       "497  5.798555e-07  5.805852e-07\n",
       "498  5.826889e-07  5.637951e-07\n",
       "499  9.647573e-07  3.994401e-07\n",
       "\n",
       "[500 rows x 2 columns]"
      ]
     },
     "execution_count": 268,
     "metadata": {},
     "output_type": "execute_result"
    }
   ],
   "source": [
    "result"
   ]
  },
  {
   "cell_type": "code",
   "execution_count": 292,
   "id": "58902400",
   "metadata": {},
   "outputs": [
    {
     "data": {
      "image/png": "[encoded data removed]",
      "text/plain": [
       "<Figure size 432x288 with 1 Axes>"
      ]
     },
     "metadata": {
      "needs_background": "light"
     },
     "output_type": "display_data"
    }
   ],
   "source": [
    "plt.clf()\n",
    "result =pd.concat([fd,pd.DataFrame(de_normalizeTargets(train_,'train')).rename(columns={'b':'a'})], ignore_index=True,axis=1)\n",
    "sns.scatterplot(data=result,x=1,y=0)\n",
    " \n",
    "# Show the plot\n",
    "plt.show()\n"
   ]
  },
  {
   "cell_type": "code",
   "execution_count": 287,
   "id": "55815716",
   "metadata": {},
   "outputs": [],
   "source": [
    "from scipy.stats import spearmanr\n",
    "rho, p = spearmanr(fd,pd.DataFrame(de_normalizeTargets(train_,'train')))\n"
   ]
  },
  {
   "cell_type": "code",
   "execution_count": 289,
   "id": "0dbacdbd",
   "metadata": {},
   "outputs": [
    {
     "data": {
      "text/plain": [
       "array([8.64632831e-07, 4.81572218e-07, 1.96785055e-07, 3.38905014e-07,\n",
       "       1.65516227e-07, 5.16716342e-07, 2.97334934e-07, 1.38864007e-07,\n",
       "       4.18737371e-07, 9.04396874e-07, 2.61849330e-07, 2.14987948e-07,\n",
       "       9.09989357e-07, 7.69841383e-07, 9.25662773e-07, 3.93396931e-07,\n",
       "       1.29161131e-07, 7.98421572e-07, 9.55270501e-07, 8.10529217e-07,\n",
       "       1.25928026e-07, 8.35141613e-07, 4.61128779e-07, 1.41971141e-07,\n",
       "       7.17377096e-07, 2.12014921e-07, 6.44845424e-07, 4.80008659e-07,\n",
       "       4.01444756e-07, 2.42414675e-07, 6.89191291e-07, 6.23817606e-07,\n",
       "       6.21915429e-07, 4.67353741e-07, 1.24580807e-07, 8.25314292e-07,\n",
       "       6.16226142e-07, 9.23452729e-07, 3.13902583e-07, 9.65940915e-07,\n",
       "       4.34706118e-07, 2.20415096e-07, 4.31116700e-07, 5.25598157e-07,\n",
       "       6.24659840e-07, 1.07300185e-07, 7.59562402e-07, 5.40507363e-07,\n",
       "       8.09184214e-07, 4.10309254e-07, 5.55338173e-07, 1.51388096e-07,\n",
       "       1.21431658e-07, 5.75249367e-07, 5.19228693e-07, 3.61676171e-07,\n",
       "       5.58763910e-07, 8.89839175e-07, 3.99612548e-07, 9.15535486e-07,\n",
       "       5.48818814e-07, 3.95060918e-07, 8.04441491e-07, 9.44860387e-07,\n",
       "       1.10373511e-07, 8.66410519e-07, 2.70804306e-07, 4.51269445e-07,\n",
       "       6.63482586e-07, 2.68939727e-07, 7.73691846e-07, 5.09602607e-07,\n",
       "       1.64502113e-07, 2.29184045e-07, 1.26434202e-07, 9.78195933e-07,\n",
       "       6.32322367e-07, 1.00991092e-07, 3.31889320e-07, 4.00924487e-07,\n",
       "       9.13050388e-07, 9.54120321e-07, 7.82479761e-07, 6.80242799e-07,\n",
       "       5.26534014e-07, 4.80426156e-07, 8.56572500e-07, 9.35854304e-07,\n",
       "       9.74139445e-07, 9.99042538e-07, 3.90420898e-07, 7.05450932e-07,\n",
       "       5.10358583e-07, 5.19459095e-07, 6.69329588e-07, 3.20874312e-07,\n",
       "       5.84043565e-07, 7.27126732e-07, 1.88662686e-07, 4.63461401e-07,\n",
       "       4.89005699e-07, 3.27060167e-07, 4.80627418e-07, 7.83170824e-07,\n",
       "       4.70276330e-07, 1.59065457e-07, 3.09115261e-07, 4.49771135e-07,\n",
       "       1.58186326e-07, 1.69914725e-07, 8.80266536e-07, 2.05520677e-07,\n",
       "       2.52632742e-07, 7.72094786e-07, 7.43393344e-07, 3.86549736e-07,\n",
       "       1.16805123e-07, 2.91461659e-07, 3.90672322e-07, 3.28363846e-07,\n",
       "       1.57343160e-07, 9.78817087e-07, 8.26020877e-07, 5.59409509e-07,\n",
       "       8.94324075e-07, 8.74176307e-07, 4.34427435e-07, 9.88901474e-07,\n",
       "       3.86377329e-07, 2.77378245e-07, 9.47249023e-07, 2.48279147e-07,\n",
       "       1.58855669e-07, 8.41229232e-07, 5.27079459e-07, 7.64854748e-07,\n",
       "       2.61335122e-07, 2.55524422e-07, 8.61591696e-07, 6.86252621e-07,\n",
       "       2.30352901e-07, 1.00245844e-07, 9.55098855e-07, 2.60305324e-07,\n",
       "       1.94767742e-07, 3.69538947e-07, 2.52251998e-07, 4.27487864e-07,\n",
       "       6.11387922e-07, 8.57587949e-07, 7.15549619e-07, 2.86708661e-07,\n",
       "       8.49363296e-07, 4.96700688e-07, 2.52129362e-07, 1.68422430e-07,\n",
       "       8.30514745e-07, 4.08813802e-07, 8.28810184e-07, 1.29549495e-07,\n",
       "       1.61853037e-07, 4.12737557e-07, 9.24863742e-07, 4.12732656e-07,\n",
       "       2.52149130e-07, 9.98745254e-07, 3.32900348e-07, 5.15083625e-07,\n",
       "       7.42440263e-07, 7.71634311e-07, 1.93624775e-07, 4.62831590e-07,\n",
       "       9.43249308e-07, 3.35025959e-07, 1.23979050e-07, 5.92341882e-07,\n",
       "       8.02251366e-07, 4.77265281e-07, 7.92133897e-07, 8.92368477e-07,\n",
       "       6.04681392e-07, 4.57963680e-07, 5.12818150e-07, 6.40496067e-07,\n",
       "       1.74794612e-07, 8.95840490e-07, 9.00442191e-07, 3.76279856e-07,\n",
       "       5.98502354e-07, 5.19312913e-07, 6.43615550e-07, 3.48464994e-07,\n",
       "       6.19931812e-07, 7.08473055e-07, 4.40428592e-07, 6.41374652e-07,\n",
       "       3.25818724e-07, 8.01216183e-07, 2.21840896e-07, 9.24111704e-07,\n",
       "       8.97035224e-07, 4.40442660e-07, 2.19555128e-07, 6.42510460e-07,\n",
       "       4.45167829e-07, 6.87581901e-07, 4.60990976e-07, 5.60760434e-07,\n",
       "       2.58393397e-07, 2.30691750e-07, 5.17452294e-07, 7.12475517e-07,\n",
       "       4.82295723e-07, 1.49985259e-07, 3.12495668e-07, 5.26262581e-07,\n",
       "       2.60050661e-07, 1.81321729e-07, 8.13631062e-07, 4.77992473e-07,\n",
       "       4.07872975e-07, 1.22294272e-07, 9.69448824e-07, 9.17030138e-07,\n",
       "       7.48895461e-07, 6.88648740e-07, 9.48750686e-07, 7.31985491e-07,\n",
       "       3.19630606e-07, 8.43298365e-07, 4.13418338e-07, 2.93591990e-07,\n",
       "       7.80220467e-07, 7.04472065e-07, 1.75565984e-07, 1.56053732e-07,\n",
       "       1.72716281e-07, 1.32784716e-07, 6.57069328e-07, 7.44836296e-07,\n",
       "       9.57222960e-07, 8.48409764e-07, 5.69964159e-07, 4.05715546e-07,\n",
       "       8.79339364e-07, 6.54410917e-07, 8.84207588e-07, 2.71582242e-07,\n",
       "       3.02975412e-07, 8.57591698e-07, 9.38940398e-07, 9.02797273e-07,\n",
       "       8.47096648e-07, 3.05612740e-07, 7.17944628e-07, 2.37449317e-07,\n",
       "       9.21388648e-07, 2.86320677e-07, 8.28790693e-07, 5.85599189e-07,\n",
       "       2.53354495e-07, 5.68182857e-07, 8.78742151e-07, 6.84664936e-07,\n",
       "       8.72279274e-07, 1.98060409e-07, 9.42492605e-07, 4.92904824e-07,\n",
       "       8.44759006e-07, 1.74254711e-07, 5.30419114e-07, 7.25024750e-07,\n",
       "       5.42754314e-07, 6.72848494e-07, 5.39823380e-07, 5.07741292e-07,\n",
       "       3.10308741e-07, 2.11187811e-07, 4.45124824e-07, 5.49614223e-07,\n",
       "       1.92265418e-07, 2.80261705e-07, 8.58772921e-07, 9.58147507e-07,\n",
       "       3.27527958e-07, 1.82415022e-07, 1.35321657e-07, 4.79262527e-07,\n",
       "       1.17866494e-07, 7.23721335e-07, 9.04907545e-07, 7.91235492e-07,\n",
       "       8.94645022e-07, 5.66479367e-07, 2.98335465e-07, 2.77381942e-07,\n",
       "       5.89635441e-07, 8.52640271e-07, 8.76012073e-07, 2.43209348e-07,\n",
       "       4.80113275e-07, 3.69945194e-07, 5.20901868e-07, 7.04043464e-07,\n",
       "       3.83759941e-07, 5.30923802e-07, 6.66578913e-07, 5.23077657e-07,\n",
       "       9.77467039e-07, 9.84539424e-07, 8.03991738e-07, 2.74890612e-07,\n",
       "       2.38771359e-07, 2.91274613e-07, 5.17722639e-07, 2.35577888e-07,\n",
       "       7.43923065e-07, 8.77426316e-07, 9.04272821e-07, 9.39784051e-07,\n",
       "       6.13995381e-07, 6.10101637e-07, 1.33792642e-07, 1.87303445e-07,\n",
       "       9.95196121e-07, 5.72474439e-07, 7.14266206e-07, 6.73165109e-07,\n",
       "       7.38809339e-07, 6.68284187e-07, 6.07419844e-07, 7.45254053e-07,\n",
       "       8.24941288e-07, 4.99888481e-07, 9.96793863e-07, 1.16721219e-07,\n",
       "       4.02973854e-07, 6.03200598e-07, 1.04071803e-07, 9.82498497e-07,\n",
       "       3.86535659e-07, 9.27704010e-07, 5.92561015e-07, 9.73316008e-07,\n",
       "       7.30169708e-07, 6.16409863e-07, 8.78134040e-07, 8.08670377e-07,\n",
       "       2.41684562e-07, 5.16477574e-07, 2.64838307e-07, 8.95736268e-07,\n",
       "       2.48351093e-07, 4.67949942e-07, 6.52633825e-07, 5.64558053e-07,\n",
       "       4.78808046e-07, 4.56531904e-07, 1.23749075e-07, 3.18283063e-07,\n",
       "       7.86986038e-07, 6.04721864e-07, 1.01227810e-07, 6.55460665e-07,\n",
       "       6.29178476e-07, 4.30790860e-07, 5.33934401e-07, 5.85390361e-07,\n",
       "       3.93091318e-07, 6.63918523e-07, 4.61383392e-07, 5.10162120e-07,\n",
       "       1.64418890e-07, 8.83156849e-07, 7.67535834e-07, 4.60688349e-07,\n",
       "       6.56977737e-07, 1.68345566e-07, 6.27231793e-07, 2.26666149e-07,\n",
       "       6.25196955e-07, 9.58791339e-07, 6.97568842e-07, 1.86816400e-07,\n",
       "       3.80711523e-07, 5.63079362e-07, 5.86643905e-07, 5.63950594e-07,\n",
       "       7.39717923e-07, 2.59362582e-07, 9.70199077e-07, 7.46209415e-07,\n",
       "       2.54626905e-07, 7.96068041e-07, 4.27588642e-07, 9.17379023e-07,\n",
       "       5.08037656e-07, 7.00714360e-07, 1.27213819e-07, 8.19271837e-07,\n",
       "       6.92877308e-07, 9.69742570e-07, 8.73656709e-07, 9.76900803e-07,\n",
       "       8.90091885e-07, 9.25277298e-07, 6.41597692e-07, 2.72901410e-07,\n",
       "       3.20418530e-07, 9.41393029e-07, 2.94274492e-07, 1.96177056e-07,\n",
       "       8.99588719e-07, 4.84849940e-07, 1.40170200e-07, 9.31474951e-07,\n",
       "       9.28354268e-07, 3.98108039e-07, 5.81977503e-07, 5.84677565e-07,\n",
       "       6.40322741e-07, 4.32384942e-07, 2.17284438e-07, 6.00612368e-07,\n",
       "       4.94875405e-07, 9.25699541e-07, 2.19270588e-07, 3.71681749e-07,\n",
       "       5.07472907e-07, 2.90124635e-07, 2.29234841e-07, 4.15061400e-07,\n",
       "       9.88850412e-07, 6.26321899e-07, 1.01238255e-07, 5.22934330e-07,\n",
       "       8.92240365e-07, 5.70625764e-07, 5.02705121e-07, 9.96055590e-07,\n",
       "       4.12430342e-07, 3.06474010e-07, 9.81855195e-07, 1.54346420e-07,\n",
       "       1.19753437e-07, 2.02275340e-07, 3.18052751e-07, 9.70822763e-07,\n",
       "       1.70852068e-07, 3.44271364e-07, 6.76830799e-07, 7.47717266e-07,\n",
       "       3.27005862e-07, 4.49833465e-07, 5.23336752e-07, 7.70208616e-07,\n",
       "       5.89687691e-07, 1.47766708e-07, 9.89485253e-07, 5.02150283e-07,\n",
       "       6.42730618e-07, 4.95594339e-07, 3.15142979e-07, 1.92705165e-07,\n",
       "       8.99336543e-07, 5.60179815e-07, 9.30909887e-07, 6.83851452e-07,\n",
       "       5.03457115e-07, 8.60700012e-07, 1.74142750e-07, 3.12758115e-07,\n",
       "       8.12576325e-07, 5.02832173e-07, 1.48211451e-07, 6.64596162e-07,\n",
       "       5.12748408e-07, 5.41097221e-07, 4.59082827e-07, 7.76409656e-07,\n",
       "       4.70219865e-07, 3.55247496e-07, 8.59917091e-07, 4.20160184e-07,\n",
       "       2.31411671e-07, 9.28074866e-07, 1.04588162e-07, 9.86092430e-07,\n",
       "       1.28245672e-07, 4.57960614e-07, 2.15756975e-07, 2.46926561e-07,\n",
       "       3.97887156e-07, 9.68729981e-07, 7.49410839e-07, 6.55214967e-07,\n",
       "       4.16520763e-07, 2.58314898e-07, 9.84125288e-07, 5.07977169e-07,\n",
       "       4.87698015e-07, 4.32714396e-07, 7.22335417e-07, 3.13123935e-07,\n",
       "       6.30259022e-07, 1.24727223e-07, 5.75720008e-07, 1.89787956e-07,\n",
       "       3.44843544e-07, 1.08433803e-07, 7.09198836e-07, 4.68904210e-07,\n",
       "       6.94878307e-07, 8.56038329e-07, 3.87183766e-07, 7.77007137e-07,\n",
       "       3.04919703e-07, 3.24818724e-07, 6.47777121e-07, 8.79184439e-07,\n",
       "       8.05165309e-07, 1.98687942e-07, 7.66169294e-07, 9.78508907e-07,\n",
       "       3.33376243e-07, 7.62895287e-07, 5.85036191e-07, 8.71427344e-07,\n",
       "       2.03800295e-07, 9.75051486e-07, 3.29045774e-07, 4.20710831e-07,\n",
       "       8.00740160e-07, 7.67264370e-07, 2.16155857e-07, 2.86602200e-07,\n",
       "       9.91166414e-07, 9.66791011e-07, 5.87522552e-07, 8.73788558e-07,\n",
       "       7.06770048e-07, 1.30475917e-07, 4.77833810e-07, 6.63609416e-07,\n",
       "       2.71212271e-07, 1.78262363e-07, 1.00850397e-07, 3.35159458e-07,\n",
       "       3.24148683e-07, 5.08954538e-07, 8.50794897e-07, 6.46373941e-07,\n",
       "       7.43728651e-07, 7.42447731e-07, 8.68718432e-07, 9.11287693e-07,\n",
       "       5.56448101e-07, 3.03459311e-07, 8.96545361e-07, 8.84209380e-07,\n",
       "       2.45135901e-07, 3.57573716e-07, 6.48186897e-07, 2.16990926e-07,\n",
       "       5.30618174e-07, 7.51062632e-07, 2.34527154e-07, 9.56873365e-07,\n",
       "       3.21207317e-07, 8.61643564e-07, 7.69203177e-07, 5.48742889e-07,\n",
       "       7.97510643e-07, 1.84132969e-07, 6.85337035e-07, 9.65994553e-07,\n",
       "       7.88860870e-07, 2.43332253e-07, 5.88900370e-07, 5.98739374e-07,\n",
       "       2.56491716e-07, 8.40999399e-07, 8.65390221e-07, 8.20749243e-07,\n",
       "       3.28218792e-07, 3.17239943e-07, 4.02044330e-07, 2.49864023e-07,\n",
       "       1.45742814e-07, 1.30073361e-07, 3.09607856e-07, 4.88516160e-07,\n",
       "       6.71451300e-07, 7.05198887e-07, 7.48346726e-07, 9.23036927e-07,\n",
       "       1.26860588e-07, 4.03265197e-07, 2.78656231e-07, 6.49205599e-07,\n",
       "       4.40779513e-07, 7.59731019e-07, 8.61542251e-07, 6.19923898e-07,\n",
       "       2.37810153e-07, 7.42569701e-07, 1.36144437e-07, 7.52356888e-07,\n",
       "       8.04499746e-07, 6.82551203e-07, 4.22256701e-07, 2.72915734e-07,\n",
       "       2.79081124e-07, 4.59110119e-07, 3.84576650e-07, 9.01968528e-07,\n",
       "       7.77684477e-07, 6.69278205e-07, 3.71707803e-07, 5.17738554e-07,\n",
       "       9.76221002e-07, 9.68681098e-07, 8.71097374e-07, 2.81035400e-07,\n",
       "       9.21787110e-07, 4.04329347e-07, 4.17106923e-07, 2.94665559e-07,\n",
       "       6.58691409e-07, 9.42743889e-07, 2.08262220e-07, 6.22788279e-07,\n",
       "       2.43274784e-07, 5.60591602e-07, 7.61156350e-07, 3.53040574e-07,\n",
       "       3.94219161e-07, 3.59717057e-07, 1.81045425e-07, 6.44534498e-07,\n",
       "       6.36505446e-07, 7.80930241e-07, 2.25118157e-07, 2.64765506e-07,\n",
       "       7.38212233e-07, 2.53462962e-07, 3.86705691e-07, 5.05505274e-07,\n",
       "       8.70430180e-07, 1.27626447e-07, 4.94399596e-07, 9.27537602e-07,\n",
       "       4.71896607e-07, 2.88355629e-07, 4.34008614e-07, 6.12448277e-07,\n",
       "       8.52785887e-07, 7.64817943e-07, 4.00654336e-07, 6.71791989e-07,\n",
       "       2.07886794e-07, 5.33094805e-07, 1.80915784e-07, 4.25733030e-07,\n",
       "       9.54000461e-07, 1.72249026e-07, 3.70609736e-07, 6.59841293e-07,\n",
       "       6.97909798e-07, 6.57358330e-07, 4.28875935e-07, 4.58998117e-07,\n",
       "       7.77815840e-07, 5.98461402e-07, 1.68374807e-07, 4.97785809e-07,\n",
       "       6.28014678e-07, 4.65952922e-07, 3.84856078e-07, 8.40443399e-07,\n",
       "       6.58708406e-07, 8.17349797e-07, 2.63311387e-07, 7.65689848e-07,\n",
       "       9.76956688e-07, 4.31818566e-07, 9.95229905e-07, 5.07357481e-07,\n",
       "       4.71729470e-07, 6.35016796e-07, 4.69157063e-07, 3.10827165e-07,\n",
       "       3.59357498e-07, 8.72221420e-07, 1.96981611e-07, 8.04286271e-07,\n",
       "       1.67761069e-07, 9.09697604e-07, 9.31815524e-07, 2.63300654e-07,\n",
       "       5.91035730e-07, 8.03807257e-07, 3.71767004e-07, 8.52339396e-07,\n",
       "       7.54085913e-07, 5.77384739e-07, 4.01869348e-07, 5.72490050e-07,\n",
       "       4.69589724e-07, 2.09173184e-07, 8.46866778e-07, 6.77345410e-07,\n",
       "       6.73091805e-07, 1.27458503e-07, 3.06956249e-07, 7.40934002e-07,\n",
       "       7.23262850e-07, 5.64934974e-07, 1.83969644e-07, 3.73910025e-07,\n",
       "       2.47641861e-07, 8.99992740e-07, 2.44891671e-07, 6.43069156e-07,\n",
       "       9.58981479e-07, 8.42625095e-07, 3.12085158e-07, 9.80984716e-07,\n",
       "       5.64328996e-07, 5.03800980e-07, 7.57595763e-07, 8.45686053e-07,\n",
       "       1.06306957e-07, 7.90173074e-07, 6.05086048e-07, 3.17696219e-07,\n",
       "       3.50751891e-07, 9.29931539e-07, 1.89348469e-07, 2.83343150e-07,\n",
       "       7.64623561e-07, 9.24142313e-07, 2.57838357e-07, 4.55351652e-07,\n",
       "       3.69932876e-07, 5.51218200e-07, 5.57429101e-07, 4.29298701e-07,\n",
       "       1.44815452e-07, 2.24895601e-07, 7.52833468e-07, 7.51156636e-07,\n",
       "       9.30446663e-07, 2.45566755e-07, 9.07467867e-07, 2.86567239e-07,\n",
       "       3.60314544e-07, 3.19481629e-07, 1.57993328e-07, 3.89354163e-07,\n",
       "       3.40513763e-07, 8.75100146e-07, 6.45751252e-07, 1.26314275e-07,\n",
       "       4.80845163e-07, 5.33629687e-07, 2.57014423e-07, 6.43896059e-07,\n",
       "       4.58129686e-07, 5.36077441e-07, 2.81446770e-07, 4.14423214e-07,\n",
       "       7.43375034e-07, 1.77983211e-07, 5.11251863e-07, 7.13141195e-07,\n",
       "       2.72430838e-07, 7.99891251e-07, 1.52899352e-07, 4.61022024e-07,\n",
       "       2.93160182e-07, 4.00524004e-07, 1.74726054e-07, 5.96312424e-07,\n",
       "       3.94485971e-07, 1.22978441e-07, 3.02942214e-07, 1.29779357e-07,\n",
       "       4.82122121e-07, 9.41185739e-07, 3.22114097e-07, 1.50581148e-07,\n",
       "       6.23280143e-07, 9.36154291e-07, 2.68559386e-07, 3.59945884e-07,\n",
       "       1.53356139e-07, 3.23040508e-07, 2.70880418e-07, 8.04253952e-07,\n",
       "       3.97067424e-07, 9.02346969e-07, 2.11422110e-07, 6.94774963e-07,\n",
       "       5.18914488e-07, 6.63304808e-07, 2.29416808e-07, 8.60382626e-07,\n",
       "       8.57608672e-07, 7.81949714e-07, 2.96771299e-07, 8.29854668e-07,\n",
       "       4.52654106e-07, 8.88553617e-07, 7.28737707e-07, 1.31729630e-07,\n",
       "       5.77012026e-07, 8.32992123e-07, 6.99626392e-07, 5.69108975e-07,\n",
       "       2.10778033e-07, 1.93864781e-07, 3.32418742e-07, 5.85198855e-07,\n",
       "       8.86744472e-07, 9.68875992e-07, 3.09578031e-07, 8.95814587e-07,\n",
       "       4.63184023e-07, 7.92103063e-07, 3.45364270e-07, 6.57206456e-07,\n",
       "       1.29906347e-07, 1.19381695e-07, 6.39606160e-07, 5.16265479e-07,\n",
       "       3.28749282e-07, 6.07712432e-07, 7.43585708e-07, 2.10085430e-07,\n",
       "       8.00704716e-07, 3.07104637e-07, 8.56942815e-07, 2.63891103e-07,\n",
       "       6.73531980e-07, 5.83632000e-07, 4.25473543e-07, 7.91592391e-07,\n",
       "       5.08328923e-07, 4.06266532e-07, 4.79237132e-07, 7.92317165e-07,\n",
       "       8.71737092e-07, 1.26113304e-07, 7.23635533e-07, 2.47343844e-07,\n",
       "       1.73763555e-07, 7.14374983e-07, 3.60212163e-07, 9.59955137e-07,\n",
       "       2.30166495e-07, 5.99773145e-07, 7.11260324e-07, 4.64408858e-07,\n",
       "       1.76700398e-07, 6.23141895e-07, 5.00665171e-07, 2.93959646e-07,\n",
       "       9.09656397e-07, 8.59553410e-07, 8.52772124e-07, 6.04200260e-07,\n",
       "       3.22900266e-07, 5.35717106e-07, 5.71989543e-07, 1.69342431e-07,\n",
       "       6.65246920e-07, 2.78692820e-07, 9.03098631e-07, 5.95955547e-07,\n",
       "       4.30302716e-07, 2.34371754e-07, 4.02998368e-07, 9.85130822e-07,\n",
       "       5.37210090e-07, 6.65659354e-07, 9.84341170e-07, 9.41547496e-07,\n",
       "       4.99076756e-07, 7.89912517e-07, 1.54003875e-07, 3.26426905e-07,\n",
       "       6.76266502e-07, 9.44052422e-07, 1.27077024e-07, 5.84341962e-07,\n",
       "       5.78865961e-07, 7.68189217e-07, 2.89161278e-07, 8.22060858e-07,\n",
       "       3.53214045e-07, 4.67343710e-07, 7.11459843e-07, 2.53586404e-07,\n",
       "       5.38600787e-07, 7.63559175e-07, 3.85697706e-07, 1.56607283e-07,\n",
       "       5.10339018e-07, 1.56832671e-07, 3.80823821e-07, 3.37010861e-07,\n",
       "       7.59842039e-07, 2.03954133e-07, 4.61186612e-07, 4.94931147e-07,\n",
       "       1.37122144e-07, 4.17555553e-07, 7.34473319e-07, 8.15521830e-07,\n",
       "       5.75306467e-07, 6.93626898e-07, 3.58896055e-07, 3.85623373e-07,\n",
       "       5.63933454e-07, 7.82459714e-07, 1.33562940e-07, 8.27065887e-07,\n",
       "       7.71956093e-07, 7.80346013e-07, 6.43408780e-07, 4.45485341e-07,\n",
       "       3.26557240e-07, 8.37637435e-07, 8.44327025e-07, 1.74819929e-07,\n",
       "       6.92188083e-07, 9.95880701e-07, 1.45610177e-07, 4.01904198e-07,\n",
       "       8.55926209e-07, 2.87465276e-07, 6.62217828e-07, 4.54709827e-07,\n",
       "       4.16587104e-07, 6.66657164e-07, 4.01843638e-07, 8.49645278e-07,\n",
       "       7.59516926e-07, 4.48898659e-07, 7.13606121e-07, 8.81659121e-07,\n",
       "       1.91666800e-07, 4.44603601e-07, 7.78824047e-07, 8.22558683e-07,\n",
       "       6.12407563e-07, 6.43147999e-07, 4.06585597e-07, 2.28951567e-07,\n",
       "       5.70447845e-07, 9.69588392e-07, 9.94218439e-07, 9.29398905e-07,\n",
       "       6.18959058e-07, 4.22217609e-07, 5.95015760e-07, 8.79113702e-07,\n",
       "       3.67674066e-07, 7.09200684e-07, 1.92046361e-07, 7.46569864e-07,\n",
       "       8.38284889e-07, 3.29113078e-07, 9.88413837e-07, 2.88335522e-07,\n",
       "       6.18862986e-07, 1.82753751e-07, 8.27124712e-07, 6.81179198e-07,\n",
       "       6.84661906e-07, 7.11617154e-07, 3.21852134e-07, 7.45424287e-07,\n",
       "       1.83456560e-07, 8.92241388e-07, 6.26593145e-07, 7.71741010e-07,\n",
       "       1.12080439e-07, 6.38785537e-07, 6.22939213e-07, 5.67615290e-07,\n",
       "       2.87082884e-07, 7.86509118e-07, 4.14863480e-07, 9.74561935e-07,\n",
       "       3.48999898e-07, 9.18601086e-07, 9.98957467e-07, 3.69198803e-07])"
      ]
     },
     "execution_count": 289,
     "metadata": {},
     "output_type": "execute_result"
    }
   ],
   "source": [
    "de_normalizeTargets(train_,'train')"
   ]
  },
  {
   "cell_type": "code",
   "execution_count": 290,
   "id": "16b5f178",
   "metadata": {},
   "outputs": [
    {
     "data": {
      "text/html": [
       "<div>\n",
       "<style scoped>\n",
       "    .dataframe tbody tr th:only-of-type {\n",
       "        vertical-align: middle;\n",
       "    }\n",
       "\n",
       "    .dataframe tbody tr th {\n",
       "        vertical-align: top;\n",
       "    }\n",
       "\n",
       "    .dataframe thead th {\n",
       "        text-align: right;\n",
       "    }\n",
       "</style>\n",
       "<table border=\"1\" class=\"dataframe\">\n",
       "  <thead>\n",
       "    <tr style=\"text-align: right;\">\n",
       "      <th></th>\n",
       "      <th>0</th>\n",
       "    </tr>\n",
       "  </thead>\n",
       "  <tbody>\n",
       "    <tr>\n",
       "      <th>0</th>\n",
       "      <td>15</td>\n",
       "    </tr>\n",
       "    <tr>\n",
       "      <th>1</th>\n",
       "      <td>11</td>\n",
       "    </tr>\n",
       "    <tr>\n",
       "      <th>2</th>\n",
       "      <td>11</td>\n",
       "    </tr>\n",
       "    <tr>\n",
       "      <th>3</th>\n",
       "      <td>10</td>\n",
       "    </tr>\n",
       "    <tr>\n",
       "      <th>4</th>\n",
       "      <td>10</td>\n",
       "    </tr>\n",
       "    <tr>\n",
       "      <th>...</th>\n",
       "      <td>...</td>\n",
       "    </tr>\n",
       "    <tr>\n",
       "      <th>995</th>\n",
       "      <td>13</td>\n",
       "    </tr>\n",
       "    <tr>\n",
       "      <th>996</th>\n",
       "      <td>10</td>\n",
       "    </tr>\n",
       "    <tr>\n",
       "      <th>997</th>\n",
       "      <td>6</td>\n",
       "    </tr>\n",
       "    <tr>\n",
       "      <th>998</th>\n",
       "      <td>6</td>\n",
       "    </tr>\n",
       "    <tr>\n",
       "      <th>999</th>\n",
       "      <td>8</td>\n",
       "    </tr>\n",
       "  </tbody>\n",
       "</table>\n",
       "<p>1000 rows × 1 columns</p>\n",
       "</div>"
      ],
      "text/plain": [
       "      0\n",
       "0    15\n",
       "1    11\n",
       "2    11\n",
       "3    10\n",
       "4    10\n",
       "..   ..\n",
       "995  13\n",
       "996  10\n",
       "997   6\n",
       "998   6\n",
       "999   8\n",
       "\n",
       "[1000 rows x 1 columns]"
      ]
     },
     "execution_count": 290,
     "metadata": {},
     "output_type": "execute_result"
    }
   ],
   "source": [
    "fd"
   ]
  },
  {
   "cell_type": "code",
   "execution_count": 288,
   "id": "aa3c6708",
   "metadata": {},
   "outputs": [
    {
     "data": {
      "text/plain": [
       "0.4837472145722622"
      ]
     },
     "execution_count": 288,
     "metadata": {},
     "output_type": "execute_result"
    }
   ],
   "source": [
    "rho"
   ]
  },
  {
   "cell_type": "code",
   "execution_count": 137,
   "id": "d5b37768",
   "metadata": {},
   "outputs": [
    {
     "data": {
      "text/plain": [
       "2.978933288631969e-69"
      ]
     },
     "execution_count": 137,
     "metadata": {},
     "output_type": "execute_result"
    }
   ],
   "source": [
    "p"
   ]
  },
  {
   "cell_type": "code",
   "execution_count": 139,
   "id": "cd40aaa7",
   "metadata": {},
   "outputs": [],
   "source": [
    "from sklearn.linear_model import LinearRegression"
   ]
  },
  {
   "cell_type": "code",
   "execution_count": 140,
   "id": "3bc62649",
   "metadata": {},
   "outputs": [],
   "source": [
    "mod = LinearRegression().fit(fd,target)"
   ]
  },
  {
   "cell_type": "code",
   "execution_count": 141,
   "id": "8b287d5a",
   "metadata": {},
   "outputs": [
    {
     "data": {
      "text/plain": [
       "0.19143694447673087"
      ]
     },
     "execution_count": 141,
     "metadata": {},
     "output_type": "execute_result"
    }
   ],
   "source": [
    "mod.score(fd,target)"
   ]
  },
  {
   "cell_type": "code",
   "execution_count": 145,
   "id": "3f9e1e3f",
   "metadata": {},
   "outputs": [],
   "source": [
    "#pred_df =pd.DataFrame(de_normalizeTargets(mod.predict(pd.DataFrame(np.stack(vali_x,axis=1)).T),'validation'))\n",
    "pred_df =pd.DataFrame(de_normalizeTargets(mod.predict(pd.DataFrame(vali_x)),'validation'))"
   ]
  },
  {
   "cell_type": "code",
   "execution_count": 146,
   "id": "de77cf36",
   "metadata": {},
   "outputs": [
    {
     "data": {
      "text/html": [
       "<div>\n",
       "<style scoped>\n",
       "    .dataframe tbody tr th:only-of-type {\n",
       "        vertical-align: middle;\n",
       "    }\n",
       "\n",
       "    .dataframe tbody tr th {\n",
       "        vertical-align: top;\n",
       "    }\n",
       "\n",
       "    .dataframe thead th {\n",
       "        text-align: right;\n",
       "    }\n",
       "</style>\n",
       "<table border=\"1\" class=\"dataframe\">\n",
       "  <thead>\n",
       "    <tr style=\"text-align: right;\">\n",
       "      <th></th>\n",
       "      <th>0</th>\n",
       "    </tr>\n",
       "  </thead>\n",
       "  <tbody>\n",
       "    <tr>\n",
       "      <th>0</th>\n",
       "      <td>5.556783e-07</td>\n",
       "    </tr>\n",
       "    <tr>\n",
       "      <th>1</th>\n",
       "      <td>4.713786e-07</td>\n",
       "    </tr>\n",
       "    <tr>\n",
       "      <th>2</th>\n",
       "      <td>5.556783e-07</td>\n",
       "    </tr>\n",
       "    <tr>\n",
       "      <th>3</th>\n",
       "      <td>6.680779e-07</td>\n",
       "    </tr>\n",
       "    <tr>\n",
       "      <th>4</th>\n",
       "      <td>6.680779e-07</td>\n",
       "    </tr>\n",
       "    <tr>\n",
       "      <th>...</th>\n",
       "      <td>...</td>\n",
       "    </tr>\n",
       "    <tr>\n",
       "      <th>495</th>\n",
       "      <td>4.994785e-07</td>\n",
       "    </tr>\n",
       "    <tr>\n",
       "      <th>496</th>\n",
       "      <td>6.680779e-07</td>\n",
       "    </tr>\n",
       "    <tr>\n",
       "      <th>497</th>\n",
       "      <td>7.804775e-07</td>\n",
       "    </tr>\n",
       "    <tr>\n",
       "      <th>498</th>\n",
       "      <td>8.085774e-07</td>\n",
       "    </tr>\n",
       "    <tr>\n",
       "      <th>499</th>\n",
       "      <td>5.275784e-07</td>\n",
       "    </tr>\n",
       "  </tbody>\n",
       "</table>\n",
       "<p>500 rows × 1 columns</p>\n",
       "</div>"
      ],
      "text/plain": [
       "                0\n",
       "0    5.556783e-07\n",
       "1    4.713786e-07\n",
       "2    5.556783e-07\n",
       "3    6.680779e-07\n",
       "4    6.680779e-07\n",
       "..            ...\n",
       "495  4.994785e-07\n",
       "496  6.680779e-07\n",
       "497  7.804775e-07\n",
       "498  8.085774e-07\n",
       "499  5.275784e-07\n",
       "\n",
       "[500 rows x 1 columns]"
      ]
     },
     "execution_count": 146,
     "metadata": {},
     "output_type": "execute_result"
    }
   ],
   "source": [
    "pred_df"
   ]
  },
  {
   "cell_type": "code",
   "execution_count": 147,
   "id": "e27b391e",
   "metadata": {},
   "outputs": [
    {
     "data": {
      "image/png": "[encoded data removed]",
      "text/plain": [
       "<Figure size 432x288 with 1 Axes>"
      ]
     },
     "metadata": {
      "needs_background": "light"
     },
     "output_type": "display_data"
    }
   ],
   "source": [
    "(pred_df-true_df)\n",
    "\n",
    "import seaborn as sns\n",
    "\n",
    "\n",
    "frames = [true_df, pred_df]\n",
    "\n",
    "\n",
    "result =pd.concat([true_df,pred_df.rename(columns={'b':'a'})], ignore_index=True,axis=1)\n",
    "sns.scatterplot(data=result,x=1,y=0)\n",
    " \n",
    "# Show the plot\n",
    "plt.show()"
   ]
  },
  {
   "cell_type": "code",
   "execution_count": 148,
   "id": "288ca552",
   "metadata": {},
   "outputs": [
    {
     "data": {
      "text/html": [
       "<div>\n",
       "<style scoped>\n",
       "    .dataframe tbody tr th:only-of-type {\n",
       "        vertical-align: middle;\n",
       "    }\n",
       "\n",
       "    .dataframe tbody tr th {\n",
       "        vertical-align: top;\n",
       "    }\n",
       "\n",
       "    .dataframe thead th {\n",
       "        text-align: right;\n",
       "    }\n",
       "</style>\n",
       "<table border=\"1\" class=\"dataframe\">\n",
       "  <thead>\n",
       "    <tr style=\"text-align: right;\">\n",
       "      <th></th>\n",
       "      <th>0</th>\n",
       "      <th>1</th>\n",
       "    </tr>\n",
       "  </thead>\n",
       "  <tbody>\n",
       "    <tr>\n",
       "      <th>0</th>\n",
       "      <td>7.142550e-07</td>\n",
       "      <td>5.556783e-07</td>\n",
       "    </tr>\n",
       "    <tr>\n",
       "      <th>1</th>\n",
       "      <td>2.370434e-07</td>\n",
       "      <td>4.713786e-07</td>\n",
       "    </tr>\n",
       "    <tr>\n",
       "      <th>2</th>\n",
       "      <td>4.270629e-07</td>\n",
       "      <td>5.556783e-07</td>\n",
       "    </tr>\n",
       "    <tr>\n",
       "      <th>3</th>\n",
       "      <td>6.883131e-07</td>\n",
       "      <td>6.680779e-07</td>\n",
       "    </tr>\n",
       "    <tr>\n",
       "      <th>4</th>\n",
       "      <td>6.706861e-07</td>\n",
       "      <td>6.680779e-07</td>\n",
       "    </tr>\n",
       "    <tr>\n",
       "      <th>...</th>\n",
       "      <td>...</td>\n",
       "      <td>...</td>\n",
       "    </tr>\n",
       "    <tr>\n",
       "      <th>495</th>\n",
       "      <td>6.255198e-07</td>\n",
       "      <td>4.994785e-07</td>\n",
       "    </tr>\n",
       "    <tr>\n",
       "      <th>496</th>\n",
       "      <td>7.606077e-07</td>\n",
       "      <td>6.680779e-07</td>\n",
       "    </tr>\n",
       "    <tr>\n",
       "      <th>497</th>\n",
       "      <td>5.798555e-07</td>\n",
       "      <td>7.804775e-07</td>\n",
       "    </tr>\n",
       "    <tr>\n",
       "      <th>498</th>\n",
       "      <td>5.826889e-07</td>\n",
       "      <td>8.085774e-07</td>\n",
       "    </tr>\n",
       "    <tr>\n",
       "      <th>499</th>\n",
       "      <td>9.647573e-07</td>\n",
       "      <td>5.275784e-07</td>\n",
       "    </tr>\n",
       "  </tbody>\n",
       "</table>\n",
       "<p>500 rows × 2 columns</p>\n",
       "</div>"
      ],
      "text/plain": [
       "                0             1\n",
       "0    7.142550e-07  5.556783e-07\n",
       "1    2.370434e-07  4.713786e-07\n",
       "2    4.270629e-07  5.556783e-07\n",
       "3    6.883131e-07  6.680779e-07\n",
       "4    6.706861e-07  6.680779e-07\n",
       "..            ...           ...\n",
       "495  6.255198e-07  4.994785e-07\n",
       "496  7.606077e-07  6.680779e-07\n",
       "497  5.798555e-07  7.804775e-07\n",
       "498  5.826889e-07  8.085774e-07\n",
       "499  9.647573e-07  5.275784e-07\n",
       "\n",
       "[500 rows x 2 columns]"
      ]
     },
     "execution_count": 148,
     "metadata": {},
     "output_type": "execute_result"
    }
   ],
   "source": [
    "result"
   ]
  },
  {
   "cell_type": "code",
   "execution_count": 149,
   "id": "f24f1c6c",
   "metadata": {},
   "outputs": [],
   "source": [
    "from scipy.stats import spearmanr\n",
    "rho, p = spearmanr(pred_df,true_df)\n"
   ]
  },
  {
   "cell_type": "code",
   "execution_count": 150,
   "id": "fb711ed4",
   "metadata": {},
   "outputs": [
    {
     "data": {
      "text/plain": [
       "0.4790609289400003"
      ]
     },
     "execution_count": 150,
     "metadata": {},
     "output_type": "execute_result"
    }
   ],
   "source": [
    "rho"
   ]
  },
  {
   "cell_type": "code",
   "execution_count": 151,
   "id": "b0b85637",
   "metadata": {},
   "outputs": [
    {
     "data": {
      "text/plain": [
       "4.7459560896588995e-30"
      ]
     },
     "execution_count": 151,
     "metadata": {},
     "output_type": "execute_result"
    }
   ],
   "source": [
    "p"
   ]
  },
  {
   "cell_type": "code",
   "execution_count": null,
   "id": "1b18ea21",
   "metadata": {},
   "outputs": [],
   "source": []
  },
  {
   "cell_type": "code",
   "execution_count": null,
   "id": "84ee81d4",
   "metadata": {},
   "outputs": [],
   "source": []
  }
 ],
 "metadata": {
  "kernelspec": {
   "display_name": "Python 3 (ipykernel)",
   "language": "python",
   "name": "python3"
  },
  "language_info": {
   "codemirror_mode": {
    "name": "ipython",
    "version": 3
   },
   "file_extension": ".py",
   "mimetype": "text/x-python",
   "name": "python",
   "nbconvert_exporter": "python",
   "pygments_lexer": "ipython3",
   "version": "3.9.8"
  }
 },
 "nbformat": 4,
 "nbformat_minor": 5
}
