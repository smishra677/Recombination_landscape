{
 "cells": [
  {
   "cell_type": "code",
   "execution_count": 1,
   "id": "c2c11d1a",
   "metadata": {},
   "outputs": [],
   "source": [
    "import pandas as pd\n",
    "from collections import Counter"
   ]
  },
  {
   "cell_type": "code",
   "execution_count": 2,
   "id": "03c9e2fc",
   "metadata": {},
   "outputs": [],
   "source": [
    "import os\n",
    "import random\n",
    "import numpy as np\n",
    "import pickle\n",
    "import absl.logging\n",
    "absl.logging.set_verbosity(absl.logging.ERROR)\n",
    "import seaborn as sns\n",
    "import matplotlib.pyplot as plt"
   ]
  },
  {
   "cell_type": "code",
   "execution_count": 76,
   "id": "b8fbd54b",
   "metadata": {},
   "outputs": [],
   "source": [
    "def normalizeTargets(i,file):\n",
    "    ratefile =  os.path.join(file,file+\"_rate.npy\")\n",
    "    \n",
    "    nTargets_1 =np.load(ratefile)\n",
    "\n",
    "    norm = 'zscore'\n",
    "\n",
    "    if(norm == 'zscore'):\n",
    "        tar_mean = np.mean(nTargets_1,axis=0)\n",
    "        tar_sd = np.std(nTargets_1,axis=0)\n",
    "        nTargets =nTargets_1- tar_mean\n",
    "        nTargets = np.divide(nTargets,tar_sd,out=np.zeros_like(nTargets),where=tar_sd!=0)\n",
    "\n",
    "    return nTargets[i]"
   ]
  },
  {
   "cell_type": "code",
   "execution_count": 203,
   "id": "07a503ed",
   "metadata": {},
   "outputs": [],
   "source": [
    "def de_normalizeTargets(error,file='train'):\n",
    "    ratefile =  os.path.join(file,file+\"_rate.npy\")\n",
    "\n",
    "    nTargets_1 =np.load(ratefile)\n",
    "\n",
    "\n",
    "    tar_mean = np.mean(nTargets_1,axis=0)\n",
    "    tar_sd = np.std(nTargets_1,axis=0)\n",
    "    erro = np.dot(error,tar_sd)+tar_mean\n",
    "\n",
    "\n",
    "    return erro"
   ]
  },
  {
   "cell_type": "code",
   "execution_count": 204,
   "id": "1ffeadc1",
   "metadata": {},
   "outputs": [],
   "source": [
    "def SNP_WINDOW(w,r,i,file):\n",
    " \n",
    "    respectiveNormalizedTargets = [normalizeTargets(i,file)]\n",
    "    targets = np.array(respectiveNormalizedTargets)\n",
    "    lis=[]\n",
    "\n",
    "    for i in w:\n",
    "        co = dict(Counter(i))\n",
    "        if len(co.keys())==2:\n",
    "            lis.append(co[min(co,key=co.get)]/len(i))\n",
    "    bins = np.linspace(0, 1, 20)\n",
    "\n",
    "    bin_means,bins = np.histogram(lis, bins, normed=True, density=True)\n",
    "    bins= bins[1:]\n",
    "    bin_means= bin_means/bin_means.sum()\n",
    "    \n",
    "\n",
    "    \n",
    "    \n",
    "\n",
    "    return np.array(bins),np.array(targets),bin_means"
   ]
  },
  {
   "cell_type": "code",
   "execution_count": 205,
   "id": "87c0e734",
   "metadata": {},
   "outputs": [],
   "source": [
    "def break_window(ha,po,ra,winsize):\n",
    "    print(len(ha))\n",
    "    bins = np.linspace(0, len(ha),winsize)\n",
    "\n",
    "    bin_means,bins = np.histogram(ha, bins)\n",
    "    print(bin_means)"
   ]
  },
  {
   "cell_type": "code",
   "execution_count": 206,
   "id": "633a7779",
   "metadata": {},
   "outputs": [],
   "source": [
    "def __data_generation1(batchTreeIndices,file):\n",
    "\n",
    "        haps = []\n",
    "        pos = []\n",
    "        rate =[]\n",
    "        for treeIndex in batchTreeIndices:\n",
    "            Hfilepath = os.path.join(file,str(treeIndex) + \"_haps.npy\")\n",
    "            Pfilepath = os.path.join(file, str(treeIndex) +\"_pos.npy\")\n",
    "            H = np.load(Hfilepath)\n",
    "            P = np.load(Pfilepath)\n",
    "\n",
    "            haps.append(H)\n",
    "            pos.append(P)\n",
    "\n",
    "        return haps,pos\n",
    "\n",
    "\n",
    "            \n",
    "def __getitem__1(idx,val):\n",
    "    X,x1= __data_generation1([idx],val)\n",
    "    return X,x1"
   ]
  },
  {
   "cell_type": "code",
   "execution_count": 207,
   "id": "1aa9be68",
   "metadata": {},
   "outputs": [],
   "source": [
    "Haps,Pos = __getitem__1(0,'train')"
   ]
  },
  {
   "cell_type": "code",
   "execution_count": 208,
   "id": "299168ef",
   "metadata": {},
   "outputs": [
    {
     "name": "stderr",
     "output_type": "stream",
     "text": [
      "/tmp/ipykernel_10058/3638402278.py:13: DeprecationWarning: The normed argument is ignored when density is provided. In future passing both will result in an error.\n",
      "  bin_means,bins = np.histogram(lis, bins, normed=True, density=True)\n"
     ]
    }
   ],
   "source": [
    "_,target,feature =SNP_WINDOW(Haps[0],Pos[0],0,'train')"
   ]
  },
  {
   "cell_type": "code",
   "execution_count": 209,
   "id": "e1fe067e",
   "metadata": {},
   "outputs": [
    {
     "data": {
      "text/html": [
       "<div>\n",
       "<style scoped>\n",
       "    .dataframe tbody tr th:only-of-type {\n",
       "        vertical-align: middle;\n",
       "    }\n",
       "\n",
       "    .dataframe tbody tr th {\n",
       "        vertical-align: top;\n",
       "    }\n",
       "\n",
       "    .dataframe thead th {\n",
       "        text-align: right;\n",
       "    }\n",
       "</style>\n",
       "<table border=\"1\" class=\"dataframe\">\n",
       "  <thead>\n",
       "    <tr style=\"text-align: right;\">\n",
       "      <th></th>\n",
       "      <th>0</th>\n",
       "    </tr>\n",
       "  </thead>\n",
       "  <tbody>\n",
       "    <tr>\n",
       "      <th>0</th>\n",
       "      <td>0.215054</td>\n",
       "    </tr>\n",
       "    <tr>\n",
       "      <th>1</th>\n",
       "      <td>0.150538</td>\n",
       "    </tr>\n",
       "    <tr>\n",
       "      <th>2</th>\n",
       "      <td>0.118280</td>\n",
       "    </tr>\n",
       "    <tr>\n",
       "      <th>3</th>\n",
       "      <td>0.150538</td>\n",
       "    </tr>\n",
       "    <tr>\n",
       "      <th>4</th>\n",
       "      <td>0.064516</td>\n",
       "    </tr>\n",
       "    <tr>\n",
       "      <th>5</th>\n",
       "      <td>0.053763</td>\n",
       "    </tr>\n",
       "    <tr>\n",
       "      <th>6</th>\n",
       "      <td>0.096774</td>\n",
       "    </tr>\n",
       "    <tr>\n",
       "      <th>7</th>\n",
       "      <td>0.053763</td>\n",
       "    </tr>\n",
       "    <tr>\n",
       "      <th>8</th>\n",
       "      <td>0.086022</td>\n",
       "    </tr>\n",
       "    <tr>\n",
       "      <th>9</th>\n",
       "      <td>0.010753</td>\n",
       "    </tr>\n",
       "    <tr>\n",
       "      <th>10</th>\n",
       "      <td>0.000000</td>\n",
       "    </tr>\n",
       "    <tr>\n",
       "      <th>11</th>\n",
       "      <td>0.000000</td>\n",
       "    </tr>\n",
       "    <tr>\n",
       "      <th>12</th>\n",
       "      <td>0.000000</td>\n",
       "    </tr>\n",
       "    <tr>\n",
       "      <th>13</th>\n",
       "      <td>0.000000</td>\n",
       "    </tr>\n",
       "    <tr>\n",
       "      <th>14</th>\n",
       "      <td>0.000000</td>\n",
       "    </tr>\n",
       "    <tr>\n",
       "      <th>15</th>\n",
       "      <td>0.000000</td>\n",
       "    </tr>\n",
       "    <tr>\n",
       "      <th>16</th>\n",
       "      <td>0.000000</td>\n",
       "    </tr>\n",
       "    <tr>\n",
       "      <th>17</th>\n",
       "      <td>0.000000</td>\n",
       "    </tr>\n",
       "    <tr>\n",
       "      <th>18</th>\n",
       "      <td>0.000000</td>\n",
       "    </tr>\n",
       "  </tbody>\n",
       "</table>\n",
       "</div>"
      ],
      "text/plain": [
       "           0\n",
       "0   0.215054\n",
       "1   0.150538\n",
       "2   0.118280\n",
       "3   0.150538\n",
       "4   0.064516\n",
       "5   0.053763\n",
       "6   0.096774\n",
       "7   0.053763\n",
       "8   0.086022\n",
       "9   0.010753\n",
       "10  0.000000\n",
       "11  0.000000\n",
       "12  0.000000\n",
       "13  0.000000\n",
       "14  0.000000\n",
       "15  0.000000\n",
       "16  0.000000\n",
       "17  0.000000\n",
       "18  0.000000"
      ]
     },
     "execution_count": 209,
     "metadata": {},
     "output_type": "execute_result"
    }
   ],
   "source": [
    "pd.DataFrame(feature)"
   ]
  },
  {
   "cell_type": "code",
   "execution_count": 210,
   "id": "63dac1f1",
   "metadata": {},
   "outputs": [],
   "source": [
    "import xgboost as xg\n",
    "from sklearn.metrics import mean_squared_error as MSE"
   ]
  },
  {
   "cell_type": "code",
   "execution_count": 211,
   "id": "f7088def",
   "metadata": {},
   "outputs": [],
   "source": [
    "xgb_r = xg.XGBRegressor(objective ='reg:linear',n_estimators = 10, seed = 123)"
   ]
  },
  {
   "cell_type": "code",
   "execution_count": 212,
   "id": "26571f27",
   "metadata": {},
   "outputs": [
    {
     "name": "stderr",
     "output_type": "stream",
     "text": [
      "/tmp/ipykernel_10058/3638402278.py:13: DeprecationWarning: The normed argument is ignored when density is provided. In future passing both will result in an error.\n",
      "  bin_means,bins = np.histogram(lis, bins, normed=True, density=True)\n"
     ]
    }
   ],
   "source": [
    "feature_= []\n",
    "target_=[]\n",
    "for i in range(2):\n",
    "    Haps,Pos = __getitem__1(i,'train')\n",
    "    _,target,feature =SNP_WINDOW(Haps[0],Pos[0],i,'train')\n",
    "    feature_.append(feature)\n",
    "    target_.append(target[0])"
   ]
  },
  {
   "cell_type": "code",
   "execution_count": 213,
   "id": "ed4dee17",
   "metadata": {},
   "outputs": [
    {
     "name": "stdout",
     "output_type": "stream",
     "text": [
      "[14:42:45] WARNING: ../src/objective/regression_obj.cu:213: reg:linear is now deprecated in favor of reg:squarederror.\n"
     ]
    },
    {
     "data": {
      "text/plain": [
       "XGBRegressor(base_score=None, booster=None, callbacks=None,\n",
       "             colsample_bylevel=None, colsample_bynode=None,\n",
       "             colsample_bytree=None, early_stopping_rounds=None,\n",
       "             enable_categorical=False, eval_metric=None, feature_types=None,\n",
       "             gamma=None, gpu_id=None, grow_policy=None, importance_type=None,\n",
       "             interaction_constraints=None, learning_rate=None, max_bin=None,\n",
       "             max_cat_threshold=None, max_cat_to_onehot=None,\n",
       "             max_delta_step=None, max_depth=None, max_leaves=None,\n",
       "             min_child_weight=None, missing=nan, monotone_constraints=None,\n",
       "             n_estimators=10, n_jobs=None, num_parallel_tree=None,\n",
       "             objective='reg:linear', predictor=None, ...)"
      ]
     },
     "execution_count": 213,
     "metadata": {},
     "output_type": "execute_result"
    }
   ],
   "source": [
    "xgb_r.fit(pd.DataFrame(np.stack(feature_,axis=1)).T, target_)\n",
    "#pred = xgb_r.predict(np.vstack(feature))"
   ]
  },
  {
   "cell_type": "code",
   "execution_count": 214,
   "id": "e6c6e87c",
   "metadata": {},
   "outputs": [
    {
     "name": "stderr",
     "output_type": "stream",
     "text": [
      "/tmp/ipykernel_10058/3638402278.py:13: DeprecationWarning: The normed argument is ignored when density is provided. In future passing both will result in an error.\n",
      "  bin_means,bins = np.histogram(lis, bins, normed=True, density=True)\n"
     ]
    }
   ],
   "source": [
    "feature_= []\n",
    "target_=[]\n",
    "Haps,Pos = __getitem__1(2,'train')\n",
    "_,target,feature =SNP_WINDOW(Haps[0],Pos[0],2,'train')\n",
    "feature_.append(feature)\n",
    "target_.append(target[0])"
   ]
  },
  {
   "cell_type": "code",
   "execution_count": 215,
   "id": "957d672e",
   "metadata": {},
   "outputs": [],
   "source": [
    "pred = xgb_r.predict(pd.DataFrame(np.stack(feature_,axis=1)).T)"
   ]
  },
  {
   "cell_type": "code",
   "execution_count": 218,
   "id": "2a241d28",
   "metadata": {},
   "outputs": [
    {
     "data": {
      "text/plain": [
       "7.004355986251742e-07"
      ]
     },
     "execution_count": 218,
     "metadata": {},
     "output_type": "execute_result"
    }
   ],
   "source": [
    "de_normalizeTargets(pred[0],'train')"
   ]
  },
  {
   "cell_type": "code",
   "execution_count": 222,
   "id": "06688177",
   "metadata": {},
   "outputs": [
    {
     "data": {
      "text/plain": [
       "7.21345845214046e-07"
      ]
     },
     "execution_count": 222,
     "metadata": {},
     "output_type": "execute_result"
    }
   ],
   "source": [
    "de_normalizeTargets(target[0],'train')"
   ]
  },
  {
   "cell_type": "code",
   "execution_count": null,
   "id": "a9d493b9",
   "metadata": {},
   "outputs": [],
   "source": []
  }
 ],
 "metadata": {
  "kernelspec": {
   "display_name": "Python 3 (ipykernel)",
   "language": "python",
   "name": "python3"
  },
  "language_info": {
   "codemirror_mode": {
    "name": "ipython",
    "version": 3
   },
   "file_extension": ".py",
   "mimetype": "text/x-python",
   "name": "python",
   "nbconvert_exporter": "python",
   "pygments_lexer": "ipython3",
   "version": "3.9.12"
  }
 },
 "nbformat": 4,
 "nbformat_minor": 5
}
