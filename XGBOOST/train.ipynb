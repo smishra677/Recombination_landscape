{
 "cells": [
  {
   "cell_type": "code",
   "execution_count": 1,
   "id": "c2c11d1a",
   "metadata": {},
   "outputs": [],
   "source": [
    "import pandas as pd\n",
    "from collections import Counter"
   ]
  },
  {
   "cell_type": "code",
   "execution_count": 67,
   "id": "03c9e2fc",
   "metadata": {},
   "outputs": [],
   "source": [
    "import os\n",
    "import random\n",
    "import numpy as np\n",
    "import pickle\n",
    "import absl.logging\n",
    "absl.logging.set_verbosity(absl.logging.ERROR)\n",
    "import seaborn as sns\n",
    "import matplotlib.pyplot as plt"
   ]
  },
  {
   "cell_type": "code",
   "execution_count": 68,
   "id": "b8fbd54b",
   "metadata": {},
   "outputs": [],
   "source": [
    "def normalizeTargets(i,file):\n",
    "    ratefile =  os.path.join(file,file+\"_rate.npy\")\n",
    "    \n",
    "    nTargets_1 =np.load(ratefile)\n",
    "    \n",
    "    ratefile_train =  os.path.join('train','train'+\"_rate.npy\")\n",
    "    #ratefile_train =  os.path.join(file,file+\"_rate.npy\")\n",
    "    \n",
    "    nTa =np.load(ratefile_train)\n",
    "    \n",
    "\n",
    "    \n",
    "    mean = np.mean(nTa,axis=0)\n",
    "    std = np.std(nTa,axis=0)\n",
    "    \n",
    "    norm = 'zscore'\n",
    "\n",
    "    if(norm == 'zscore'):\n",
    "        nTargets =nTargets_1- mean\n",
    "        nTargets = np.divide(nTargets,std,out=np.zeros_like(nTargets),where=std!=0)\n",
    "        \n",
    "    else:\n",
    "        nTargets = -np.log(nTargets_1)\n",
    "\n",
    "    return nTargets[i]"
   ]
  },
  {
   "cell_type": "code",
   "execution_count": 69,
   "id": "07a503ed",
   "metadata": {},
   "outputs": [],
   "source": [
    "def de_normalizeTargets(error,file='train'):\n",
    "    ratefile =  os.path.join(file,file+\"_rate.npy\")\n",
    "\n",
    "    nTargets_1 =np.load(ratefile)\n",
    "\n",
    "    ratefile_train =  os.path.join('train','train'+\"_rate.npy\")\n",
    "    \n",
    "    #ratefile_train =  os.path.join(file,file+\"_rate.npy\")\n",
    "    \n",
    "    nTa =np.load(ratefile_train)\n",
    "    \n",
    "\n",
    "    \n",
    "    mean = np.mean(nTa,axis=0)\n",
    "    std = np.std(nTa,axis=0)\n",
    "\n",
    "\n",
    "    erro = np.dot(error,std)+mean\n",
    "\n",
    "    '''\n",
    "    erro = np.exp(-error)\n",
    "    '''\n",
    "    return erro"
   ]
  },
  {
   "cell_type": "code",
   "execution_count": 70,
   "id": "1ffeadc1",
   "metadata": {},
   "outputs": [],
   "source": [
    "def SNP_WINDOW(w,r,i,file):\n",
    " \n",
    "    respectiveNormalizedTargets = [normalizeTargets(i,file)]\n",
    "    targets = np.array(respectiveNormalizedTargets)\n",
    "    lis=[]\n",
    "\n",
    "    for i in w:\n",
    "        co = dict(Counter(i))\n",
    "        if len(co.keys())==2:\n",
    "            lis.append(co[min(co,key=co.get)]/len(i))\n",
    "    bins = np.linspace(0, 1, 20)\n",
    "\n",
    "    bin_means,bins = np.histogram(lis, bins, normed=True, density=True)\n",
    "    bins= bins[1:]\n",
    "    bin_means= bin_means/bin_means.sum()\n",
    "    \n",
    "\n",
    "    \n",
    "    \n",
    "\n",
    "    return np.array(bins),np.array(targets),bin_means"
   ]
  },
  {
   "cell_type": "code",
   "execution_count": 71,
   "id": "87c0e734",
   "metadata": {},
   "outputs": [],
   "source": [
    "def break_window(ha,po,ra,winsize):\n",
    "    print(len(ha))\n",
    "    bins = np.linspace(0, len(ha),winsize)\n",
    "\n",
    "    bin_means,bins = np.histogram(ha, bins)\n",
    "    print(bin_means)"
   ]
  },
  {
   "cell_type": "code",
   "execution_count": 72,
   "id": "633a7779",
   "metadata": {},
   "outputs": [],
   "source": [
    "def __data_generation1(batchTreeIndices,file):\n",
    "\n",
    "        haps = []\n",
    "        pos = []\n",
    "        rate =[]\n",
    "        for treeIndex in batchTreeIndices:\n",
    "            Hfilepath = os.path.join(file,str(treeIndex) + \"_haps.npy\")\n",
    "            Pfilepath = os.path.join(file, str(treeIndex) +\"_pos.npy\")\n",
    "            H = np.load(Hfilepath)\n",
    "            P = np.load(Pfilepath)\n",
    "\n",
    "            haps.append(H)\n",
    "            pos.append(P)\n",
    "\n",
    "        return haps,pos\n",
    "\n",
    "\n",
    "            \n",
    "def __getitem__1(idx,val):\n",
    "    X,x1= __data_generation1([idx],val)\n",
    "    return X,x1"
   ]
  },
  {
   "cell_type": "code",
   "execution_count": 73,
   "id": "64c7f10a",
   "metadata": {},
   "outputs": [
    {
     "name": "stderr",
     "output_type": "stream",
     "text": [
      "/tmp/ipykernel_63524/3638402278.py:13: DeprecationWarning: The normed argument is ignored when density is provided. In future passing both will result in an error.\n",
      "  bin_means,bins = np.histogram(lis, bins, normed=True, density=True)\n"
     ]
    }
   ],
   "source": [
    "lis_train=[]\n",
    "train_=[]\n",
    "for i in range(1000):\n",
    "    x,pos= __getitem__1(i,'train')\n",
    "    \n",
    "    if len(pos[0])>0:\n",
    "        vale2,targets,vale1 = SNP_WINDOW(x[0],pos[0],i,'train')\n",
    "\n",
    "        lis_train.append(vale1)\n",
    "        #lis_train.append(len(pos[0]))\n",
    "        train_.append(targets[0])\n",
    "\n"
   ]
  },
  {
   "cell_type": "code",
   "execution_count": null,
   "id": "d29ec675",
   "metadata": {},
   "outputs": [],
   "source": []
  },
  {
   "cell_type": "code",
   "execution_count": 74,
   "id": "fe5238e8",
   "metadata": {},
   "outputs": [
    {
     "name": "stderr",
     "output_type": "stream",
     "text": [
      "/tmp/ipykernel_63524/3638402278.py:13: DeprecationWarning: The normed argument is ignored when density is provided. In future passing both will result in an error.\n",
      "  bin_means,bins = np.histogram(lis, bins, normed=True, density=True)\n"
     ]
    }
   ],
   "source": [
    "lis_test=[]\n",
    "test_=[]\n",
    "for i in range(50):\n",
    "    x,pos= __getitem__1(i,'test')\n",
    "    if len(pos[0])>0:\n",
    "        vale2,targets,vale1 = SNP_WINDOW(x[0],pos[0],i,'test')\n",
    "        lis_test.append(vale1)\n",
    "        #lis_test.append(len(pos[0]))\n",
    "        test_.append(targets[0])\n",
    "    \n"
   ]
  },
  {
   "cell_type": "code",
   "execution_count": null,
   "id": "4a9081b3",
   "metadata": {},
   "outputs": [],
   "source": []
  },
  {
   "cell_type": "code",
   "execution_count": 75,
   "id": "1be925f1",
   "metadata": {},
   "outputs": [
    {
     "name": "stderr",
     "output_type": "stream",
     "text": [
      "/tmp/ipykernel_63524/3638402278.py:13: DeprecationWarning: The normed argument is ignored when density is provided. In future passing both will result in an error.\n",
      "  bin_means,bins = np.histogram(lis, bins, normed=True, density=True)\n"
     ]
    }
   ],
   "source": [
    "vali_x=[]\n",
    "vali_y=[]\n",
    "for i in range(500):\n",
    "    x,pos= __getitem__1(i,'validation')\n",
    "\n",
    "    if len(pos[0])>0:\n",
    "        vale2,targets,vale1 = SNP_WINDOW(x[0],pos[0],i,'validation')\n",
    "\n",
    "        vali_x.append(vale1)\n",
    "        #vali_x.append(len(pos[0]))\n",
    "        vali_y.append(targets[0])\n",
    "\n"
   ]
  },
  {
   "cell_type": "code",
   "execution_count": 76,
   "id": "1aa9be68",
   "metadata": {},
   "outputs": [],
   "source": [
    "Haps,Pos = __getitem__1(0,'train')"
   ]
  },
  {
   "cell_type": "code",
   "execution_count": null,
   "id": "b7de8066",
   "metadata": {},
   "outputs": [],
   "source": []
  },
  {
   "cell_type": "code",
   "execution_count": 77,
   "id": "9009e8a9",
   "metadata": {},
   "outputs": [],
   "source": [
    "# len(Pos[0])"
   ]
  },
  {
   "cell_type": "code",
   "execution_count": 78,
   "id": "ee832667",
   "metadata": {},
   "outputs": [
    {
     "data": {
      "text/plain": [
       "array([  62.228672,   86.575905,   91.161026,  436.9068  ,  512.6168  ,\n",
       "        543.7537  ,  560.44977 ,  560.77045 ,  568.4887  ,  699.4387  ,\n",
       "        899.0491  ,  900.444   , 1032.1564  , 1234.6888  , 1322.9974  ,\n",
       "       1383.883   , 1384.855   , 1873.0293  , 1958.2362  , 2001.5453  ,\n",
       "       2012.9316  , 2127.7693  , 2336.3848  , 2400.9158  , 2404.4448  ,\n",
       "       2490.8672  , 2510.3438  , 2530.7346  , 2595.7378  , 2600.3704  ,\n",
       "       2847.0786  , 2934.4084  , 2958.7698  , 2992.9387  , 3012.4766  ,\n",
       "       3105.0742  , 3105.083   , 3286.3535  , 3730.6492  , 3862.3486  ,\n",
       "       4114.5664  , 4216.6245  , 4239.153   , 4372.979   , 4404.03    ,\n",
       "       4532.5645  , 4606.509   , 4800.3022  , 4839.803   , 5012.8047  ,\n",
       "       5170.862   , 5273.669   , 5324.005   , 5386.0938  , 5419.1724  ,\n",
       "       5485.2515  , 5686.4663  , 5711.1406  , 5763.2627  , 5844.549   ,\n",
       "       6011.6978  , 6029.4575  , 6264.479   , 6290.0107  , 6427.1904  ,\n",
       "       6509.666   , 6583.4683  , 6680.128   , 6705.524   , 6743.107   ,\n",
       "       6890.612   , 6951.5557  , 6976.5337  , 7067.6074  , 7359.314   ,\n",
       "       7416.6904  , 7508.05    , 7713.483   , 7734.805   , 7925.4824  ,\n",
       "       8280.319   , 8336.654   , 8341.198   , 8385.56    , 8387.414   ,\n",
       "       8461.802   , 8495.637   , 8815.375   , 8864.946   , 8935.184   ,\n",
       "       9239.914   , 9451.959   , 9552.547   , 9609.458   , 9795.605   ,\n",
       "       9839.374   , 9841.774   , 9856.7295  , 9983.64    ], dtype=float32)"
      ]
     },
     "execution_count": 78,
     "metadata": {},
     "output_type": "execute_result"
    }
   ],
   "source": [
    "Pos[0]"
   ]
  },
  {
   "cell_type": "code",
   "execution_count": 79,
   "id": "299168ef",
   "metadata": {},
   "outputs": [
    {
     "name": "stderr",
     "output_type": "stream",
     "text": [
      "/tmp/ipykernel_63524/3638402278.py:13: DeprecationWarning: The normed argument is ignored when density is provided. In future passing both will result in an error.\n",
      "  bin_means,bins = np.histogram(lis, bins, normed=True, density=True)\n"
     ]
    }
   ],
   "source": [
    "_,target,feature =SNP_WINDOW(Haps[0],Pos[0],0,'train')"
   ]
  },
  {
   "cell_type": "code",
   "execution_count": null,
   "id": "0e06a35a",
   "metadata": {},
   "outputs": [],
   "source": []
  },
  {
   "cell_type": "code",
   "execution_count": 80,
   "id": "e1fe067e",
   "metadata": {},
   "outputs": [
    {
     "data": {
      "text/plain": [
       "array([-1.71207203])"
      ]
     },
     "execution_count": 80,
     "metadata": {},
     "output_type": "execute_result"
    }
   ],
   "source": [
    "target"
   ]
  },
  {
   "cell_type": "code",
   "execution_count": 81,
   "id": "63dac1f1",
   "metadata": {},
   "outputs": [],
   "source": [
    "import xgboost as xg\n",
    "from sklearn.metrics import mean_squared_error as MSE\n",
    "xgb_r = xg.XGBRegressor(\n",
    "    #objective = 'reg:linear',\n",
    "    \n",
    "    objective = 'reg:squarederror',\n",
    "    colsample_bytree = 0.5,\n",
    "    learning_rate = 0.05,\n",
    "    max_depth = 6,\n",
    "    min_child_weight = 1,\n",
    "    n_estimators = 1000,\n",
    "    subsample = 0.7\n",
    ")"
   ]
  },
  {
   "cell_type": "code",
   "execution_count": 82,
   "id": "f7088def",
   "metadata": {},
   "outputs": [],
   "source": [
    "#xgb_r = xg.XGBRegressor(objective ='reg:linear',n_estimators = 2500, seed = 123)"
   ]
  },
  {
   "cell_type": "code",
   "execution_count": 83,
   "id": "26571f27",
   "metadata": {},
   "outputs": [],
   "source": [
    "fd= pd.DataFrame(np.stack(lis_train,axis=1)).T\n",
    "#fd= pd.DataFrame(lis_train)"
   ]
  },
  {
   "cell_type": "code",
   "execution_count": null,
   "id": "3be7da46",
   "metadata": {},
   "outputs": [],
   "source": []
  },
  {
   "cell_type": "code",
   "execution_count": 84,
   "id": "def7007f",
   "metadata": {},
   "outputs": [
    {
     "data": {
      "text/html": [
       "<div>\n",
       "<style scoped>\n",
       "    .dataframe tbody tr th:only-of-type {\n",
       "        vertical-align: middle;\n",
       "    }\n",
       "\n",
       "    .dataframe tbody tr th {\n",
       "        vertical-align: top;\n",
       "    }\n",
       "\n",
       "    .dataframe thead th {\n",
       "        text-align: right;\n",
       "    }\n",
       "</style>\n",
       "<table border=\"1\" class=\"dataframe\">\n",
       "  <thead>\n",
       "    <tr style=\"text-align: right;\">\n",
       "      <th></th>\n",
       "      <th>0</th>\n",
       "      <th>1</th>\n",
       "      <th>2</th>\n",
       "      <th>3</th>\n",
       "      <th>4</th>\n",
       "      <th>5</th>\n",
       "      <th>6</th>\n",
       "      <th>7</th>\n",
       "      <th>8</th>\n",
       "      <th>9</th>\n",
       "      <th>10</th>\n",
       "      <th>11</th>\n",
       "      <th>12</th>\n",
       "      <th>13</th>\n",
       "      <th>14</th>\n",
       "      <th>15</th>\n",
       "      <th>16</th>\n",
       "      <th>17</th>\n",
       "      <th>18</th>\n",
       "    </tr>\n",
       "  </thead>\n",
       "  <tbody>\n",
       "    <tr>\n",
       "      <th>0</th>\n",
       "      <td>0.292929</td>\n",
       "      <td>0.111111</td>\n",
       "      <td>0.080808</td>\n",
       "      <td>0.090909</td>\n",
       "      <td>0.101010</td>\n",
       "      <td>0.060606</td>\n",
       "      <td>0.131313</td>\n",
       "      <td>0.080808</td>\n",
       "      <td>0.030303</td>\n",
       "      <td>0.020202</td>\n",
       "      <td>0.0</td>\n",
       "      <td>0.0</td>\n",
       "      <td>0.0</td>\n",
       "      <td>0.0</td>\n",
       "      <td>0.0</td>\n",
       "      <td>0.0</td>\n",
       "      <td>0.0</td>\n",
       "      <td>0.0</td>\n",
       "      <td>0.0</td>\n",
       "    </tr>\n",
       "    <tr>\n",
       "      <th>1</th>\n",
       "      <td>0.323529</td>\n",
       "      <td>0.205882</td>\n",
       "      <td>0.088235</td>\n",
       "      <td>0.088235</td>\n",
       "      <td>0.039216</td>\n",
       "      <td>0.088235</td>\n",
       "      <td>0.039216</td>\n",
       "      <td>0.049020</td>\n",
       "      <td>0.029412</td>\n",
       "      <td>0.049020</td>\n",
       "      <td>0.0</td>\n",
       "      <td>0.0</td>\n",
       "      <td>0.0</td>\n",
       "      <td>0.0</td>\n",
       "      <td>0.0</td>\n",
       "      <td>0.0</td>\n",
       "      <td>0.0</td>\n",
       "      <td>0.0</td>\n",
       "      <td>0.0</td>\n",
       "    </tr>\n",
       "    <tr>\n",
       "      <th>2</th>\n",
       "      <td>0.320388</td>\n",
       "      <td>0.145631</td>\n",
       "      <td>0.106796</td>\n",
       "      <td>0.058252</td>\n",
       "      <td>0.087379</td>\n",
       "      <td>0.067961</td>\n",
       "      <td>0.067961</td>\n",
       "      <td>0.038835</td>\n",
       "      <td>0.077670</td>\n",
       "      <td>0.029126</td>\n",
       "      <td>0.0</td>\n",
       "      <td>0.0</td>\n",
       "      <td>0.0</td>\n",
       "      <td>0.0</td>\n",
       "      <td>0.0</td>\n",
       "      <td>0.0</td>\n",
       "      <td>0.0</td>\n",
       "      <td>0.0</td>\n",
       "      <td>0.0</td>\n",
       "    </tr>\n",
       "    <tr>\n",
       "      <th>3</th>\n",
       "      <td>0.202247</td>\n",
       "      <td>0.134831</td>\n",
       "      <td>0.123596</td>\n",
       "      <td>0.101124</td>\n",
       "      <td>0.101124</td>\n",
       "      <td>0.123596</td>\n",
       "      <td>0.067416</td>\n",
       "      <td>0.078652</td>\n",
       "      <td>0.033708</td>\n",
       "      <td>0.033708</td>\n",
       "      <td>0.0</td>\n",
       "      <td>0.0</td>\n",
       "      <td>0.0</td>\n",
       "      <td>0.0</td>\n",
       "      <td>0.0</td>\n",
       "      <td>0.0</td>\n",
       "      <td>0.0</td>\n",
       "      <td>0.0</td>\n",
       "      <td>0.0</td>\n",
       "    </tr>\n",
       "    <tr>\n",
       "      <th>4</th>\n",
       "      <td>0.363636</td>\n",
       "      <td>0.172727</td>\n",
       "      <td>0.072727</td>\n",
       "      <td>0.118182</td>\n",
       "      <td>0.027273</td>\n",
       "      <td>0.054545</td>\n",
       "      <td>0.036364</td>\n",
       "      <td>0.054545</td>\n",
       "      <td>0.063636</td>\n",
       "      <td>0.036364</td>\n",
       "      <td>0.0</td>\n",
       "      <td>0.0</td>\n",
       "      <td>0.0</td>\n",
       "      <td>0.0</td>\n",
       "      <td>0.0</td>\n",
       "      <td>0.0</td>\n",
       "      <td>0.0</td>\n",
       "      <td>0.0</td>\n",
       "      <td>0.0</td>\n",
       "    </tr>\n",
       "    <tr>\n",
       "      <th>...</th>\n",
       "      <td>...</td>\n",
       "      <td>...</td>\n",
       "      <td>...</td>\n",
       "      <td>...</td>\n",
       "      <td>...</td>\n",
       "      <td>...</td>\n",
       "      <td>...</td>\n",
       "      <td>...</td>\n",
       "      <td>...</td>\n",
       "      <td>...</td>\n",
       "      <td>...</td>\n",
       "      <td>...</td>\n",
       "      <td>...</td>\n",
       "      <td>...</td>\n",
       "      <td>...</td>\n",
       "      <td>...</td>\n",
       "      <td>...</td>\n",
       "      <td>...</td>\n",
       "      <td>...</td>\n",
       "    </tr>\n",
       "    <tr>\n",
       "      <th>995</th>\n",
       "      <td>0.263158</td>\n",
       "      <td>0.219298</td>\n",
       "      <td>0.131579</td>\n",
       "      <td>0.052632</td>\n",
       "      <td>0.043860</td>\n",
       "      <td>0.052632</td>\n",
       "      <td>0.043860</td>\n",
       "      <td>0.070175</td>\n",
       "      <td>0.043860</td>\n",
       "      <td>0.078947</td>\n",
       "      <td>0.0</td>\n",
       "      <td>0.0</td>\n",
       "      <td>0.0</td>\n",
       "      <td>0.0</td>\n",
       "      <td>0.0</td>\n",
       "      <td>0.0</td>\n",
       "      <td>0.0</td>\n",
       "      <td>0.0</td>\n",
       "      <td>0.0</td>\n",
       "    </tr>\n",
       "    <tr>\n",
       "      <th>996</th>\n",
       "      <td>0.270000</td>\n",
       "      <td>0.190000</td>\n",
       "      <td>0.170000</td>\n",
       "      <td>0.070000</td>\n",
       "      <td>0.070000</td>\n",
       "      <td>0.080000</td>\n",
       "      <td>0.060000</td>\n",
       "      <td>0.030000</td>\n",
       "      <td>0.050000</td>\n",
       "      <td>0.010000</td>\n",
       "      <td>0.0</td>\n",
       "      <td>0.0</td>\n",
       "      <td>0.0</td>\n",
       "      <td>0.0</td>\n",
       "      <td>0.0</td>\n",
       "      <td>0.0</td>\n",
       "      <td>0.0</td>\n",
       "      <td>0.0</td>\n",
       "      <td>0.0</td>\n",
       "    </tr>\n",
       "    <tr>\n",
       "      <th>997</th>\n",
       "      <td>0.265060</td>\n",
       "      <td>0.168675</td>\n",
       "      <td>0.072289</td>\n",
       "      <td>0.060241</td>\n",
       "      <td>0.108434</td>\n",
       "      <td>0.108434</td>\n",
       "      <td>0.084337</td>\n",
       "      <td>0.084337</td>\n",
       "      <td>0.024096</td>\n",
       "      <td>0.024096</td>\n",
       "      <td>0.0</td>\n",
       "      <td>0.0</td>\n",
       "      <td>0.0</td>\n",
       "      <td>0.0</td>\n",
       "      <td>0.0</td>\n",
       "      <td>0.0</td>\n",
       "      <td>0.0</td>\n",
       "      <td>0.0</td>\n",
       "      <td>0.0</td>\n",
       "    </tr>\n",
       "    <tr>\n",
       "      <th>998</th>\n",
       "      <td>0.311111</td>\n",
       "      <td>0.155556</td>\n",
       "      <td>0.044444</td>\n",
       "      <td>0.111111</td>\n",
       "      <td>0.111111</td>\n",
       "      <td>0.033333</td>\n",
       "      <td>0.044444</td>\n",
       "      <td>0.077778</td>\n",
       "      <td>0.088889</td>\n",
       "      <td>0.022222</td>\n",
       "      <td>0.0</td>\n",
       "      <td>0.0</td>\n",
       "      <td>0.0</td>\n",
       "      <td>0.0</td>\n",
       "      <td>0.0</td>\n",
       "      <td>0.0</td>\n",
       "      <td>0.0</td>\n",
       "      <td>0.0</td>\n",
       "      <td>0.0</td>\n",
       "    </tr>\n",
       "    <tr>\n",
       "      <th>999</th>\n",
       "      <td>0.340000</td>\n",
       "      <td>0.140000</td>\n",
       "      <td>0.080000</td>\n",
       "      <td>0.110000</td>\n",
       "      <td>0.040000</td>\n",
       "      <td>0.110000</td>\n",
       "      <td>0.060000</td>\n",
       "      <td>0.040000</td>\n",
       "      <td>0.020000</td>\n",
       "      <td>0.060000</td>\n",
       "      <td>0.0</td>\n",
       "      <td>0.0</td>\n",
       "      <td>0.0</td>\n",
       "      <td>0.0</td>\n",
       "      <td>0.0</td>\n",
       "      <td>0.0</td>\n",
       "      <td>0.0</td>\n",
       "      <td>0.0</td>\n",
       "      <td>0.0</td>\n",
       "    </tr>\n",
       "  </tbody>\n",
       "</table>\n",
       "<p>1000 rows × 19 columns</p>\n",
       "</div>"
      ],
      "text/plain": [
       "           0         1         2         3         4         5         6   \\\n",
       "0    0.292929  0.111111  0.080808  0.090909  0.101010  0.060606  0.131313   \n",
       "1    0.323529  0.205882  0.088235  0.088235  0.039216  0.088235  0.039216   \n",
       "2    0.320388  0.145631  0.106796  0.058252  0.087379  0.067961  0.067961   \n",
       "3    0.202247  0.134831  0.123596  0.101124  0.101124  0.123596  0.067416   \n",
       "4    0.363636  0.172727  0.072727  0.118182  0.027273  0.054545  0.036364   \n",
       "..        ...       ...       ...       ...       ...       ...       ...   \n",
       "995  0.263158  0.219298  0.131579  0.052632  0.043860  0.052632  0.043860   \n",
       "996  0.270000  0.190000  0.170000  0.070000  0.070000  0.080000  0.060000   \n",
       "997  0.265060  0.168675  0.072289  0.060241  0.108434  0.108434  0.084337   \n",
       "998  0.311111  0.155556  0.044444  0.111111  0.111111  0.033333  0.044444   \n",
       "999  0.340000  0.140000  0.080000  0.110000  0.040000  0.110000  0.060000   \n",
       "\n",
       "           7         8         9    10   11   12   13   14   15   16   17   18  \n",
       "0    0.080808  0.030303  0.020202  0.0  0.0  0.0  0.0  0.0  0.0  0.0  0.0  0.0  \n",
       "1    0.049020  0.029412  0.049020  0.0  0.0  0.0  0.0  0.0  0.0  0.0  0.0  0.0  \n",
       "2    0.038835  0.077670  0.029126  0.0  0.0  0.0  0.0  0.0  0.0  0.0  0.0  0.0  \n",
       "3    0.078652  0.033708  0.033708  0.0  0.0  0.0  0.0  0.0  0.0  0.0  0.0  0.0  \n",
       "4    0.054545  0.063636  0.036364  0.0  0.0  0.0  0.0  0.0  0.0  0.0  0.0  0.0  \n",
       "..        ...       ...       ...  ...  ...  ...  ...  ...  ...  ...  ...  ...  \n",
       "995  0.070175  0.043860  0.078947  0.0  0.0  0.0  0.0  0.0  0.0  0.0  0.0  0.0  \n",
       "996  0.030000  0.050000  0.010000  0.0  0.0  0.0  0.0  0.0  0.0  0.0  0.0  0.0  \n",
       "997  0.084337  0.024096  0.024096  0.0  0.0  0.0  0.0  0.0  0.0  0.0  0.0  0.0  \n",
       "998  0.077778  0.088889  0.022222  0.0  0.0  0.0  0.0  0.0  0.0  0.0  0.0  0.0  \n",
       "999  0.040000  0.020000  0.060000  0.0  0.0  0.0  0.0  0.0  0.0  0.0  0.0  0.0  \n",
       "\n",
       "[1000 rows x 19 columns]"
      ]
     },
     "execution_count": 84,
     "metadata": {},
     "output_type": "execute_result"
    }
   ],
   "source": [
    "fd"
   ]
  },
  {
   "cell_type": "code",
   "execution_count": 85,
   "id": "e737cd9f",
   "metadata": {},
   "outputs": [],
   "source": [
    "target =pd.DataFrame(train_,columns=['target'])"
   ]
  },
  {
   "cell_type": "code",
   "execution_count": 86,
   "id": "0aee78dc",
   "metadata": {},
   "outputs": [
    {
     "data": {
      "text/html": [
       "<div>\n",
       "<style scoped>\n",
       "    .dataframe tbody tr th:only-of-type {\n",
       "        vertical-align: middle;\n",
       "    }\n",
       "\n",
       "    .dataframe tbody tr th {\n",
       "        vertical-align: top;\n",
       "    }\n",
       "\n",
       "    .dataframe thead th {\n",
       "        text-align: right;\n",
       "    }\n",
       "</style>\n",
       "<table border=\"1\" class=\"dataframe\">\n",
       "  <thead>\n",
       "    <tr style=\"text-align: right;\">\n",
       "      <th></th>\n",
       "      <th>target</th>\n",
       "    </tr>\n",
       "  </thead>\n",
       "  <tbody>\n",
       "    <tr>\n",
       "      <th>0</th>\n",
       "      <td>-1.712072</td>\n",
       "    </tr>\n",
       "    <tr>\n",
       "      <th>1</th>\n",
       "      <td>0.642617</td>\n",
       "    </tr>\n",
       "    <tr>\n",
       "      <th>2</th>\n",
       "      <td>1.308123</td>\n",
       "    </tr>\n",
       "    <tr>\n",
       "      <th>3</th>\n",
       "      <td>-1.151981</td>\n",
       "    </tr>\n",
       "    <tr>\n",
       "      <th>4</th>\n",
       "      <td>1.089646</td>\n",
       "    </tr>\n",
       "    <tr>\n",
       "      <th>...</th>\n",
       "      <td>...</td>\n",
       "    </tr>\n",
       "    <tr>\n",
       "      <th>995</th>\n",
       "      <td>-1.334399</td>\n",
       "    </tr>\n",
       "    <tr>\n",
       "      <th>996</th>\n",
       "      <td>-1.094373</td>\n",
       "    </tr>\n",
       "    <tr>\n",
       "      <th>997</th>\n",
       "      <td>0.782895</td>\n",
       "    </tr>\n",
       "    <tr>\n",
       "      <th>998</th>\n",
       "      <td>0.209830</td>\n",
       "    </tr>\n",
       "    <tr>\n",
       "      <th>999</th>\n",
       "      <td>-0.051466</td>\n",
       "    </tr>\n",
       "  </tbody>\n",
       "</table>\n",
       "<p>1000 rows × 1 columns</p>\n",
       "</div>"
      ],
      "text/plain": [
       "       target\n",
       "0   -1.712072\n",
       "1    0.642617\n",
       "2    1.308123\n",
       "3   -1.151981\n",
       "4    1.089646\n",
       "..        ...\n",
       "995 -1.334399\n",
       "996 -1.094373\n",
       "997  0.782895\n",
       "998  0.209830\n",
       "999 -0.051466\n",
       "\n",
       "[1000 rows x 1 columns]"
      ]
     },
     "execution_count": 86,
     "metadata": {},
     "output_type": "execute_result"
    }
   ],
   "source": [
    "target"
   ]
  },
  {
   "cell_type": "code",
   "execution_count": null,
   "id": "75cb9f2d",
   "metadata": {},
   "outputs": [],
   "source": []
  },
  {
   "cell_type": "code",
   "execution_count": null,
   "id": "dea3d50d",
   "metadata": {},
   "outputs": [],
   "source": []
  },
  {
   "cell_type": "code",
   "execution_count": 87,
   "id": "ed4dee17",
   "metadata": {},
   "outputs": [
    {
     "data": {
      "text/plain": [
       "XGBRegressor(base_score=None, booster=None, callbacks=None,\n",
       "             colsample_bylevel=None, colsample_bynode=None,\n",
       "             colsample_bytree=0.5, early_stopping_rounds=None,\n",
       "             enable_categorical=False, eval_metric=None, feature_types=None,\n",
       "             gamma=None, gpu_id=None, grow_policy=None, importance_type=None,\n",
       "             interaction_constraints=None, learning_rate=0.05, max_bin=None,\n",
       "             max_cat_threshold=None, max_cat_to_onehot=None,\n",
       "             max_delta_step=None, max_depth=6, max_leaves=None,\n",
       "             min_child_weight=1, missing=nan, monotone_constraints=None,\n",
       "             n_estimators=1000, n_jobs=None, num_parallel_tree=None,\n",
       "             predictor=None, random_state=None, ...)"
      ]
     },
     "execution_count": 87,
     "metadata": {},
     "output_type": "execute_result"
    }
   ],
   "source": [
    "xgb_r.fit(fd,target)\n",
    "#pred = xgb_r.predict(np.vstack(feature))\n",
    "\n"
   ]
  },
  {
   "cell_type": "code",
   "execution_count": 88,
   "id": "957d672e",
   "metadata": {},
   "outputs": [],
   "source": [
    "#pred = xgb_r.predict(pd.DataFrame(np.stack(lis_test,axis=1)).T)\n",
    "\n",
    "pred = xgb_r.predict(pd.DataFrame(vali_x))"
   ]
  },
  {
   "cell_type": "code",
   "execution_count": 89,
   "id": "2a241d28",
   "metadata": {},
   "outputs": [],
   "source": [
    "pred_df =pd.DataFrame(de_normalizeTargets(pred,'validation'))"
   ]
  },
  {
   "cell_type": "code",
   "execution_count": 90,
   "id": "de949897",
   "metadata": {},
   "outputs": [
    {
     "data": {
      "text/html": [
       "<div>\n",
       "<style scoped>\n",
       "    .dataframe tbody tr th:only-of-type {\n",
       "        vertical-align: middle;\n",
       "    }\n",
       "\n",
       "    .dataframe tbody tr th {\n",
       "        vertical-align: top;\n",
       "    }\n",
       "\n",
       "    .dataframe thead th {\n",
       "        text-align: right;\n",
       "    }\n",
       "</style>\n",
       "<table border=\"1\" class=\"dataframe\">\n",
       "  <thead>\n",
       "    <tr style=\"text-align: right;\">\n",
       "      <th></th>\n",
       "      <th>0</th>\n",
       "    </tr>\n",
       "  </thead>\n",
       "  <tbody>\n",
       "    <tr>\n",
       "      <th>0</th>\n",
       "      <td>6.005902e-07</td>\n",
       "    </tr>\n",
       "    <tr>\n",
       "      <th>1</th>\n",
       "      <td>3.791909e-07</td>\n",
       "    </tr>\n",
       "    <tr>\n",
       "      <th>2</th>\n",
       "      <td>6.377286e-07</td>\n",
       "    </tr>\n",
       "    <tr>\n",
       "      <th>3</th>\n",
       "      <td>6.516443e-07</td>\n",
       "    </tr>\n",
       "    <tr>\n",
       "      <th>4</th>\n",
       "      <td>6.136562e-07</td>\n",
       "    </tr>\n",
       "    <tr>\n",
       "      <th>...</th>\n",
       "      <td>...</td>\n",
       "    </tr>\n",
       "    <tr>\n",
       "      <th>495</th>\n",
       "      <td>6.248007e-07</td>\n",
       "    </tr>\n",
       "    <tr>\n",
       "      <th>496</th>\n",
       "      <td>6.075044e-07</td>\n",
       "    </tr>\n",
       "    <tr>\n",
       "      <th>497</th>\n",
       "      <td>4.997273e-07</td>\n",
       "    </tr>\n",
       "    <tr>\n",
       "      <th>498</th>\n",
       "      <td>4.413046e-07</td>\n",
       "    </tr>\n",
       "    <tr>\n",
       "      <th>499</th>\n",
       "      <td>5.340012e-07</td>\n",
       "    </tr>\n",
       "  </tbody>\n",
       "</table>\n",
       "<p>500 rows × 1 columns</p>\n",
       "</div>"
      ],
      "text/plain": [
       "                0\n",
       "0    6.005902e-07\n",
       "1    3.791909e-07\n",
       "2    6.377286e-07\n",
       "3    6.516443e-07\n",
       "4    6.136562e-07\n",
       "..            ...\n",
       "495  6.248007e-07\n",
       "496  6.075044e-07\n",
       "497  4.997273e-07\n",
       "498  4.413046e-07\n",
       "499  5.340012e-07\n",
       "\n",
       "[500 rows x 1 columns]"
      ]
     },
     "execution_count": 90,
     "metadata": {},
     "output_type": "execute_result"
    }
   ],
   "source": [
    "pred_df"
   ]
  },
  {
   "cell_type": "code",
   "execution_count": 91,
   "id": "06688177",
   "metadata": {},
   "outputs": [],
   "source": [
    "true_df = pd.DataFrame(de_normalizeTargets(np.array(vali_y),'validation'))"
   ]
  },
  {
   "cell_type": "code",
   "execution_count": 92,
   "id": "026ae48c",
   "metadata": {},
   "outputs": [
    {
     "data": {
      "text/html": [
       "<div>\n",
       "<style scoped>\n",
       "    .dataframe tbody tr th:only-of-type {\n",
       "        vertical-align: middle;\n",
       "    }\n",
       "\n",
       "    .dataframe tbody tr th {\n",
       "        vertical-align: top;\n",
       "    }\n",
       "\n",
       "    .dataframe thead th {\n",
       "        text-align: right;\n",
       "    }\n",
       "</style>\n",
       "<table border=\"1\" class=\"dataframe\">\n",
       "  <thead>\n",
       "    <tr style=\"text-align: right;\">\n",
       "      <th></th>\n",
       "      <th>0</th>\n",
       "    </tr>\n",
       "  </thead>\n",
       "  <tbody>\n",
       "    <tr>\n",
       "      <th>0</th>\n",
       "      <td>6.755989e-07</td>\n",
       "    </tr>\n",
       "    <tr>\n",
       "      <th>1</th>\n",
       "      <td>8.491505e-07</td>\n",
       "    </tr>\n",
       "    <tr>\n",
       "      <th>2</th>\n",
       "      <td>5.001767e-07</td>\n",
       "    </tr>\n",
       "    <tr>\n",
       "      <th>3</th>\n",
       "      <td>4.164871e-07</td>\n",
       "    </tr>\n",
       "    <tr>\n",
       "      <th>4</th>\n",
       "      <td>1.642206e-07</td>\n",
       "    </tr>\n",
       "    <tr>\n",
       "      <th>...</th>\n",
       "      <td>...</td>\n",
       "    </tr>\n",
       "    <tr>\n",
       "      <th>495</th>\n",
       "      <td>1.544302e-07</td>\n",
       "    </tr>\n",
       "    <tr>\n",
       "      <th>496</th>\n",
       "      <td>4.130613e-07</td>\n",
       "    </tr>\n",
       "    <tr>\n",
       "      <th>497</th>\n",
       "      <td>1.741429e-07</td>\n",
       "    </tr>\n",
       "    <tr>\n",
       "      <th>498</th>\n",
       "      <td>4.913616e-07</td>\n",
       "    </tr>\n",
       "    <tr>\n",
       "      <th>499</th>\n",
       "      <td>2.157441e-07</td>\n",
       "    </tr>\n",
       "  </tbody>\n",
       "</table>\n",
       "<p>500 rows × 1 columns</p>\n",
       "</div>"
      ],
      "text/plain": [
       "                0\n",
       "0    6.755989e-07\n",
       "1    8.491505e-07\n",
       "2    5.001767e-07\n",
       "3    4.164871e-07\n",
       "4    1.642206e-07\n",
       "..            ...\n",
       "495  1.544302e-07\n",
       "496  4.130613e-07\n",
       "497  1.741429e-07\n",
       "498  4.913616e-07\n",
       "499  2.157441e-07\n",
       "\n",
       "[500 rows x 1 columns]"
      ]
     },
     "execution_count": 92,
     "metadata": {},
     "output_type": "execute_result"
    }
   ],
   "source": [
    "true_df"
   ]
  },
  {
   "cell_type": "code",
   "execution_count": 93,
   "id": "a9d493b9",
   "metadata": {},
   "outputs": [
    {
     "data": {
      "image/png": "[encoded data removed]",
      "text/plain": [
       "<Figure size 432x288 with 1 Axes>"
      ]
     },
     "metadata": {
      "needs_background": "light"
     },
     "output_type": "display_data"
    }
   ],
   "source": [
    "(pred_df-true_df)\n",
    "\n",
    "import seaborn as sns\n",
    "\n",
    "\n",
    "frames = [true_df, pred_df]\n",
    "\n",
    "\n",
    "result =pd.concat([true_df,pred_df.rename(columns={'b':'a'})], ignore_index=True,axis=1)\n",
    "sns.scatterplot(data=result,x=1,y=0)\n",
    " \n",
    "# Show the plot\n",
    "plt.show()"
   ]
  },
  {
   "cell_type": "code",
   "execution_count": 94,
   "id": "58902400",
   "metadata": {},
   "outputs": [
    {
     "data": {
      "image/png": "[encoded data removed]",
      "text/plain": [
       "<Figure size 432x288 with 1 Axes>"
      ]
     },
     "metadata": {
      "needs_background": "light"
     },
     "output_type": "display_data"
    }
   ],
   "source": [
    "\n",
    "plt.clf()\n",
    "result =pd.concat([fd,pd.DataFrame(de_normalizeTargets(train_,'train')).rename(columns={'b':'a'})], ignore_index=True,axis=1)\n",
    "sns.scatterplot(data=result,x=1,y=0)\n",
    " \n",
    "# Show the plot\n",
    "plt.show()\n"
   ]
  },
  {
   "cell_type": "code",
   "execution_count": 95,
   "id": "55815716",
   "metadata": {},
   "outputs": [],
   "source": [
    "from scipy.stats import spearmanr\n",
    "rho, p = spearmanr(true_df,pred_df)\n"
   ]
  },
  {
   "cell_type": "code",
   "execution_count": 96,
   "id": "aa3c6708",
   "metadata": {},
   "outputs": [
    {
     "data": {
      "text/plain": [
       "-0.0004435217953762282"
      ]
     },
     "execution_count": 96,
     "metadata": {},
     "output_type": "execute_result"
    }
   ],
   "source": [
    "rho"
   ]
  },
  {
   "cell_type": "code",
   "execution_count": 97,
   "id": "d5b37768",
   "metadata": {},
   "outputs": [
    {
     "data": {
      "text/plain": [
       "0.9921069542863894"
      ]
     },
     "execution_count": 97,
     "metadata": {},
     "output_type": "execute_result"
    }
   ],
   "source": [
    "p"
   ]
  },
  {
   "cell_type": "code",
   "execution_count": 98,
   "id": "cd40aaa7",
   "metadata": {},
   "outputs": [],
   "source": [
    "from sklearn.linear_model import LinearRegression"
   ]
  },
  {
   "cell_type": "code",
   "execution_count": 99,
   "id": "3bc62649",
   "metadata": {},
   "outputs": [],
   "source": [
    "mod = LinearRegression().fit(fd,target)"
   ]
  },
  {
   "cell_type": "code",
   "execution_count": 100,
   "id": "8b287d5a",
   "metadata": {},
   "outputs": [
    {
     "data": {
      "text/plain": [
       "0.01502258912166965"
      ]
     },
     "execution_count": 100,
     "metadata": {},
     "output_type": "execute_result"
    }
   ],
   "source": [
    "mod.score(fd,target)"
   ]
  },
  {
   "cell_type": "code",
   "execution_count": 101,
   "id": "3f9e1e3f",
   "metadata": {},
   "outputs": [],
   "source": [
    "#pred_df =pd.DataFrame(de_normalizeTargets(mod.predict(pd.DataFrame(np.stack(vali_x,axis=1)).T),'validation'))\n",
    "pred_df =pd.DataFrame(de_normalizeTargets(mod.predict(pd.DataFrame(vali_x)),'validation'))"
   ]
  },
  {
   "cell_type": "code",
   "execution_count": 102,
   "id": "de77cf36",
   "metadata": {},
   "outputs": [
    {
     "data": {
      "text/html": [
       "<div>\n",
       "<style scoped>\n",
       "    .dataframe tbody tr th:only-of-type {\n",
       "        vertical-align: middle;\n",
       "    }\n",
       "\n",
       "    .dataframe tbody tr th {\n",
       "        vertical-align: top;\n",
       "    }\n",
       "\n",
       "    .dataframe thead th {\n",
       "        text-align: right;\n",
       "    }\n",
       "</style>\n",
       "<table border=\"1\" class=\"dataframe\">\n",
       "  <thead>\n",
       "    <tr style=\"text-align: right;\">\n",
       "      <th></th>\n",
       "      <th>0</th>\n",
       "    </tr>\n",
       "  </thead>\n",
       "  <tbody>\n",
       "    <tr>\n",
       "      <th>0</th>\n",
       "      <td>6.928460e-07</td>\n",
       "    </tr>\n",
       "    <tr>\n",
       "      <th>1</th>\n",
       "      <td>6.602890e-07</td>\n",
       "    </tr>\n",
       "    <tr>\n",
       "      <th>2</th>\n",
       "      <td>5.626180e-07</td>\n",
       "    </tr>\n",
       "    <tr>\n",
       "      <th>3</th>\n",
       "      <td>4.649471e-07</td>\n",
       "    </tr>\n",
       "    <tr>\n",
       "      <th>4</th>\n",
       "      <td>6.277320e-07</td>\n",
       "    </tr>\n",
       "    <tr>\n",
       "      <th>...</th>\n",
       "      <td>...</td>\n",
       "    </tr>\n",
       "    <tr>\n",
       "      <th>495</th>\n",
       "      <td>5.626180e-07</td>\n",
       "    </tr>\n",
       "    <tr>\n",
       "      <th>496</th>\n",
       "      <td>6.277320e-07</td>\n",
       "    </tr>\n",
       "    <tr>\n",
       "      <th>497</th>\n",
       "      <td>5.626180e-07</td>\n",
       "    </tr>\n",
       "    <tr>\n",
       "      <th>498</th>\n",
       "      <td>5.300610e-07</td>\n",
       "    </tr>\n",
       "    <tr>\n",
       "      <th>499</th>\n",
       "      <td>6.277320e-07</td>\n",
       "    </tr>\n",
       "  </tbody>\n",
       "</table>\n",
       "<p>500 rows × 1 columns</p>\n",
       "</div>"
      ],
      "text/plain": [
       "                0\n",
       "0    6.928460e-07\n",
       "1    6.602890e-07\n",
       "2    5.626180e-07\n",
       "3    4.649471e-07\n",
       "4    6.277320e-07\n",
       "..            ...\n",
       "495  5.626180e-07\n",
       "496  6.277320e-07\n",
       "497  5.626180e-07\n",
       "498  5.300610e-07\n",
       "499  6.277320e-07\n",
       "\n",
       "[500 rows x 1 columns]"
      ]
     },
     "execution_count": 102,
     "metadata": {},
     "output_type": "execute_result"
    }
   ],
   "source": [
    "pred_df"
   ]
  },
  {
   "cell_type": "code",
   "execution_count": 103,
   "id": "e27b391e",
   "metadata": {},
   "outputs": [
    {
     "data": {
      "image/png": "[encoded data removed]",
      "text/plain": [
       "<Figure size 432x288 with 1 Axes>"
      ]
     },
     "metadata": {
      "needs_background": "light"
     },
     "output_type": "display_data"
    }
   ],
   "source": [
    "(pred_df-true_df)\n",
    "\n",
    "import seaborn as sns\n",
    "\n",
    "\n",
    "frames = [true_df, pred_df]\n",
    "\n",
    "\n",
    "result =pd.concat([true_df,pred_df.rename(columns={'b':'a'})], ignore_index=True,axis=1)\n",
    "sns.scatterplot(data=result,x=1,y=0)\n",
    " \n",
    "# Show the plot\n",
    "plt.show()"
   ]
  },
  {
   "cell_type": "code",
   "execution_count": 104,
   "id": "288ca552",
   "metadata": {},
   "outputs": [
    {
     "data": {
      "text/html": [
       "<div>\n",
       "<style scoped>\n",
       "    .dataframe tbody tr th:only-of-type {\n",
       "        vertical-align: middle;\n",
       "    }\n",
       "\n",
       "    .dataframe tbody tr th {\n",
       "        vertical-align: top;\n",
       "    }\n",
       "\n",
       "    .dataframe thead th {\n",
       "        text-align: right;\n",
       "    }\n",
       "</style>\n",
       "<table border=\"1\" class=\"dataframe\">\n",
       "  <thead>\n",
       "    <tr style=\"text-align: right;\">\n",
       "      <th></th>\n",
       "      <th>0</th>\n",
       "      <th>1</th>\n",
       "    </tr>\n",
       "  </thead>\n",
       "  <tbody>\n",
       "    <tr>\n",
       "      <th>0</th>\n",
       "      <td>6.755989e-07</td>\n",
       "      <td>6.928460e-07</td>\n",
       "    </tr>\n",
       "    <tr>\n",
       "      <th>1</th>\n",
       "      <td>8.491505e-07</td>\n",
       "      <td>6.602890e-07</td>\n",
       "    </tr>\n",
       "    <tr>\n",
       "      <th>2</th>\n",
       "      <td>5.001767e-07</td>\n",
       "      <td>5.626180e-07</td>\n",
       "    </tr>\n",
       "    <tr>\n",
       "      <th>3</th>\n",
       "      <td>4.164871e-07</td>\n",
       "      <td>4.649471e-07</td>\n",
       "    </tr>\n",
       "    <tr>\n",
       "      <th>4</th>\n",
       "      <td>1.642206e-07</td>\n",
       "      <td>6.277320e-07</td>\n",
       "    </tr>\n",
       "    <tr>\n",
       "      <th>...</th>\n",
       "      <td>...</td>\n",
       "      <td>...</td>\n",
       "    </tr>\n",
       "    <tr>\n",
       "      <th>495</th>\n",
       "      <td>1.544302e-07</td>\n",
       "      <td>5.626180e-07</td>\n",
       "    </tr>\n",
       "    <tr>\n",
       "      <th>496</th>\n",
       "      <td>4.130613e-07</td>\n",
       "      <td>6.277320e-07</td>\n",
       "    </tr>\n",
       "    <tr>\n",
       "      <th>497</th>\n",
       "      <td>1.741429e-07</td>\n",
       "      <td>5.626180e-07</td>\n",
       "    </tr>\n",
       "    <tr>\n",
       "      <th>498</th>\n",
       "      <td>4.913616e-07</td>\n",
       "      <td>5.300610e-07</td>\n",
       "    </tr>\n",
       "    <tr>\n",
       "      <th>499</th>\n",
       "      <td>2.157441e-07</td>\n",
       "      <td>6.277320e-07</td>\n",
       "    </tr>\n",
       "  </tbody>\n",
       "</table>\n",
       "<p>500 rows × 2 columns</p>\n",
       "</div>"
      ],
      "text/plain": [
       "                0             1\n",
       "0    6.755989e-07  6.928460e-07\n",
       "1    8.491505e-07  6.602890e-07\n",
       "2    5.001767e-07  5.626180e-07\n",
       "3    4.164871e-07  4.649471e-07\n",
       "4    1.642206e-07  6.277320e-07\n",
       "..            ...           ...\n",
       "495  1.544302e-07  5.626180e-07\n",
       "496  4.130613e-07  6.277320e-07\n",
       "497  1.741429e-07  5.626180e-07\n",
       "498  4.913616e-07  5.300610e-07\n",
       "499  2.157441e-07  6.277320e-07\n",
       "\n",
       "[500 rows x 2 columns]"
      ]
     },
     "execution_count": 104,
     "metadata": {},
     "output_type": "execute_result"
    }
   ],
   "source": [
    "result"
   ]
  },
  {
   "cell_type": "code",
   "execution_count": 105,
   "id": "f24f1c6c",
   "metadata": {},
   "outputs": [],
   "source": [
    "from scipy.stats import spearmanr\n",
    "rho, p = spearmanr(pred_df,true_df)\n"
   ]
  },
  {
   "cell_type": "code",
   "execution_count": 106,
   "id": "fb711ed4",
   "metadata": {},
   "outputs": [
    {
     "data": {
      "text/plain": [
       "-0.011981062311737057"
      ]
     },
     "execution_count": 106,
     "metadata": {},
     "output_type": "execute_result"
    }
   ],
   "source": [
    "rho"
   ]
  },
  {
   "cell_type": "code",
   "execution_count": 107,
   "id": "b0b85637",
   "metadata": {},
   "outputs": [
    {
     "data": {
      "text/plain": [
       "0.7892814879644657"
      ]
     },
     "execution_count": 107,
     "metadata": {},
     "output_type": "execute_result"
    }
   ],
   "source": [
    "p"
   ]
  },
  {
   "cell_type": "code",
   "execution_count": null,
   "id": "1b18ea21",
   "metadata": {},
   "outputs": [],
   "source": []
  },
  {
   "cell_type": "code",
   "execution_count": null,
   "id": "84ee81d4",
   "metadata": {},
   "outputs": [],
   "source": []
  },
  {
   "cell_type": "code",
   "execution_count": null,
   "id": "28af9c47",
   "metadata": {},
   "outputs": [],
   "source": []
  },
  {
   "cell_type": "code",
   "execution_count": null,
   "id": "61e05a98",
   "metadata": {},
   "outputs": [],
   "source": []
  }
 ],
 "metadata": {
  "kernelspec": {
   "display_name": "Python 3 (ipykernel)",
   "language": "python",
   "name": "python3"
  },
  "language_info": {
   "codemirror_mode": {
    "name": "ipython",
    "version": 3
   },
   "file_extension": ".py",
   "mimetype": "text/x-python",
   "name": "python",
   "nbconvert_exporter": "python",
   "pygments_lexer": "ipython3",
   "version": "3.9.12"
  }
 },
 "nbformat": 4,
 "nbformat_minor": 5
}
