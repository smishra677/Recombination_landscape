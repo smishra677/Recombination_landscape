{
 "cells": [
  {
   "cell_type": "code",
   "execution_count": 90,
   "id": "03f7f087",
   "metadata": {},
   "outputs": [],
   "source": [
    "import pandas as pd\n",
    "from collections import Counter"
   ]
  },
  {
   "cell_type": "code",
   "execution_count": 91,
   "id": "2c77dd95",
   "metadata": {},
   "outputs": [],
   "source": [
    "import os\n",
    "import random\n",
    "import numpy as np\n",
    "import pickle\n",
    "import absl.logging\n",
    "absl.logging.set_verbosity(absl.logging.ERROR)\n",
    "import seaborn as sns\n",
    "import matplotlib.pyplot as plt"
   ]
  },
  {
   "cell_type": "code",
   "execution_count": 92,
   "id": "65dfc331",
   "metadata": {},
   "outputs": [],
   "source": [
    "def normalizeTargets(i,file):\n",
    "    ratefile =  os.path.join(file,file+\"_rate.npy\")\n",
    "    \n",
    "    nTargets_1 =np.load(ratefile)\n",
    "    \n",
    "    ratefile_train =  os.path.join('train','train'+\"_rate.npy\")\n",
    "    #ratefile_train =  os.path.join(file,file+\"_rate.npy\")\n",
    "    \n",
    "    nTa =np.load(ratefile_train)\n",
    "    \n",
    "\n",
    "    \n",
    "    mean = np.mean(nTa,axis=0)\n",
    "    std = np.std(nTa,axis=0)\n",
    "    \n",
    "    norm = 'zscore'\n",
    "\n",
    "    if(norm == 'zscore'):\n",
    "        nTargets =nTargets_1- mean\n",
    "        nTargets = np.divide(nTargets,std,out=np.zeros_like(nTargets),where=std!=0)\n",
    "        \n",
    "    else:\n",
    "        nTargets = -np.log(nTargets_1)\n",
    "\n",
    "    return nTargets[i]"
   ]
  },
  {
   "cell_type": "code",
   "execution_count": 93,
   "id": "df4ca3b2",
   "metadata": {},
   "outputs": [],
   "source": [
    "def de_normalizeTargets(error,file='train'):\n",
    "    ratefile =  os.path.join(file,file+\"_rate.npy\")\n",
    "\n",
    "    nTargets_1 =np.load(ratefile)\n",
    "\n",
    "    ratefile_train =  os.path.join('train','train'+\"_rate.npy\")\n",
    "    \n",
    "    #ratefile_train =  os.path.join(file,file+\"_rate.npy\")\n",
    "    \n",
    "    nTa =np.load(ratefile_train)\n",
    "    \n",
    "\n",
    "    \n",
    "    mean = np.mean(nTa,axis=0)\n",
    "    std = np.std(nTa,axis=0)\n",
    "\n",
    "\n",
    "    erro = np.dot(error,std)+mean\n",
    "\n",
    "    '''\n",
    "    erro = np.exp(-error)\n",
    "    '''\n",
    "    return erro"
   ]
  },
  {
   "cell_type": "code",
   "execution_count": 104,
   "id": "2f7919cd",
   "metadata": {},
   "outputs": [],
   "source": [
    "def SNP_WINDOW(w,r,i,file):\n",
    " \n",
    "    #respectiveNormalizedTargets = [normalizeTargets(i,file)]\n",
    "    #targets = np.array(respectiveNormalizedTargets)\n",
    "    lis=[]\n",
    "    for i in w:\n",
    "            co = dict(Counter(i))\n",
    "            if len(co.keys())==2:\n",
    "                lis.append(co[min(co,key=co.get)]/len(i))\n",
    "       \n",
    "    bins = np.linspace(0, 1, 20)\n",
    "\n",
    "    bin_means,bins = np.histogram(lis, bins, normed=True, density=True)\n",
    "    print(bin_means)\n",
    "    bins= bins[1:]\n",
    "    bin_means= bin_means/bin_means.sum()\n",
    "    plt.bar(range(19),bin_means)\n",
    "    plt.show()\n",
    "    \n",
    "\n",
    "    \n",
    "    \n",
    "\n",
    "    return bin_means"
   ]
  },
  {
   "cell_type": "code",
   "execution_count": 105,
   "id": "b663bb88",
   "metadata": {},
   "outputs": [],
   "source": [
    "def __data_generation1(batchTreeIndices,file):\n",
    "\n",
    "        haps = []\n",
    "        pos = []\n",
    "        rate =[]\n",
    "        for treeIndex in batchTreeIndices:\n",
    "            Hfilepath = os.path.join(file,str(treeIndex) + \"_haps.npy\")\n",
    "            Pfilepath = os.path.join(file, str(treeIndex) +\"_pos.npy\")\n",
    "            H = np.load(Hfilepath)\n",
    "            P = np.load(Pfilepath)\n",
    "\n",
    "            haps.append(H)\n",
    "            pos.append(P)\n",
    "\n",
    "        return haps,pos\n",
    "\n",
    "\n",
    "            \n",
    "def __getitem__1(idx,val):\n",
    "    X,x1= __data_generation1([idx],val)\n",
    "    return X,x1"
   ]
  },
  {
   "cell_type": "code",
   "execution_count": 108,
   "id": "cb37b100",
   "metadata": {},
   "outputs": [
    {
     "name": "stderr",
     "output_type": "stream",
     "text": [
      "/tmp/ipykernel_63517/2945294503.py:13: DeprecationWarning: The normed argument is ignored when density is provided. In future passing both will result in an error.\n",
      "  bin_means,bins = np.histogram(lis, bins, normed=True, density=True)\n"
     ]
    },
    {
     "name": "stdout",
     "output_type": "stream",
     "text": [
      "[11.875  0.     0.     2.375  0.     2.375  2.375  0.     0.     0.\n",
      "  0.     0.     0.     0.     0.     0.     0.     0.     0.   ]\n"
     ]
    },
    {
     "data": {
      "image/png": "[encoded data removed]",
      "text/plain": [
       "<Figure size 432x288 with 1 Axes>"
      ]
     },
     "metadata": {
      "needs_background": "light"
     },
     "output_type": "display_data"
    }
   ],
   "source": [
    "x,pos= __getitem__1(0,'train')\n",
    "\n",
    "vale1 = SNP_WINDOW(x[0],pos[0],0,'train')"
   ]
  },
  {
   "cell_type": "code",
   "execution_count": 110,
   "id": "19dc42b5",
   "metadata": {},
   "outputs": [
    {
     "name": "stdout",
     "output_type": "stream",
     "text": [
      "[3.8  2.85 2.85 0.95 0.95 1.9  0.95 1.9  2.85 0.   0.   0.   0.   0.\n",
      " 0.   0.   0.   0.   0.  ]\n"
     ]
    },
    {
     "name": "stderr",
     "output_type": "stream",
     "text": [
      "/tmp/ipykernel_63517/2945294503.py:13: DeprecationWarning: The normed argument is ignored when density is provided. In future passing both will result in an error.\n",
      "  bin_means,bins = np.histogram(lis, bins, normed=True, density=True)\n"
     ]
    },
    {
     "data": {
      "image/png": "[encoded data removed]",
      "text/plain": [
       "<Figure size 432x288 with 1 Axes>"
      ]
     },
     "metadata": {
      "needs_background": "light"
     },
     "output_type": "display_data"
    }
   ],
   "source": [
    "x,pos= __getitem__1(0,'validation')\n",
    "\n",
    "\n",
    "vale1 = SNP_WINDOW(x[0],pos[0],0,'validation')"
   ]
  },
  {
   "cell_type": "code",
   "execution_count": 112,
   "id": "edaf03d9",
   "metadata": {},
   "outputs": [
    {
     "name": "stderr",
     "output_type": "stream",
     "text": [
      "/tmp/ipykernel_63517/2945294503.py:13: DeprecationWarning: The normed argument is ignored when density is provided. In future passing both will result in an error.\n",
      "  bin_means,bins = np.histogram(lis, bins, normed=True, density=True)\n"
     ]
    },
    {
     "name": "stdout",
     "output_type": "stream",
     "text": [
      "[5.18181818 1.72727273 1.72727273 1.72727273 1.72727273 3.45454545\n",
      " 0.         0.         3.45454545 0.         0.         0.\n",
      " 0.         0.         0.         0.         0.         0.\n",
      " 0.        ]\n"
     ]
    },
    {
     "data": {
      "image/png": "[encoded data removed]",
      "text/plain": [
       "<Figure size 432x288 with 1 Axes>"
      ]
     },
     "metadata": {
      "needs_background": "light"
     },
     "output_type": "display_data"
    }
   ],
   "source": [
    "x,pos= __getitem__1(0,'test')\n",
    "\n",
    "vale1 = SNP_WINDOW(x[0],pos[0],0,'test')"
   ]
  },
  {
   "cell_type": "code",
   "execution_count": null,
   "id": "8f64eb1a",
   "metadata": {},
   "outputs": [],
   "source": []
  },
  {
   "cell_type": "code",
   "execution_count": null,
   "id": "993bfde5",
   "metadata": {},
   "outputs": [],
   "source": []
  },
  {
   "cell_type": "code",
   "execution_count": null,
   "id": "ae8cfb92",
   "metadata": {},
   "outputs": [],
   "source": []
  }
 ],
 "metadata": {
  "kernelspec": {
   "display_name": "Python 3 (ipykernel)",
   "language": "python",
   "name": "python3"
  },
  "language_info": {
   "codemirror_mode": {
    "name": "ipython",
    "version": 3
   },
   "file_extension": ".py",
   "mimetype": "text/x-python",
   "name": "python",
   "nbconvert_exporter": "python",
   "pygments_lexer": "ipython3",
   "version": "3.9.12"
  }
 },
 "nbformat": 4,
 "nbformat_minor": 5
}
