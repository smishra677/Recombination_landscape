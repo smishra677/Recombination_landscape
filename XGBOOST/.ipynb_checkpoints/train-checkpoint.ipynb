{
 "cells": [
  {
   "cell_type": "code",
   "execution_count": 1,
   "id": "c2c11d1a",
   "metadata": {},
   "outputs": [],
   "source": [
    "import pandas as pd\n",
    "from collections import Counter"
   ]
  },
  {
   "cell_type": "code",
   "execution_count": 2,
   "id": "03c9e2fc",
   "metadata": {},
   "outputs": [],
   "source": [
    "import os\n",
    "import random\n",
    "import numpy as np\n",
    "import pickle\n",
    "import absl.logging\n",
    "absl.logging.set_verbosity(absl.logging.ERROR)\n",
    "import seaborn as sns\n",
    "import matplotlib.pyplot as plt"
   ]
  },
  {
   "cell_type": "code",
   "execution_count": 19,
   "id": "b8fbd54b",
   "metadata": {},
   "outputs": [],
   "source": [
    "def normalizeTargets(i,file):\n",
    "    ratefile =  os.path.join(file+\"_rate.npy\")\n",
    "    nTargets_1 =np.load(ratefile)\n",
    "\n",
    "    norm = 'zscore'\n",
    "    if(norm == 'zscore'):\n",
    "        tar_mean = np.mean(nTargets_1,axis=0)\n",
    "        tar_sd = np.std(nTargets_1,axis=0)\n",
    "        nTargets =nTargets_1- tar_mean\n",
    "        nTargets = np.divide(nTargets,tar_sd,out=np.zeros_like(nTargets),where=tar_sd!=0)\n",
    "\n",
    "    return nTargets[i]"
   ]
  },
  {
   "cell_type": "code",
   "execution_count": 20,
   "id": "07a503ed",
   "metadata": {},
   "outputs": [],
   "source": [
    "def z_normalizeTargets(error,file):\n",
    "    infoFilename= os.path.join('./'+file+'/',\"train_rate.npy\")\n",
    "    nTargets_1 = pickle.load(open(infoFilename,\"rb\"))['rho']\n",
    "\n",
    "    tar_mean = np.mean(nTargets_1,axis=0)\n",
    "    tar_sd = np.std(nTargets_1,axis=0)\n",
    "    erro = np.dot(error,tar_sd)+tar_mean\n",
    "\n",
    "\n",
    "    return erro"
   ]
  },
  {
   "cell_type": "code",
   "execution_count": 21,
   "id": "1ffeadc1",
   "metadata": {},
   "outputs": [],
   "source": [
    "def SNP_WINDOW(w,r,i,file):\n",
    " \n",
    "    respectiveNormalizedTargets = [normalizeTargets(i,file)]\n",
    "    targets = np.array(respectiveNormalizedTargets)\n",
    "    lis=[]\n",
    "\n",
    "    for i in w:\n",
    "        co = dict(Counter(i))\n",
    "        if len(co.keys())==2:\n",
    "            lis.append(co[min(co,key=co.get)]/len(i))\n",
    "    bins = np.linspace(0, 1, 20)\n",
    "\n",
    "    bin_means,bins = np.histogram(lis, bins, normed=True, density=True)\n",
    "    bins= bins[1:]\n",
    "    bin_means= bin_means/bin_means.sum()\n",
    "    \n",
    "\n",
    "    \n",
    "    \n",
    "\n",
    "    return np.array(bins),np.array(targets),np.array(bin_means)"
   ]
  },
  {
   "cell_type": "code",
   "execution_count": 22,
   "id": "87c0e734",
   "metadata": {},
   "outputs": [],
   "source": [
    "def break_window(ha,po,ra,winsize):\n",
    "    print(len(ha))\n",
    "    bins = np.linspace(0, len(ha),winsize)\n",
    "\n",
    "    bin_means,bins = np.histogram(ha, bins)\n",
    "    print(bin_means)"
   ]
  },
  {
   "cell_type": "code",
   "execution_count": 23,
   "id": "633a7779",
   "metadata": {},
   "outputs": [],
   "source": [
    "def __data_generation1(batchTreeIndices,file):\n",
    "\n",
    "        haps = []\n",
    "        pos = []\n",
    "        #rate =[]\n",
    "        for treeIndex in batchTreeIndices:\n",
    "            Hfilepath = os.path.join(file,str(treeIndex) + \"_haps.npy\")\n",
    "            Pfilepath = os.path.join(file, str(treeIndex) +\"_pos.npy\")\n",
    "            #ratefile =  os.path.join(file, str(treeIndex) +\"_rate.npy\")\n",
    "            H = np.load(Hfilepath)\n",
    "            P = np.load(Pfilepath)\n",
    "            #R = np.load(ratefile)\n",
    "            haps.append(H)\n",
    "            pos.append(P)\n",
    "            #rate.append(R)\n",
    "\n",
    "       \n",
    "        return haps,pos,rate\n",
    "\n",
    "\n",
    "            \n",
    "def __getitem__1(idx,val):\n",
    "    X,x1,x2= __data_generation1([idx],val)\n",
    "    return X,x1,x2"
   ]
  },
  {
   "cell_type": "code",
   "execution_count": 24,
   "id": "1aa9be68",
   "metadata": {},
   "outputs": [
    {
     "ename": "FileNotFoundError",
     "evalue": "[Errno 2] No such file or directory: 'train/0_rate.npy'",
     "output_type": "error",
     "traceback": [
      "\u001b[0;31m---------------------------------------------------------------------------\u001b[0m",
      "\u001b[0;31mFileNotFoundError\u001b[0m                         Traceback (most recent call last)",
      "Input \u001b[0;32mIn [24]\u001b[0m, in \u001b[0;36m<cell line: 1>\u001b[0;34m()\u001b[0m\n\u001b[0;32m----> 1\u001b[0m Haps,Pos,Rate \u001b[38;5;241m=\u001b[39m \u001b[43m__getitem__1\u001b[49m\u001b[43m(\u001b[49m\u001b[38;5;241;43m0\u001b[39;49m\u001b[43m,\u001b[49m\u001b[38;5;124;43m'\u001b[39;49m\u001b[38;5;124;43mtrain\u001b[39;49m\u001b[38;5;124;43m'\u001b[39;49m\u001b[43m)\u001b[49m\n",
      "Input \u001b[0;32mIn [23]\u001b[0m, in \u001b[0;36m__getitem__1\u001b[0;34m(idx, val)\u001b[0m\n\u001b[1;32m     22\u001b[0m \u001b[38;5;28;01mdef\u001b[39;00m \u001b[38;5;21m__getitem__1\u001b[39m(idx,val):\n\u001b[0;32m---> 23\u001b[0m     X,x1,x2\u001b[38;5;241m=\u001b[39m \u001b[43m__data_generation1\u001b[49m\u001b[43m(\u001b[49m\u001b[43m[\u001b[49m\u001b[43midx\u001b[49m\u001b[43m]\u001b[49m\u001b[43m,\u001b[49m\u001b[43mval\u001b[49m\u001b[43m)\u001b[49m\n\u001b[1;32m     24\u001b[0m     \u001b[38;5;28;01mreturn\u001b[39;00m X,x1,x2\n",
      "Input \u001b[0;32mIn [23]\u001b[0m, in \u001b[0;36m__data_generation1\u001b[0;34m(batchTreeIndices, file)\u001b[0m\n\u001b[1;32m     10\u001b[0m H \u001b[38;5;241m=\u001b[39m np\u001b[38;5;241m.\u001b[39mload(Hfilepath)\n\u001b[1;32m     11\u001b[0m P \u001b[38;5;241m=\u001b[39m np\u001b[38;5;241m.\u001b[39mload(Pfilepath)\n\u001b[0;32m---> 12\u001b[0m R \u001b[38;5;241m=\u001b[39m \u001b[43mnp\u001b[49m\u001b[38;5;241;43m.\u001b[39;49m\u001b[43mload\u001b[49m\u001b[43m(\u001b[49m\u001b[43mratefile\u001b[49m\u001b[43m)\u001b[49m\n\u001b[1;32m     13\u001b[0m haps\u001b[38;5;241m.\u001b[39mappend(H)\n\u001b[1;32m     14\u001b[0m pos\u001b[38;5;241m.\u001b[39mappend(P)\n",
      "File \u001b[0;32m~/anaconda3/lib/python3.9/site-packages/numpy/lib/npyio.py:407\u001b[0m, in \u001b[0;36mload\u001b[0;34m(file, mmap_mode, allow_pickle, fix_imports, encoding)\u001b[0m\n\u001b[1;32m    405\u001b[0m     own_fid \u001b[38;5;241m=\u001b[39m \u001b[38;5;28;01mFalse\u001b[39;00m\n\u001b[1;32m    406\u001b[0m \u001b[38;5;28;01melse\u001b[39;00m:\n\u001b[0;32m--> 407\u001b[0m     fid \u001b[38;5;241m=\u001b[39m stack\u001b[38;5;241m.\u001b[39menter_context(\u001b[38;5;28;43mopen\u001b[39;49m\u001b[43m(\u001b[49m\u001b[43mos_fspath\u001b[49m\u001b[43m(\u001b[49m\u001b[43mfile\u001b[49m\u001b[43m)\u001b[49m\u001b[43m,\u001b[49m\u001b[43m \u001b[49m\u001b[38;5;124;43m\"\u001b[39;49m\u001b[38;5;124;43mrb\u001b[39;49m\u001b[38;5;124;43m\"\u001b[39;49m\u001b[43m)\u001b[49m)\n\u001b[1;32m    408\u001b[0m     own_fid \u001b[38;5;241m=\u001b[39m \u001b[38;5;28;01mTrue\u001b[39;00m\n\u001b[1;32m    410\u001b[0m \u001b[38;5;66;03m# Code to distinguish from NumPy binary files and pickles.\u001b[39;00m\n",
      "\u001b[0;31mFileNotFoundError\u001b[0m: [Errno 2] No such file or directory: 'train/0_rate.npy'"
     ]
    }
   ],
   "source": [
    "Haps,Pos,Rate = __getitem__1(0,'train')"
   ]
  },
  {
   "cell_type": "code",
   "execution_count": null,
   "id": "299168ef",
   "metadata": {},
   "outputs": [],
   "source": [
    "SNP_WINDOW(Haps[0],Pos[0],Rate[0],2)"
   ]
  },
  {
   "cell_type": "code",
   "execution_count": 11,
   "id": "63dac1f1",
   "metadata": {},
   "outputs": [
    {
     "data": {
      "text/plain": [
       "[array([[0, 1, 0, 1, 1, 1, 1, 1, 0, 0, 1, 0, 1, 1, 0, 0, 1, 0, 0, 1],\n",
       "        [1, 1, 1, 1, 1, 1, 1, 0, 1, 1, 1, 1, 0, 1, 1, 0, 1, 1, 1, 0]],\n",
       "       dtype=int32)]"
      ]
     },
     "execution_count": 11,
     "metadata": {},
     "output_type": "execute_result"
    }
   ],
   "source": [
    "Haps"
   ]
  },
  {
   "cell_type": "code",
   "execution_count": 73,
   "id": "f7088def",
   "metadata": {},
   "outputs": [
    {
     "data": {
      "text/plain": [
       "[array([786.49554], dtype=float32)]"
      ]
     },
     "execution_count": 73,
     "metadata": {},
     "output_type": "execute_result"
    }
   ],
   "source": [
    "Pos\n"
   ]
  },
  {
   "cell_type": "code",
   "execution_count": 75,
   "id": "ed4dee17",
   "metadata": {},
   "outputs": [
    {
     "data": {
      "text/plain": [
       "[array([7.67367442e-07])]"
      ]
     },
     "execution_count": 75,
     "metadata": {},
     "output_type": "execute_result"
    }
   ],
   "source": [
    "Rate"
   ]
  },
  {
   "cell_type": "code",
   "execution_count": null,
   "id": "26571f27",
   "metadata": {},
   "outputs": [],
   "source": []
  }
 ],
 "metadata": {
  "kernelspec": {
   "display_name": "Python 3 (ipykernel)",
   "language": "python",
   "name": "python3"
  },
  "language_info": {
   "codemirror_mode": {
    "name": "ipython",
    "version": 3
   },
   "file_extension": ".py",
   "mimetype": "text/x-python",
   "name": "python",
   "nbconvert_exporter": "python",
   "pygments_lexer": "ipython3",
   "version": "3.9.12"
  }
 },
 "nbformat": 4,
 "nbformat_minor": 5
}
