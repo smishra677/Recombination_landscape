{
 "cells": [
  {
   "cell_type": "code",
   "execution_count": 17,
   "id": "dac9fd34",
   "metadata": {},
   "outputs": [],
   "source": [
    "import tensorflow as tf"
   ]
  },
  {
   "cell_type": "code",
   "execution_count": 18,
   "id": "27e92cdd",
   "metadata": {},
   "outputs": [],
   "source": [
    "import pandas as pd\n",
    "from collections import Counter"
   ]
  },
  {
   "cell_type": "code",
   "execution_count": 65,
   "id": "5e1d038a",
   "metadata": {},
   "outputs": [],
   "source": [
    "from tensorflow import keras\n",
    "from tensorflow.keras import layers\n",
    "from tensorflow.keras.models import Model\n",
    "import os\n",
    "import random\n",
    "import numpy as np\n",
    "import pickle\n",
    "import absl.logging\n",
    "absl.logging.set_verbosity(absl.logging.ERROR)\n",
    "import seaborn as sns\n",
    "import matplotlib.pyplot as plt"
   ]
  },
  {
   "cell_type": "code",
   "execution_count": 20,
   "id": "38c855b9",
   "metadata": {},
   "outputs": [],
   "source": [
    "from ReLERNN import *"
   ]
  },
  {
   "cell_type": "markdown",
   "id": "e524f84d",
   "metadata": {},
   "source": [
    "# Function to get the Target from the simulation file"
   ]
  },
  {
   "cell_type": "code",
   "execution_count": 21,
   "id": "cf5080f9",
   "metadata": {},
   "outputs": [],
   "source": [
    "\n",
    "def normalizeTargets(i,file):\n",
    "    infoFilename= os.path.join('/N/u/samishr/Carbonate/Desktop/Recombination_landscape/ReLERNN-master/examples/example_output_pool/'+file,\"info.p\")\n",
    "    nTargets_1 = pickle.load(open(infoFilename,\"rb\"))['rho']\n",
    "\n",
    "    norm = 'zscore'\n",
    "    if(norm == 'zscore'):\n",
    "        tar_mean = np.mean(nTargets_1,axis=0)\n",
    "        tar_sd = np.std(nTargets_1,axis=0)\n",
    "        nTargets =nTargets_1- tar_mean\n",
    "        nTargets = np.divide(nTargets,tar_sd,out=np.zeros_like(nTargets),where=tar_sd!=0)\n",
    "\n",
    "    return nTargets[i]"
   ]
  },
  {
   "cell_type": "markdown",
   "id": "38b77430",
   "metadata": {},
   "source": [
    "# Calculate the score based on z-score"
   ]
  },
  {
   "cell_type": "code",
   "execution_count": 22,
   "id": "a41f0d2a",
   "metadata": {},
   "outputs": [],
   "source": [
    "def z_normalizeTargets(error,file):\n",
    "    infoFilename= os.path.join('/N/u/samishr/Carbonate/Desktop/Recombination_landscape/ReLERNN-master/examples/example_output_pool/'+file+'/',\"info.p\")\n",
    "    nTargets_1 = pickle.load(open(infoFilename,\"rb\"))['rho']\n",
    "\n",
    "    tar_mean = np.mean(nTargets_1,axis=0)\n",
    "    tar_sd = np.std(nTargets_1,axis=0)\n",
    "    erro = np.dot(error,tar_sd)+tar_mean\n",
    "\n",
    "\n",
    "    return erro"
   ]
  },
  {
   "cell_type": "markdown",
   "id": "64db7889",
   "metadata": {},
   "source": [
    "# Function to Bin the Minor Allele Frequency"
   ]
  },
  {
   "cell_type": "code",
   "execution_count": 23,
   "id": "53b4a3c7",
   "metadata": {},
   "outputs": [],
   "source": [
    "def SNP_WINDOW(w,r,i,file):\n",
    " \n",
    "    respectiveNormalizedTargets = [normalizeTargets(i,file)]\n",
    "    targets = np.array(respectiveNormalizedTargets)\n",
    "    lis=[]\n",
    "\n",
    "    for i in w:\n",
    "        co = dict(Counter(i))\n",
    "        if len(co.keys())==2:\n",
    "            lis.append(co[min(co,key=co.get)]/len(i))\n",
    "    bins = np.linspace(0, 1, 20)\n",
    "\n",
    "    bin_means,bins = np.histogram(lis, bins, normed=True, density=True)\n",
    "    bins= bins[1:]\n",
    "    bin_means= bin_means/bin_means.sum()\n",
    "    \n",
    "\n",
    "    \n",
    "    \n",
    "\n",
    "    return np.array(bins),np.array(targets),np.array(bin_means)\n",
    "\n",
    "\n"
   ]
  },
  {
   "cell_type": "markdown",
   "id": "12db4a33",
   "metadata": {},
   "source": [
    "# Get the Values and Create batch"
   ]
  },
  {
   "cell_type": "code",
   "execution_count": 24,
   "id": "0da5069d",
   "metadata": {},
   "outputs": [],
   "source": [
    "\n",
    "\n",
    "def __data_generation1(batchTreeIndices,val):\n",
    "\n",
    "        haps = []\n",
    "        pos = []\n",
    "        for treeIndex in batchTreeIndices:\n",
    "            Hfilepath = os.path.join('/N/u/samishr/Carbonate/Desktop/Recombination_landscape/ReLERNN-master/examples/example_output_pool/'+val+'/val/',str(treeIndex) + \"_haps.npy\")\n",
    "            Pfilepath = os.path.join('/N/u/samishr/Carbonate/Desktop/Recombination_landscape/ReLERNN-master/examples/example_output_pool/'+val+'/val/',str(treeIndex) + \"_pos.npy\")\n",
    "            H = np.load(Hfilepath)\n",
    "            P = np.load(Pfilepath)\n",
    "            haps.append(H)\n",
    "            pos.append(P)\n",
    "\n",
    "       \n",
    "        return haps,pos\n",
    "\n",
    "\n",
    "            \n",
    "def __getitem__1(idx,val):\n",
    "    X,x1= __data_generation1([idx],val)\n",
    "    return X,x1\n"
   ]
  },
  {
   "cell_type": "markdown",
   "id": "c204f9a9",
   "metadata": {},
   "source": [
    "# Create the Model"
   ]
  },
  {
   "cell_type": "code",
   "execution_count": 25,
   "id": "fe816c58",
   "metadata": {},
   "outputs": [
    {
     "name": "stderr",
     "output_type": "stream",
     "text": [
      "/tmp/ipykernel_30972/923325695.py:13: DeprecationWarning: The normed argument is ignored when density is provided. In future passing both will result in an error.\n",
      "  bin_means,bins = np.histogram(lis, bins, normed=True, density=True)\n"
     ]
    },
    {
     "name": "stdout",
     "output_type": "stream",
     "text": [
      "Model: \"model_1\"\n",
      "_________________________________________________________________\n",
      " Layer (type)                Output Shape              Param #   \n",
      "=================================================================\n",
      " input_2 (InputLayer)        [(None, 19, 1)]           0         \n",
      "                                                                 \n",
      " bidirectional_1 (Bidirectio  (None, 168)              43848     \n",
      " nal)                                                            \n",
      "                                                                 \n",
      " dense_2 (Dense)             (None, 256)               43264     \n",
      "                                                                 \n",
      " dropout_1 (Dropout)         (None, 256)               0         \n",
      "                                                                 \n",
      " dense_3 (Dense)             (None, 1)                 257       \n",
      "                                                                 \n",
      "=================================================================\n",
      "Total params: 87,369\n",
      "Trainable params: 87,369\n",
      "Non-trainable params: 0\n",
      "_________________________________________________________________\n"
     ]
    }
   ],
   "source": [
    "os.environ['PYTHONHASHSEED']=str(42)\n",
    "random.seed(42)\n",
    "np.random.seed(42)\n",
    "#nProc = mp.cpu_count()\n",
    "   \n",
    "\n",
    "projectDir = '/N/u/samishr/Carbonate/Desktop/Recombination_landscape/ReLERNN-master/examples/example_output_pool'\n",
    "trainDir = os.path.join(projectDir,\"train\")\n",
    "valiDir = os.path.join(projectDir,\"vali\")\n",
    "testDir = os.path.join(projectDir,\"test\")\n",
    "networkDir = os.path.join(projectDir,\"networks\")\n",
    "\n",
    "\n",
    "test_resultFile = os.path.join(networkDir,\"testResults.p\")\n",
    "test_resultFig = os.path.join(networkDir,\"testResults.pdf\")\n",
    "modelSave = os.path.join(networkDir,\"model.json\")\n",
    "weightsSave = os.path.join(networkDir,\"weights.h5\")\n",
    "\n",
    "\n",
    "maxSimS = 0\n",
    "winFILE=os.path.join(networkDir,\"windowSizes.txt\")\n",
    "with open(winFILE, \"r\") as fIN:\n",
    "    for line in fIN:\n",
    "        maxSimS=max([maxSimS, int(line.split()[5])])\n",
    "maxSegSites = 0\n",
    "\n",
    "for ds in [trainDir,valiDir,testDir]:\n",
    "    DsInfoDir = pickle.load(open(os.path.join(ds,\"info.p\"),\"rb\"))\n",
    "    segSitesInDs = max(DsInfoDir[\"segSites\"])\n",
    "    maxSegSites = max(maxSegSites,segSitesInDs)\n",
    "maxSegSites = max(maxSegSites, maxSimS)\n",
    "\n",
    "\n",
    "\n",
    "\n",
    "\n",
    "x,pos= __getitem__1(0,'train')\n",
    "\n",
    "\n",
    "vale2,targets,vale1 = SNP_WINDOW(x[0],pos[0],0,'train')\n",
    "\n",
    "value = tf.convert_to_tensor([vale1],dtype=None)\n",
    "\n",
    "xTrain = np.reshape(value[0], (value.shape[0], value.shape[1],1))\n",
    "\n",
    "sites= xTrain.shape\n",
    "\n",
    "genotype_inputs = layers.Input(shape=(xTrain.shape[1],xTrain.shape[2]))\n",
    "\n",
    "\n",
    "model1 = layers.Bidirectional(layers.GRU(84,return_sequences=False))(genotype_inputs)\n",
    "model1 = layers.Dense(256)(model1)\n",
    "model1 = layers.Dropout(0.35)(model1)\n",
    "output = layers.Dense(1)(model1)\n",
    "\n",
    "model1 = Model(inputs=genotype_inputs, outputs=[output])\n",
    "model1.compile(optimizer='Adam', loss='mse')\n",
    "model1.summary()\n",
    "\n",
    "\n",
    "\n"
   ]
  },
  {
   "cell_type": "markdown",
   "id": "51657943",
   "metadata": {},
   "source": [
    "# Create Batch file for Training Set"
   ]
  },
  {
   "cell_type": "code",
   "execution_count": 55,
   "id": "60d937cd",
   "metadata": {},
   "outputs": [
    {
     "name": "stderr",
     "output_type": "stream",
     "text": [
      "/tmp/ipykernel_30972/923325695.py:13: DeprecationWarning: The normed argument is ignored when density is provided. In future passing both will result in an error.\n",
      "  bin_means,bins = np.histogram(lis, bins, normed=True, density=True)\n"
     ]
    }
   ],
   "source": [
    "lis_=[]\n",
    "train_=[]\n",
    "for i in range(13000):\n",
    "    x,pos= __getitem__1(i,'train')\n",
    "    vale2,targets,vale1 = SNP_WINDOW(x[0],pos[0],i,'train')\n",
    "\n",
    "    lis_.append(vale1)\n",
    "    train_.append(targets)\n",
    "    \n",
    "value_train = tf.convert_to_tensor(lis_,dtype=None)\n",
    "target_train = tf.convert_to_tensor(train_,dtype=None)\n"
   ]
  },
  {
   "cell_type": "markdown",
   "id": "7503a2c3",
   "metadata": {},
   "source": [
    "# Create Batch for Testing Data"
   ]
  },
  {
   "cell_type": "code",
   "execution_count": 27,
   "id": "e4141966",
   "metadata": {},
   "outputs": [
    {
     "name": "stderr",
     "output_type": "stream",
     "text": [
      "/tmp/ipykernel_30972/923325695.py:13: DeprecationWarning: The normed argument is ignored when density is provided. In future passing both will result in an error.\n",
      "  bin_means,bins = np.histogram(lis, bins, normed=True, density=True)\n"
     ]
    }
   ],
   "source": [
    "lis_=[]\n",
    "train_=[]\n",
    "for i in range(100):\n",
    "    x,pos= __getitem__1(i,'test')\n",
    "    vale2,targets,vale1 = SNP_WINDOW(x[0],pos[0],i,'test')\n",
    "\n",
    "    lis_.append(vale1)\n",
    "    train_.append(targets)\n",
    "    \n",
    "value_test = tf.convert_to_tensor(lis_,dtype=None)\n",
    "target_test = tf.convert_to_tensor(train_,dtype=None)\n"
   ]
  },
  {
   "cell_type": "markdown",
   "id": "07f5e5e9",
   "metadata": {},
   "source": [
    "# Create Batch for validation Data"
   ]
  },
  {
   "cell_type": "code",
   "execution_count": 28,
   "id": "a68ae217",
   "metadata": {},
   "outputs": [
    {
     "name": "stderr",
     "output_type": "stream",
     "text": [
      "/tmp/ipykernel_30972/923325695.py:13: DeprecationWarning: The normed argument is ignored when density is provided. In future passing both will result in an error.\n",
      "  bin_means,bins = np.histogram(lis, bins, normed=True, density=True)\n"
     ]
    }
   ],
   "source": [
    "vali_x=[]\n",
    "vali_y=[]\n",
    "for i in range(1000):\n",
    "    x,pos= __getitem__1(i,'vali')\n",
    "\n",
    "    \n",
    "    vale2,targets,vale1 = SNP_WINDOW(x[0],pos[0],i,'vali')\n",
    "    \n",
    "    vali_x.append(vale1)\n",
    "    vali_y.append(targets)\n",
    "\n",
    "value_vali = tf.convert_to_tensor(vali_x,dtype=None)\n",
    "target_vali = tf.convert_to_tensor(vali_y,dtype=None)\n"
   ]
  },
  {
   "cell_type": "code",
   "execution_count": null,
   "id": "7f241aef",
   "metadata": {},
   "outputs": [],
   "source": [
    "value_vali"
   ]
  },
  {
   "cell_type": "markdown",
   "id": "86517deb",
   "metadata": {},
   "source": [
    "# Call Back function"
   ]
  },
  {
   "cell_type": "code",
   "execution_count": 29,
   "id": "ed46a9ef",
   "metadata": {},
   "outputs": [],
   "source": [
    "callbacks_list = [\n",
    "    EarlyStopping(\n",
    "    monitor='val_loss',\n",
    "    verbose=1,\n",
    "    min_delta=0.01,\n",
    "    patience=100),\n",
    "    ModelCheckpoint(\n",
    "    filepath='/N/u/samishr/Carbonate/Desktop/Recombination_landscape/ReLERNN-master/examples/example_output_pool/train/val',\n",
    "    monitor='val_loss',\n",
    "    save_best_only=True),\n",
    "    TerminateOnNaN()]\n",
    "\n",
    "\n"
   ]
  },
  {
   "cell_type": "code",
   "execution_count": null,
   "id": "f8f8b264",
   "metadata": {},
   "outputs": [],
   "source": []
  },
  {
   "cell_type": "code",
   "execution_count": null,
   "id": "87b73168",
   "metadata": {},
   "outputs": [],
   "source": []
  },
  {
   "cell_type": "markdown",
   "id": "c3504ff0",
   "metadata": {},
   "source": [
    "# Model Fitting"
   ]
  },
  {
   "cell_type": "code",
   "execution_count": 47,
   "id": "14c57119",
   "metadata": {},
   "outputs": [
    {
     "name": "stdout",
     "output_type": "stream",
     "text": [
      "Epoch 1/15\n",
      "1000/1000 [==============================] - 9s 9ms/step - loss: 0.3767 - val_loss: 0.3783\n",
      "Epoch 2/15\n",
      "1000/1000 [==============================] - 9s 9ms/step - loss: 0.3653 - val_loss: 0.3726\n",
      "Epoch 3/15\n",
      "1000/1000 [==============================] - 9s 9ms/step - loss: 0.3654 - val_loss: 0.3501\n",
      "Epoch 4/15\n",
      "1000/1000 [==============================] - 9s 9ms/step - loss: 0.3631 - val_loss: 0.3528\n",
      "Epoch 5/15\n",
      "1000/1000 [==============================] - 9s 9ms/step - loss: 0.3604 - val_loss: 0.3667\n",
      "Epoch 6/15\n",
      "1000/1000 [==============================] - 9s 9ms/step - loss: 0.3609 - val_loss: 0.3511\n",
      "Epoch 7/15\n",
      "1000/1000 [==============================] - 9s 9ms/step - loss: 0.3607 - val_loss: 0.3572\n",
      "Epoch 8/15\n",
      "1000/1000 [==============================] - 9s 9ms/step - loss: 0.3603 - val_loss: 0.3390\n",
      "Epoch 9/15\n",
      "1000/1000 [==============================] - 9s 9ms/step - loss: 0.3572 - val_loss: 0.3393\n",
      "Epoch 10/15\n",
      "1000/1000 [==============================] - 9s 9ms/step - loss: 0.3622 - val_loss: 0.3386\n",
      "Epoch 11/15\n",
      "1000/1000 [==============================] - 9s 9ms/step - loss: 0.3561 - val_loss: 0.3433\n",
      "Epoch 12/15\n",
      "1000/1000 [==============================] - 9s 9ms/step - loss: 0.3546 - val_loss: 0.3431\n",
      "Epoch 13/15\n",
      "1000/1000 [==============================] - 9s 9ms/step - loss: 0.3561 - val_loss: 0.3478\n",
      "Epoch 14/15\n",
      " 998/1000 [============================>.] - ETA: 0s - loss: 0.3526INFO:tensorflow:Assets written to: /N/u/samishr/Carbonate/Desktop/Recombination_landscape/ReLERNN-master/examples/example_output_pool/train/val/assets\n"
     ]
    },
    {
     "name": "stderr",
     "output_type": "stream",
     "text": [
      "INFO:tensorflow:Assets written to: /N/u/samishr/Carbonate/Desktop/Recombination_landscape/ReLERNN-master/examples/example_output_pool/train/val/assets\n"
     ]
    },
    {
     "name": "stdout",
     "output_type": "stream",
     "text": [
      "1000/1000 [==============================] - 24s 24ms/step - loss: 0.3523 - val_loss: 0.3346\n",
      "Epoch 15/15\n",
      "1000/1000 [==============================] - 9s 9ms/step - loss: 0.3522 - val_loss: 0.3380\n"
     ]
    }
   ],
   "source": [
    "history = model1.fit(value_train,target_train,\n",
    "steps_per_epoch=1000,\n",
    "epochs=15,\n",
    "callbacks=callbacks_list,\n",
    "validation_data =(value_vali,target_vali),\n",
    "use_multiprocessing=True)\n",
    "#model1.fit(xTrain,targets,epochs=5)\n",
    "    \n",
    "    \n",
    "model_json = model1.to_json()\n",
    "with open('/N/u/samishr/Carbonate/Desktop/Recombination_landscape/ReLERNN-master/examples/example_output_pool/train/val/model', \"w+\") as json_file:\n",
    "    json_file.write(model_json)\n",
    "\n",
    "\n",
    "history.history['loss'] = np.array(history.history['loss'])\n",
    "#history.history['val_loss'] = np.array(history.history['val_loss'])\n",
    "#history.history['predictions'] = np.array(predictions)\n",
    "history.history['Y_test'] = np.array(targets)\n",
    "history.history['name'] = 'ModelName'\n",
    "\n",
    "pickle.dump(history.history, open( 'resultsFile', \"wb\" ))"
   ]
  },
  {
   "cell_type": "code",
   "execution_count": 61,
   "id": "9d687bce",
   "metadata": {},
   "outputs": [
    {
     "data": {
      "text/plain": [
       "[0.3782947361469269,\n",
       " 0.3726363182067871,\n",
       " 0.3501492142677307,\n",
       " 0.3528112471103668,\n",
       " 0.36674559116363525,\n",
       " 0.3510673940181732,\n",
       " 0.3571929335594177,\n",
       " 0.33895668387413025,\n",
       " 0.33926841616630554,\n",
       " 0.3385832905769348,\n",
       " 0.343308687210083,\n",
       " 0.3430556356906891,\n",
       " 0.34782299399375916,\n",
       " 0.3345509469509125,\n",
       " 0.33798807859420776]"
      ]
     },
     "execution_count": 61,
     "metadata": {},
     "output_type": "execute_result"
    }
   ],
   "source": [
    "infoFilename= os.path.join(\"resultsFile\")\n",
    "ne = pickle.load(open(infoFilename,\"rb\"))\n",
    "ne['val_loss']"
   ]
  },
  {
   "cell_type": "code",
   "execution_count": 68,
   "id": "82044cf4",
   "metadata": {},
   "outputs": [],
   "source": [
    "de2= pd.DataFrame([ne['val_loss'],list(range(15))]).T"
   ]
  },
  {
   "cell_type": "code",
   "execution_count": 69,
   "id": "33b3e0c5",
   "metadata": {},
   "outputs": [
    {
     "data": {
      "text/html": [
       "<div>\n",
       "<style scoped>\n",
       "    .dataframe tbody tr th:only-of-type {\n",
       "        vertical-align: middle;\n",
       "    }\n",
       "\n",
       "    .dataframe tbody tr th {\n",
       "        vertical-align: top;\n",
       "    }\n",
       "\n",
       "    .dataframe thead th {\n",
       "        text-align: right;\n",
       "    }\n",
       "</style>\n",
       "<table border=\"1\" class=\"dataframe\">\n",
       "  <thead>\n",
       "    <tr style=\"text-align: right;\">\n",
       "      <th></th>\n",
       "      <th>0</th>\n",
       "      <th>1</th>\n",
       "    </tr>\n",
       "  </thead>\n",
       "  <tbody>\n",
       "    <tr>\n",
       "      <th>0</th>\n",
       "      <td>0.378295</td>\n",
       "      <td>0.0</td>\n",
       "    </tr>\n",
       "    <tr>\n",
       "      <th>1</th>\n",
       "      <td>0.372636</td>\n",
       "      <td>1.0</td>\n",
       "    </tr>\n",
       "    <tr>\n",
       "      <th>2</th>\n",
       "      <td>0.350149</td>\n",
       "      <td>2.0</td>\n",
       "    </tr>\n",
       "    <tr>\n",
       "      <th>3</th>\n",
       "      <td>0.352811</td>\n",
       "      <td>3.0</td>\n",
       "    </tr>\n",
       "    <tr>\n",
       "      <th>4</th>\n",
       "      <td>0.366746</td>\n",
       "      <td>4.0</td>\n",
       "    </tr>\n",
       "    <tr>\n",
       "      <th>5</th>\n",
       "      <td>0.351067</td>\n",
       "      <td>5.0</td>\n",
       "    </tr>\n",
       "    <tr>\n",
       "      <th>6</th>\n",
       "      <td>0.357193</td>\n",
       "      <td>6.0</td>\n",
       "    </tr>\n",
       "    <tr>\n",
       "      <th>7</th>\n",
       "      <td>0.338957</td>\n",
       "      <td>7.0</td>\n",
       "    </tr>\n",
       "    <tr>\n",
       "      <th>8</th>\n",
       "      <td>0.339268</td>\n",
       "      <td>8.0</td>\n",
       "    </tr>\n",
       "    <tr>\n",
       "      <th>9</th>\n",
       "      <td>0.338583</td>\n",
       "      <td>9.0</td>\n",
       "    </tr>\n",
       "    <tr>\n",
       "      <th>10</th>\n",
       "      <td>0.343309</td>\n",
       "      <td>10.0</td>\n",
       "    </tr>\n",
       "    <tr>\n",
       "      <th>11</th>\n",
       "      <td>0.343056</td>\n",
       "      <td>11.0</td>\n",
       "    </tr>\n",
       "    <tr>\n",
       "      <th>12</th>\n",
       "      <td>0.347823</td>\n",
       "      <td>12.0</td>\n",
       "    </tr>\n",
       "    <tr>\n",
       "      <th>13</th>\n",
       "      <td>0.334551</td>\n",
       "      <td>13.0</td>\n",
       "    </tr>\n",
       "    <tr>\n",
       "      <th>14</th>\n",
       "      <td>0.337988</td>\n",
       "      <td>14.0</td>\n",
       "    </tr>\n",
       "  </tbody>\n",
       "</table>\n",
       "</div>"
      ],
      "text/plain": [
       "           0     1\n",
       "0   0.378295   0.0\n",
       "1   0.372636   1.0\n",
       "2   0.350149   2.0\n",
       "3   0.352811   3.0\n",
       "4   0.366746   4.0\n",
       "5   0.351067   5.0\n",
       "6   0.357193   6.0\n",
       "7   0.338957   7.0\n",
       "8   0.339268   8.0\n",
       "9   0.338583   9.0\n",
       "10  0.343309  10.0\n",
       "11  0.343056  11.0\n",
       "12  0.347823  12.0\n",
       "13  0.334551  13.0\n",
       "14  0.337988  14.0"
      ]
     },
     "execution_count": 69,
     "metadata": {},
     "output_type": "execute_result"
    }
   ],
   "source": []
  },
  {
   "cell_type": "code",
   "execution_count": 72,
   "id": "20b9fe76",
   "metadata": {},
   "outputs": [],
   "source": [
    "\n",
    "plt.clf()\n",
    "ax =sns.lineplot(data=de2,x=1,y=0)\n",
    "ax.set(xlabel='Val_loss',ylabel='Epoch')\n",
    "plt.savefig(\"/N/u/samishr/Carbonate/Desktop/Recombination_landscape/Data_Processing/epoch_loss.png\")\n",
    "plt.clf()"
   ]
  },
  {
   "cell_type": "code",
   "execution_count": 78,
   "id": "ac4a2265",
   "metadata": {},
   "outputs": [],
   "source": [
    "erro=model1.predict(value_test)-target_test"
   ]
  },
  {
   "cell_type": "code",
   "execution_count": 79,
   "id": "3833d6c0",
   "metadata": {},
   "outputs": [],
   "source": [
    "erro= z_normalizeTargets(erro,'test')"
   ]
  },
  {
   "cell_type": "code",
   "execution_count": 80,
   "id": "f70c0f78",
   "metadata": {},
   "outputs": [],
   "source": [
    "de1= pd.DataFrame(erro)"
   ]
  },
  {
   "cell_type": "code",
   "execution_count": 81,
   "id": "18a54133",
   "metadata": {},
   "outputs": [
    {
     "data": {
      "text/html": [
       "<div>\n",
       "<style scoped>\n",
       "    .dataframe tbody tr th:only-of-type {\n",
       "        vertical-align: middle;\n",
       "    }\n",
       "\n",
       "    .dataframe tbody tr th {\n",
       "        vertical-align: top;\n",
       "    }\n",
       "\n",
       "    .dataframe thead th {\n",
       "        text-align: right;\n",
       "    }\n",
       "</style>\n",
       "<table border=\"1\" class=\"dataframe\">\n",
       "  <thead>\n",
       "    <tr style=\"text-align: right;\">\n",
       "      <th></th>\n",
       "      <th>0</th>\n",
       "    </tr>\n",
       "  </thead>\n",
       "  <tbody>\n",
       "    <tr>\n",
       "      <th>0</th>\n",
       "      <td>5.476100e-09</td>\n",
       "    </tr>\n",
       "    <tr>\n",
       "      <th>1</th>\n",
       "      <td>6.305009e-09</td>\n",
       "    </tr>\n",
       "    <tr>\n",
       "      <th>2</th>\n",
       "      <td>3.490014e-09</td>\n",
       "    </tr>\n",
       "    <tr>\n",
       "      <th>3</th>\n",
       "      <td>4.929563e-09</td>\n",
       "    </tr>\n",
       "    <tr>\n",
       "      <th>4</th>\n",
       "      <td>3.922370e-09</td>\n",
       "    </tr>\n",
       "    <tr>\n",
       "      <th>...</th>\n",
       "      <td>...</td>\n",
       "    </tr>\n",
       "    <tr>\n",
       "      <th>95</th>\n",
       "      <td>4.158451e-09</td>\n",
       "    </tr>\n",
       "    <tr>\n",
       "      <th>96</th>\n",
       "      <td>5.779596e-09</td>\n",
       "    </tr>\n",
       "    <tr>\n",
       "      <th>97</th>\n",
       "      <td>5.434546e-09</td>\n",
       "    </tr>\n",
       "    <tr>\n",
       "      <th>98</th>\n",
       "      <td>3.735014e-09</td>\n",
       "    </tr>\n",
       "    <tr>\n",
       "      <th>99</th>\n",
       "      <td>6.053336e-09</td>\n",
       "    </tr>\n",
       "  </tbody>\n",
       "</table>\n",
       "<p>100 rows × 1 columns</p>\n",
       "</div>"
      ],
      "text/plain": [
       "               0\n",
       "0   5.476100e-09\n",
       "1   6.305009e-09\n",
       "2   3.490014e-09\n",
       "3   4.929563e-09\n",
       "4   3.922370e-09\n",
       "..           ...\n",
       "95  4.158451e-09\n",
       "96  5.779596e-09\n",
       "97  5.434546e-09\n",
       "98  3.735014e-09\n",
       "99  6.053336e-09\n",
       "\n",
       "[100 rows x 1 columns]"
      ]
     },
     "execution_count": 81,
     "metadata": {},
     "output_type": "execute_result"
    }
   ],
   "source": [
    "de1"
   ]
  },
  {
   "cell_type": "code",
   "execution_count": 82,
   "id": "27e75169",
   "metadata": {},
   "outputs": [],
   "source": [
    "import seaborn as sns\n",
    "import matplotlib.pyplot as plt\n",
    "plt.clf()\n",
    "ax = sns.boxplot(data=de1)\n",
    "ax.set(xlabel='True',ylabel='Epoch')\n",
    "plt.savefig(\"/N/u/samishr/Carbonate/Desktop/Recombination_landscape/Data_Processing/fig1.png\")"
   ]
  },
  {
   "cell_type": "markdown",
   "id": "ac563f19",
   "metadata": {},
   "source": [
    "# Done"
   ]
  },
  {
   "cell_type": "code",
   "execution_count": null,
   "id": "6d77fb81",
   "metadata": {},
   "outputs": [],
   "source": []
  },
  {
   "cell_type": "code",
   "execution_count": null,
   "id": "824e0c27",
   "metadata": {
    "scrolled": true
   },
   "outputs": [],
   "source": [
    "infoFilename= os.path.join('/N/u/samishr/Carbonate/Desktop/Recombination_landscape/ReLERNN-master/examples/example_output_pool/train/',\"info.p\")\n",
    "ne = pickle.load(open(infoFilename,\"rb\"))['Ne']"
   ]
  },
  {
   "cell_type": "code",
   "execution_count": null,
   "id": "968192fb",
   "metadata": {},
   "outputs": [],
   "source": [
    "nTargets_1"
   ]
  },
  {
   "cell_type": "code",
   "execution_count": null,
   "id": "4a7389fd",
   "metadata": {},
   "outputs": [],
   "source": [
    "mu = pickle.load(open(infoFilename,\"rb\"))['mu']"
   ]
  },
  {
   "cell_type": "code",
   "execution_count": null,
   "id": "92e805ca",
   "metadata": {},
   "outputs": [],
   "source": [
    "nTargets_1"
   ]
  },
  {
   "cell_type": "code",
   "execution_count": null,
   "id": "32362334",
   "metadata": {},
   "outputs": [],
   "source": []
  },
  {
   "cell_type": "code",
   "execution_count": null,
   "id": "c5ec4251",
   "metadata": {},
   "outputs": [],
   "source": []
  },
  {
   "cell_type": "code",
   "execution_count": null,
   "id": "1c1c362f",
   "metadata": {},
   "outputs": [],
   "source": []
  },
  {
   "cell_type": "code",
   "execution_count": null,
   "id": "4e52786c",
   "metadata": {},
   "outputs": [],
   "source": []
  },
  {
   "cell_type": "code",
   "execution_count": null,
   "id": "092292f6",
   "metadata": {},
   "outputs": [],
   "source": []
  },
  {
   "cell_type": "code",
   "execution_count": null,
   "id": "4c7425ef",
   "metadata": {},
   "outputs": [],
   "source": []
  },
  {
   "cell_type": "code",
   "execution_count": null,
   "id": "04273505",
   "metadata": {},
   "outputs": [],
   "source": []
  },
  {
   "cell_type": "code",
   "execution_count": null,
   "id": "07cbfec7",
   "metadata": {},
   "outputs": [],
   "source": []
  },
  {
   "cell_type": "code",
   "execution_count": null,
   "id": "6f39fc62",
   "metadata": {},
   "outputs": [],
   "source": []
  },
  {
   "cell_type": "code",
   "execution_count": null,
   "id": "22558020",
   "metadata": {},
   "outputs": [],
   "source": []
  },
  {
   "cell_type": "code",
   "execution_count": null,
   "id": "c6ac37d5",
   "metadata": {},
   "outputs": [],
   "source": []
  }
 ],
 "metadata": {
  "kernelspec": {
   "display_name": "Python 3 (ipykernel)",
   "language": "python",
   "name": "python3"
  },
  "language_info": {
   "codemirror_mode": {
    "name": "ipython",
    "version": 3
   },
   "file_extension": ".py",
   "mimetype": "text/x-python",
   "name": "python",
   "nbconvert_exporter": "python",
   "pygments_lexer": "ipython3",
   "version": "3.9.8"
  }
 },
 "nbformat": 4,
 "nbformat_minor": 5
}
